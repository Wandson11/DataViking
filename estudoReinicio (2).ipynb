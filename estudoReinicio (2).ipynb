{
  "nbformat": 4,
  "nbformat_minor": 0,
  "metadata": {
    "colab": {
      "name": "estudoReinicio.ipynb",
      "provenance": [],
      "toc_visible": true
    },
    "kernelspec": {
      "name": "python3",
      "display_name": "Python 3"
    },
    "language_info": {
      "name": "python"
    }
  },
  "cells": [
    {
      "cell_type": "code",
      "execution_count": null,
      "metadata": {
        "colab": {
          "base_uri": "https://localhost:8080/"
        },
        "id": "p2CoeI-PRniH",
        "outputId": "31c14998-9223-4a4d-9446-7d717342b29a"
      },
      "outputs": [
        {
          "output_type": "execute_result",
          "data": {
            "text/plain": [
              "4"
            ]
          },
          "metadata": {},
          "execution_count": 1
        }
      ],
      "source": [
        "1+3\n"
      ]
    },
    {
      "cell_type": "code",
      "source": [
        "#subtracao\n",
        "4-2"
      ],
      "metadata": {
        "colab": {
          "base_uri": "https://localhost:8080/"
        },
        "id": "ZyUPS6LaRshM",
        "outputId": "ba25aae1-ddd5-4144-8c81-8b770c059a93"
      },
      "execution_count": null,
      "outputs": [
        {
          "output_type": "execute_result",
          "data": {
            "text/plain": [
              "2"
            ]
          },
          "metadata": {},
          "execution_count": 2
        }
      ]
    },
    {
      "cell_type": "code",
      "source": [
        "#multiplicação\n",
        "2 * 5"
      ],
      "metadata": {
        "colab": {
          "base_uri": "https://localhost:8080/"
        },
        "id": "QasM-zi7Rw5d",
        "outputId": "2f708d7c-34fa-41c0-843c-cd42c3a69bf8"
      },
      "execution_count": null,
      "outputs": [
        {
          "output_type": "execute_result",
          "data": {
            "text/plain": [
              "10"
            ]
          },
          "metadata": {},
          "execution_count": 3
        }
      ]
    },
    {
      "cell_type": "code",
      "source": [
        "#divisão\n",
        "2 / 4"
      ],
      "metadata": {
        "colab": {
          "base_uri": "https://localhost:8080/"
        },
        "id": "sFMTyJG1R0nX",
        "outputId": "3266f67a-cdc0-48e2-80a8-34dbd6b41d67"
      },
      "execution_count": null,
      "outputs": [
        {
          "output_type": "execute_result",
          "data": {
            "text/plain": [
              "0.5"
            ]
          },
          "metadata": {},
          "execution_count": 5
        }
      ]
    },
    {
      "cell_type": "code",
      "source": [
        "#exponenciação\n",
        "2 ** 4"
      ],
      "metadata": {
        "colab": {
          "base_uri": "https://localhost:8080/"
        },
        "id": "XtRAyuC3R3sh",
        "outputId": "a2b19433-8fa7-4528-8e1e-26bc0509b235"
      },
      "execution_count": null,
      "outputs": [
        {
          "output_type": "execute_result",
          "data": {
            "text/plain": [
              "16"
            ]
          },
          "metadata": {},
          "execution_count": 6
        }
      ]
    },
    {
      "cell_type": "code",
      "source": [
        "#resto da divisão\n",
        "2 % 4"
      ],
      "metadata": {
        "colab": {
          "base_uri": "https://localhost:8080/"
        },
        "id": "v4PFHNyNR_kk",
        "outputId": "ccd77285-c817-4bae-8bd2-9f05fd938472"
      },
      "execution_count": null,
      "outputs": [
        {
          "output_type": "execute_result",
          "data": {
            "text/plain": [
              "2"
            ]
          },
          "metadata": {},
          "execution_count": 7
        }
      ]
    },
    {
      "cell_type": "code",
      "source": [
        "#divisão de chao\n",
        "2 // 4"
      ],
      "metadata": {
        "colab": {
          "base_uri": "https://localhost:8080/"
        },
        "id": "CcUynGZTSHrN",
        "outputId": "8e6250eb-d427-4682-ed39-14e90dbd0120"
      },
      "execution_count": null,
      "outputs": [
        {
          "output_type": "execute_result",
          "data": {
            "text/plain": [
              "0"
            ]
          },
          "metadata": {},
          "execution_count": 8
        }
      ]
    },
    {
      "cell_type": "code",
      "source": [
        "# usar \\n para pular uma linha\n",
        "print('teste\\nnao precisa de espaço')"
      ],
      "metadata": {
        "colab": {
          "base_uri": "https://localhost:8080/"
        },
        "id": "rsSu9i95SNkm",
        "outputId": "8f599fba-5a65-420d-a177-a0d48a536b58"
      },
      "execution_count": null,
      "outputs": [
        {
          "output_type": "stream",
          "name": "stdout",
          "text": [
            "teste\n",
            "nao precisa de espaço\n"
          ]
        }
      ]
    },
    {
      "cell_type": "markdown",
      "source": [
        "Variáveis"
      ],
      "metadata": {
        "id": "fwVc-ETRje6P"
      }
    },
    {
      "cell_type": "code",
      "source": [
        "#não admite variavel com espaço, se for preciso separar, usar underline"
      ],
      "metadata": {
        "id": "mOcgK92-jhoz"
      },
      "execution_count": null,
      "outputs": []
    },
    {
      "cell_type": "code",
      "source": [
        "#variaveis de mesmo nome se sobreescrevem."
      ],
      "metadata": {
        "id": "6ntqmyRGtRBX"
      },
      "execution_count": null,
      "outputs": []
    },
    {
      "cell_type": "markdown",
      "source": [
        "# variável texto"
      ],
      "metadata": {
        "id": "WBM7OcaOte8V"
      }
    },
    {
      "cell_type": "code",
      "source": [
        "var_texto_1 = 'um texto qualquer'"
      ],
      "metadata": {
        "id": "QUMrE8-DtVbO"
      },
      "execution_count": null,
      "outputs": []
    },
    {
      "cell_type": "code",
      "source": [
        "var_texto_2 = str('novo texto')"
      ],
      "metadata": {
        "id": "FuV_grcCtm1K"
      },
      "execution_count": null,
      "outputs": []
    },
    {
      "cell_type": "code",
      "source": [
        "print(f'{var_texto_1} \\n {var_texto_2}')"
      ],
      "metadata": {
        "colab": {
          "base_uri": "https://localhost:8080/"
        },
        "id": "UApDRhO7tqe8",
        "outputId": "04b26b28-7391-4e6d-fd72-0baab8ee814d"
      },
      "execution_count": null,
      "outputs": [
        {
          "output_type": "stream",
          "name": "stdout",
          "text": [
            "um texto qualquer \n",
            " novo texto\n"
          ]
        }
      ]
    },
    {
      "cell_type": "markdown",
      "source": [
        "# Variáveis númericas"
      ],
      "metadata": {
        "id": "22tRj--CuZiB"
      }
    },
    {
      "cell_type": "code",
      "source": [
        "# são dois tipos, inteiras e flutuantes."
      ],
      "metadata": {
        "id": "NQXPnKKZub6c"
      },
      "execution_count": null,
      "outputs": []
    },
    {
      "cell_type": "code",
      "source": [
        "#inteira.\n",
        "var_int_01 = 100\n",
        "var_int_02 = int(120)\n",
        "print(var_int_01, var_int_02)"
      ],
      "metadata": {
        "colab": {
          "base_uri": "https://localhost:8080/"
        },
        "id": "fXw_fwNRuikO",
        "outputId": "5091549a-d241-49b4-9ca4-dabf406a9581"
      },
      "execution_count": null,
      "outputs": [
        {
          "output_type": "stream",
          "name": "stdout",
          "text": [
            "100 120\n"
          ]
        }
      ]
    },
    {
      "cell_type": "code",
      "source": [
        "#flutuante\n",
        "var_flut_01 = 100.12\n",
        "var_flut_02 = float(123.60)\n",
        "print(var_flut_01, var_flut_02)"
      ],
      "metadata": {
        "colab": {
          "base_uri": "https://localhost:8080/"
        },
        "id": "5hlDk_YJuqTy",
        "outputId": "e729fc7f-bf9e-4d36-e530-bb117175904e"
      },
      "execution_count": null,
      "outputs": [
        {
          "output_type": "stream",
          "name": "stdout",
          "text": [
            "100.12 123.6\n"
          ]
        }
      ]
    },
    {
      "cell_type": "markdown",
      "source": [
        "# Variáveis Booleanas"
      ],
      "metadata": {
        "id": "N805WM3avkBW"
      }
    },
    {
      "cell_type": "code",
      "source": [
        "# booleanas são condicionais, sendo utilizadas o True ou False, com a primeira letra em maiuscula"
      ],
      "metadata": {
        "id": "JljpxbYFvmvb"
      },
      "execution_count": null,
      "outputs": []
    },
    {
      "cell_type": "code",
      "source": [
        "var_booleana_01 = True\n",
        "var_booleana_02 = False\n",
        "print(var_booleana_01, var_booleana_02)"
      ],
      "metadata": {
        "colab": {
          "base_uri": "https://localhost:8080/"
        },
        "id": "74tcwpu9vuz3",
        "outputId": "6baddd94-b3d6-46e9-80b7-51c84bddaa00"
      },
      "execution_count": null,
      "outputs": [
        {
          "output_type": "stream",
          "name": "stdout",
          "text": [
            "True False\n"
          ]
        }
      ]
    },
    {
      "cell_type": "code",
      "source": [
        "#sempre bom deixar o nome da variável autoexplicativa para não dar confusão."
      ],
      "metadata": {
        "id": "0T_jnaCCv2oY"
      },
      "execution_count": null,
      "outputs": []
    },
    {
      "cell_type": "code",
      "source": [
        ""
      ],
      "metadata": {
        "id": "rXo-j2MjwVaa"
      },
      "execution_count": null,
      "outputs": []
    },
    {
      "cell_type": "markdown",
      "source": [
        "# Tipos de dados:\n",
        "1. Lista [ ]\n",
        "2. Tupla ( )\n",
        "3. Dicionário { }"
      ],
      "metadata": {
        "id": "Zi-4ccdDw7rN"
      }
    },
    {
      "cell_type": "code",
      "source": [
        "#LISTA\n",
        "lista_exemplo_01 = [1,2,3,4,5,6,7,8,9]\n",
        "lista_exemplo_01"
      ],
      "metadata": {
        "colab": {
          "base_uri": "https://localhost:8080/"
        },
        "id": "XxKNfJQlxHlh",
        "outputId": "ebcc1621-1270-480e-bd28-227c800661e2"
      },
      "execution_count": null,
      "outputs": [
        {
          "output_type": "execute_result",
          "data": {
            "text/plain": [
              "[1, 2, 3, 4, 5, 6, 7, 8, 9]"
            ]
          },
          "metadata": {},
          "execution_count": 39
        }
      ]
    },
    {
      "cell_type": "code",
      "source": [
        "#acessando um item da lista por meio do index (começa pelo zero e nao com 1)\n",
        "lista_exemplo_01[4]"
      ],
      "metadata": {
        "colab": {
          "base_uri": "https://localhost:8080/"
        },
        "id": "bbVoy6hnxPOt",
        "outputId": "b19560ad-5188-4d12-e11d-600634412530"
      },
      "execution_count": null,
      "outputs": [
        {
          "output_type": "execute_result",
          "data": {
            "text/plain": [
              "5"
            ]
          },
          "metadata": {},
          "execution_count": 32
        }
      ]
    },
    {
      "cell_type": "code",
      "source": [
        "lista_exemplo_02 = ['queijo', 'cerveja','arroz']\n",
        "lista_exemplo_02"
      ],
      "metadata": {
        "colab": {
          "base_uri": "https://localhost:8080/"
        },
        "id": "57CJLfEZxTBa",
        "outputId": "c0041a21-8611-4b64-cf22-ecb8526d7f7b"
      },
      "execution_count": null,
      "outputs": [
        {
          "output_type": "execute_result",
          "data": {
            "text/plain": [
              "['queijo', 'cerveja', 'arroz']"
            ]
          },
          "metadata": {},
          "execution_count": 33
        }
      ]
    },
    {
      "cell_type": "code",
      "source": [
        "lista_exemplo_02[2]"
      ],
      "metadata": {
        "colab": {
          "base_uri": "https://localhost:8080/",
          "height": 36
        },
        "id": "awBSNhx4xn0T",
        "outputId": "72471972-1c15-44a3-a017-855c0139a250"
      },
      "execution_count": null,
      "outputs": [
        {
          "output_type": "execute_result",
          "data": {
            "text/plain": [
              "'arroz'"
            ],
            "application/vnd.google.colaboratory.intrinsic+json": {
              "type": "string"
            }
          },
          "metadata": {},
          "execution_count": 34
        }
      ]
    },
    {
      "cell_type": "code",
      "source": [
        "lista_exemplo_03 = ['nome', 1, 'teste', [1,2,3]]\n",
        "lista_exemplo_03"
      ],
      "metadata": {
        "colab": {
          "base_uri": "https://localhost:8080/"
        },
        "id": "X5WJPZ9txqyh",
        "outputId": "9c582cc5-df6f-437a-bff1-82d42675a2f0"
      },
      "execution_count": null,
      "outputs": [
        {
          "output_type": "execute_result",
          "data": {
            "text/plain": [
              "['nome', 1, 'teste', [1, 2, 3]]"
            ]
          },
          "metadata": {},
          "execution_count": 35
        }
      ]
    },
    {
      "cell_type": "code",
      "source": [
        "lista_exemplo_03[3][1]"
      ],
      "metadata": {
        "colab": {
          "base_uri": "https://localhost:8080/"
        },
        "id": "wATJAq88x_mT",
        "outputId": "7687a655-ae59-4c69-a91c-48933cbb14cb"
      },
      "execution_count": null,
      "outputs": [
        {
          "output_type": "execute_result",
          "data": {
            "text/plain": [
              "2"
            ]
          },
          "metadata": {},
          "execution_count": 38
        }
      ]
    },
    {
      "cell_type": "code",
      "source": [
        "#TUPLA - IMUTÁVEIS"
      ],
      "metadata": {
        "id": "Db2Ce6KyyDII"
      },
      "execution_count": null,
      "outputs": []
    },
    {
      "cell_type": "code",
      "source": [
        "tupla_exemplo_01 = (1,2,3,4,5)\n",
        "tupla_exemplo_02 = ('texto', 1, 2.5, False)\n",
        "tupla_exemplo_01, tupla_exemplo_02"
      ],
      "metadata": {
        "colab": {
          "base_uri": "https://localhost:8080/"
        },
        "id": "6R8wBCAAyXiu",
        "outputId": "f8fa94a9-4bdb-4522-a198-7d74f2fe373a"
      },
      "execution_count": null,
      "outputs": [
        {
          "output_type": "execute_result",
          "data": {
            "text/plain": [
              "((1, 2, 3, 4, 5), ('texto', 1, 2.5, False))"
            ]
          },
          "metadata": {},
          "execution_count": 41
        }
      ]
    },
    {
      "cell_type": "code",
      "source": [
        "#DICIONÁRIO\n",
        "#precisa pasasar a key: e o valor, tudo dentro de chaves, e key e valores, dentro de aspas separadas por dois pontos\n",
        "#se for número não precisa de aspas, pode ser direto\n",
        "dicionário_exemplo_01 = {'Chave': 'Valor'}"
      ],
      "metadata": {
        "id": "dVlddolMzEJJ"
      },
      "execution_count": null,
      "outputs": []
    },
    {
      "cell_type": "code",
      "source": [
        ""
      ],
      "metadata": {
        "id": "v8jOMQgkzca_"
      },
      "execution_count": null,
      "outputs": []
    },
    {
      "cell_type": "markdown",
      "source": [
        "# Nomeando Variáveis"
      ],
      "metadata": {
        "id": "koTC1RFa06Ci"
      }
    },
    {
      "cell_type": "code",
      "source": [
        "#nomeando\n",
        "laranja, uva, abacaxi = 1, 2, 3\n",
        "print(laranja, uva, abacaxi)"
      ],
      "metadata": {
        "colab": {
          "base_uri": "https://localhost:8080/"
        },
        "id": "nJh8Qizc09tp",
        "outputId": "737c8be3-bcf9-4c62-d8a6-29fefcde6eb7"
      },
      "execution_count": null,
      "outputs": [
        {
          "output_type": "stream",
          "name": "stdout",
          "text": [
            "1 2 3\n"
          ]
        }
      ]
    },
    {
      "cell_type": "code",
      "source": [
        "#nomeando\n",
        "maca = banana = kiwi = 10\n",
        "print(maca , banana , kiwi)"
      ],
      "metadata": {
        "colab": {
          "base_uri": "https://localhost:8080/"
        },
        "id": "lF6cP1j81Gj2",
        "outputId": "62a83109-6c7c-433c-faa5-a4b56b6571df"
      },
      "execution_count": null,
      "outputs": [
        {
          "output_type": "stream",
          "name": "stdout",
          "text": [
            "10 10 10\n"
          ]
        }
      ]
    },
    {
      "cell_type": "code",
      "source": [
        "#nomeando com lista\n",
        "lista_carros = ['Volks', 'Audi', 'Fiat']\n",
        "marca_01, marca_02, marca_03 = lista_carros\n",
        "print(marca_01, marca_02, marca_03)"
      ],
      "metadata": {
        "colab": {
          "base_uri": "https://localhost:8080/"
        },
        "id": "dHFFuH5W1RVw",
        "outputId": "fffaf4f9-2f7c-4452-f457-a369107de0c4"
      },
      "execution_count": null,
      "outputs": [
        {
          "output_type": "stream",
          "name": "stdout",
          "text": [
            "Volks Audi Fiat\n"
          ]
        }
      ]
    },
    {
      "cell_type": "code",
      "source": [
        "#nomeando com variáveis\n",
        "nome = 'Wand'\n",
        "sobrenome ='Bar'\n",
        "\n",
        "nome_completo = nome + ' ' + sobrenome\n",
        "print(nome_completo)"
      ],
      "metadata": {
        "colab": {
          "base_uri": "https://localhost:8080/"
        },
        "id": "fxjCi_uM103_",
        "outputId": "3bf19ad4-a265-439b-b385-1157ab26e220"
      },
      "execution_count": null,
      "outputs": [
        {
          "output_type": "stream",
          "name": "stdout",
          "text": [
            "Wand Bar\n"
          ]
        }
      ]
    },
    {
      "cell_type": "code",
      "source": [
        "#experimento\n",
        "nome = 'wand '\n",
        "idade= str(32)\n",
        "\n",
        "nome +idade"
      ],
      "metadata": {
        "colab": {
          "base_uri": "https://localhost:8080/",
          "height": 36
        },
        "id": "JnciSqHU2r6N",
        "outputId": "1ea02dd6-990f-47f0-827d-2141884b4a72"
      },
      "execution_count": null,
      "outputs": [
        {
          "output_type": "execute_result",
          "data": {
            "text/plain": [
              "'wand 32'"
            ],
            "application/vnd.google.colaboratory.intrinsic+json": {
              "type": "string"
            }
          },
          "metadata": {},
          "execution_count": 55
        }
      ]
    },
    {
      "cell_type": "code",
      "source": [
        "investimento = 1000\n",
        "juros = '0.2'\n",
        "investimento * juros\n",
        "#aqui, como o juros ficou como str, o programa entendeu que era pra redroduzir a str mil vezes"
      ],
      "metadata": {
        "colab": {
          "base_uri": "https://localhost:8080/",
          "height": 200
        },
        "id": "s7WIcla93La_",
        "outputId": "bc4b970b-797d-43c5-966a-1cd1dff3b149"
      },
      "execution_count": null,
      "outputs": [
        {
          "output_type": "execute_result",
          "data": {
            "text/plain": [
              "'0.20.20.20.20.20.20.20.20.20.20.20.20.20.20.20.20.20.20.20.20.20.20.20.20.20.20.20.20.20.20.20.20.20.20.20.20.20.20.20.20.20.20.20.20.20.20.20.20.20.20.20.20.20.20.20.20.20.20.20.20.20.20.20.20.20.20.20.20.20.20.20.20.20.20.20.20.20.20.20.20.20.20.20.20.20.20.20.20.20.20.20.20.20.20.20.20.20.20.20.20.20.20.20.20.20.20.20.20.20.20.20.20.20.20.20.20.20.20.20.20.20.20.20.20.20.20.20.20.20.20.20.20.20.20.20.20.20.20.20.20.20.20.20.20.20.20.20.20.20.20.20.20.20.20.20.20.20.20.20.20.20.20.20.20.20.20.20.20.20.20.20.20.20.20.20.20.20.20.20.20.20.20.20.20.20.20.20.20.20.20.20.20.20.20.20.20.20.20.20.20.20.20.20.20.20.20.20.20.20.20.20.20.20.20.20.20.20.20.20.20.20.20.20.20.20.20.20.20.20.20.20.20.20.20.20.20.20.20.20.20.20.20.20.20.20.20.20.20.20.20.20.20.20.20.20.20.20.20.20.20.20.20.20.20.20.20.20.20.20.20.20.20.20.20.20.20.20.20.20.20.20.20.20.20.20.20.20.20.20.20.20.20.20.20.20.20.20.20.20.20.20.20.20.20.20.20.20.20.20.20.20.20.20.20.20.20.20.20.20.20.20.20.20.20.20.20.20.20.20.20.20.20.20.20.20.20.20.20.20.20.20.20.20.20.20.20.20.20.20.20.20.20.20.20.20.20.20.20.20.20.20.20.20.20.20.20.20.20.20.20.20.20.20.20.20.20.20.20.20.20.20.20.20.20.20.20.20.20.20.20.20.20.20.20.20.20.20.20.20.20.20.20.20.20.20.20.20.20.20.20.20.20.20.20.20.20.20.20.20.20.20.20.20.20.20.20.20.20.20.20.20.20.20.20.20.20.20.20.20.20.20.20.20.20.20.20.20.20.20.20.20.20.20.20.20.20.20.20.20.20.20.20.20.20.20.20.20.20.20.20.20.20.20.20.20.20.20.20.20.20.20.20.20.20.20.20.20.20.20.20.20.20.20.20.20.20.20.20.20.20.20.20.20.20.20.20.20.20.20.20.20.20.20.20.20.20.20.20.20.20.20.20.20.20.20.20.20.20.20.20.20.20.20.20.20.20.20.20.20.20.20.20.20.20.20.20.20.20.20.20.20.20.20.20.20.20.20.20.20.20.20.20.20.20.20.20.20.20.20.20.20.20.20.20.20.20.20.20.20.20.20.20.20.20.20.20.20.20.20.20.20.20.20.20.20.20.20.20.20.20.20.20.20.20.20.20.20.20.20.20.20.20.20.20.20.20.20.20.20.20.20.20.20.20.20.20.20.20.20.20.20.20.20.20.20.20.20.20.20.20.20.20.20.20.20.20.20.20.20.20.20.20.20.20.20.20.20.20.20.20.20.20.20.20.20.20.20.20.20.20.20.20.20.20.20.20.20.20.20.20.20.20.20.20.20.20.20.20.20.20.20.20.20.20.20.20.20.20.20.20.20.20.20.20.20.20.20.20.20.20.20.20.20.20.20.20.20.20.20.20.20.20.20.20.20.20.20.20.20.20.20.20.20.20.20.20.20.20.20.20.20.20.20.20.20.20.20.20.20.20.20.20.20.20.20.20.20.20.20.20.20.20.20.20.20.20.20.20.20.20.20.20.20.20.20.20.20.20.20.20.20.20.20.20.20.20.20.20.20.20.20.20.20.20.20.20.20.20.20.20.20.20.20.20.20.20.20.20.20.20.20.20.20.20.20.20.20.20.20.20.20.20.20.20.20.20.20.20.20.20.20.20.20.20.20.20.20.20.20.20.20.20.20.20.20.20.20.20.20.20.20.20.20.20.20.20.20.20.20.20.20.20.20.20.20.20.20.20.20.20.20.20.20.20.20.20.20.20.20.20.20.20.20.20.20.20.20.20.20.20.20.20.20.20.20.20.20.20.20.20.20.20.20.20.20.20.20.20.20.20.20.20.20.20.20.20.20.20.20.20.20.20.20.20.20.20.20.20.20.20.20.20.20.20.20.20.20.20.20.20.20.20.20.20.20.20.20.20.20.20.20.20.20.20.20.20.20.20.20.20.20.20.20.20.20.20.20.20.20.20.20.20.20.20.20.20.20.20.20.20.20.20.20.20.20.20.20.20.20.20.20.20.20.20.20.20.20.20.20.2'"
            ],
            "application/vnd.google.colaboratory.intrinsic+json": {
              "type": "string"
            }
          },
          "metadata": {},
          "execution_count": 56
        }
      ]
    },
    {
      "cell_type": "code",
      "source": [
        "invest = 1000\n",
        "jr = float(0.2)\n",
        "print(invest * jr)\n",
        "valor_total = (invest * jr) + invest\n",
        "print(valor_total)"
      ],
      "metadata": {
        "colab": {
          "base_uri": "https://localhost:8080/"
        },
        "id": "SCEKXwJK3uMI",
        "outputId": "40784795-4994-450f-d581-b5d63e93bf23"
      },
      "execution_count": null,
      "outputs": [
        {
          "output_type": "stream",
          "name": "stdout",
          "text": [
            "200.0\n",
            "1200.0\n"
          ]
        }
      ]
    },
    {
      "cell_type": "code",
      "source": [
        ""
      ],
      "metadata": {
        "id": "WOrEx8ZE3-Ba"
      },
      "execution_count": null,
      "outputs": []
    },
    {
      "cell_type": "markdown",
      "source": [
        "# Tipos de Informação"
      ],
      "metadata": {
        "id": "JDP3bIY55D3X"
      }
    },
    {
      "cell_type": "code",
      "source": [
        "string = str('Olá, mundo')\n",
        "inteiro = int(22)\n",
        "flutuante = float(22.22)\n",
        "Complex = complex(1j)\n",
        "lista = list(('maca', 'banana', 'melancia'))\n",
        "tupla = tuple(('morango', 'pera'))\n",
        "Range = range(6)\n",
        "Dicionario = dict(nome='wand', age=32)\n",
        "Set = set(('A', 'B','C'))\n",
        "Fronzet = frozenset(('A', 'B','C'))\n",
        "Booleano = bool(5)\n",
        "Bytes = bytes(5)\n",
        "ByteArray = bytearray(5)\n",
        "Memoryview = memoryview(bytes(5))\n",
        "\n",
        "#importando uma formula para apurar a data de hj\n",
        "from datetime import datetime\n",
        "Data = datetime.today().date()"
      ],
      "metadata": {
        "id": "23Wspu0Q5G3P"
      },
      "execution_count": null,
      "outputs": []
    },
    {
      "cell_type": "code",
      "source": [
        "type(string)"
      ],
      "metadata": {
        "colab": {
          "base_uri": "https://localhost:8080/"
        },
        "id": "ekGDSoUh8cvD",
        "outputId": "cee5ad6e-84a1-41f3-e3b5-c1893217eb00"
      },
      "execution_count": null,
      "outputs": [
        {
          "output_type": "execute_result",
          "data": {
            "text/plain": [
              "str"
            ]
          },
          "metadata": {},
          "execution_count": 70
        }
      ]
    },
    {
      "cell_type": "code",
      "source": [
        "print(type(inteiro))"
      ],
      "metadata": {
        "colab": {
          "base_uri": "https://localhost:8080/"
        },
        "id": "G5Jtgan__1-7",
        "outputId": "667d17ba-268b-4c6a-ec37-a156d7715a83"
      },
      "execution_count": null,
      "outputs": [
        {
          "output_type": "stream",
          "name": "stdout",
          "text": [
            "<class 'int'>\n"
          ]
        }
      ]
    },
    {
      "cell_type": "code",
      "source": [
        "print(type(Bytes))"
      ],
      "metadata": {
        "colab": {
          "base_uri": "https://localhost:8080/"
        },
        "id": "2vcfeJZaAY18",
        "outputId": "ad9e0435-c8ad-4521-9421-43f93e20c040"
      },
      "execution_count": null,
      "outputs": [
        {
          "output_type": "stream",
          "name": "stdout",
          "text": [
            "<class 'bytes'>\n"
          ]
        }
      ]
    },
    {
      "cell_type": "markdown",
      "source": [
        "# Comando Round"
      ],
      "metadata": {
        "id": "G2UagSH6Aa8I"
      }
    },
    {
      "cell_type": "code",
      "source": [
        "#nunca esqueci de substituir a virgula pelo ponto\n",
        "numeropi = 3.14159265358979323846\n",
        "print(numeropi)"
      ],
      "metadata": {
        "colab": {
          "base_uri": "https://localhost:8080/"
        },
        "id": "lCKnGO_1AeWs",
        "outputId": "711a91b3-aa22-4b69-f94e-9051eb7f0055"
      },
      "execution_count": null,
      "outputs": [
        {
          "output_type": "stream",
          "name": "stdout",
          "text": [
            "3.141592653589793\n"
          ]
        }
      ]
    },
    {
      "cell_type": "code",
      "source": [
        "print(round(numeropi, 4))"
      ],
      "metadata": {
        "colab": {
          "base_uri": "https://localhost:8080/"
        },
        "id": "hJmwnKL8BGuP",
        "outputId": "bc4dd782-c408-4d04-d374-fb562bbfc783"
      },
      "execution_count": null,
      "outputs": [
        {
          "output_type": "stream",
          "name": "stdout",
          "text": [
            "3.1416\n"
          ]
        }
      ]
    },
    {
      "cell_type": "code",
      "source": [
        "#no round,ele vai arredondar para o valor mais próximo.\n"
      ],
      "metadata": {
        "id": "wqQx_pNtBJ_D"
      },
      "execution_count": null,
      "outputs": []
    },
    {
      "cell_type": "markdown",
      "source": [
        "# Comando Len"
      ],
      "metadata": {
        "id": "aOKDoLvECWL7"
      }
    },
    {
      "cell_type": "code",
      "source": [
        "lista = [1,2,3,4,5,6,7,8,9,10]\n",
        "dicionario = {'Nome': 'Wand', 'Idade': 32}\n",
        "tupla = (1,2,3)\n",
        "String = 'Olá mundão'"
      ],
      "metadata": {
        "id": "Brxwh-r_CYTU"
      },
      "execution_count": null,
      "outputs": []
    },
    {
      "cell_type": "code",
      "source": [
        "len(lista)"
      ],
      "metadata": {
        "colab": {
          "base_uri": "https://localhost:8080/"
        },
        "id": "XCuJ5uq-DTIB",
        "outputId": "4d52c4c3-efc1-4166-8ac8-3c128c9c4678"
      },
      "execution_count": null,
      "outputs": [
        {
          "output_type": "execute_result",
          "data": {
            "text/plain": [
              "10"
            ]
          },
          "metadata": {},
          "execution_count": 90
        }
      ]
    },
    {
      "cell_type": "code",
      "source": [
        "len(dicionario)\n",
        "#um dicionário e formado pela key e valor, assim, cada resposta e um elemento a mais na soma"
      ],
      "metadata": {
        "colab": {
          "base_uri": "https://localhost:8080/"
        },
        "id": "yx-TuKM9DUmn",
        "outputId": "280ab7f1-85d9-4612-cf58-9a18e7ef949d"
      },
      "execution_count": null,
      "outputs": [
        {
          "output_type": "execute_result",
          "data": {
            "text/plain": [
              "2"
            ]
          },
          "metadata": {},
          "execution_count": 92
        }
      ]
    },
    {
      "cell_type": "code",
      "source": [
        "len(tupla)"
      ],
      "metadata": {
        "colab": {
          "base_uri": "https://localhost:8080/"
        },
        "id": "qIh1zUpyDW0s",
        "outputId": "e2e8020b-5a98-485f-bd48-310e7e66f063"
      },
      "execution_count": null,
      "outputs": [
        {
          "output_type": "execute_result",
          "data": {
            "text/plain": [
              "3"
            ]
          },
          "metadata": {},
          "execution_count": 93
        }
      ]
    },
    {
      "cell_type": "code",
      "source": [
        "len(String)"
      ],
      "metadata": {
        "colab": {
          "base_uri": "https://localhost:8080/"
        },
        "id": "tbJhA1JPDmRD",
        "outputId": "c151868e-a1af-4bbd-af15-766b6111154e"
      },
      "execution_count": null,
      "outputs": [
        {
          "output_type": "execute_result",
          "data": {
            "text/plain": [
              "10"
            ]
          },
          "metadata": {},
          "execution_count": 96
        }
      ]
    },
    {
      "cell_type": "markdown",
      "source": [
        "# Fatiamento de String"
      ],
      "metadata": {
        "id": "Xg1RlbB9DtpF"
      }
    },
    {
      "cell_type": "code",
      "source": [
        "Minha_string = 'Aprender Python é Top!'\n",
        "\n",
        "print(type(Minha_string))\n",
        "print(len(Minha_string))"
      ],
      "metadata": {
        "colab": {
          "base_uri": "https://localhost:8080/"
        },
        "id": "pOAcKC1-DwxQ",
        "outputId": "5e6594db-602c-495f-d5a8-0a99c9dcd30b"
      },
      "execution_count": null,
      "outputs": [
        {
          "output_type": "stream",
          "name": "stdout",
          "text": [
            "<class 'str'>\n",
            "22\n"
          ]
        }
      ]
    },
    {
      "cell_type": "code",
      "source": [
        "Minha_string[0]"
      ],
      "metadata": {
        "colab": {
          "base_uri": "https://localhost:8080/",
          "height": 36
        },
        "id": "qTguDghbFBFu",
        "outputId": "716b8533-420a-4f0f-df05-8bb5b4d2ca58"
      },
      "execution_count": null,
      "outputs": [
        {
          "output_type": "execute_result",
          "data": {
            "text/plain": [
              "'A'"
            ],
            "application/vnd.google.colaboratory.intrinsic+json": {
              "type": "string"
            }
          },
          "metadata": {},
          "execution_count": 102
        }
      ]
    },
    {
      "cell_type": "code",
      "source": [
        "Minha_string[1]"
      ],
      "metadata": {
        "colab": {
          "base_uri": "https://localhost:8080/",
          "height": 36
        },
        "id": "RfmBLqZYFSRR",
        "outputId": "11fdb3fe-328d-4ea0-fd42-9231c9d49c7f"
      },
      "execution_count": null,
      "outputs": [
        {
          "output_type": "execute_result",
          "data": {
            "text/plain": [
              "'p'"
            ],
            "application/vnd.google.colaboratory.intrinsic+json": {
              "type": "string"
            }
          },
          "metadata": {},
          "execution_count": 103
        }
      ]
    },
    {
      "cell_type": "code",
      "source": [
        "Minha_string[-1:]"
      ],
      "metadata": {
        "colab": {
          "base_uri": "https://localhost:8080/",
          "height": 36
        },
        "id": "ZsoGB3HKFUSb",
        "outputId": "d322f0ec-35fa-44c1-db1f-0fce8f9a7860"
      },
      "execution_count": null,
      "outputs": [
        {
          "output_type": "execute_result",
          "data": {
            "text/plain": [
              "'!'"
            ],
            "application/vnd.google.colaboratory.intrinsic+json": {
              "type": "string"
            }
          },
          "metadata": {},
          "execution_count": 128
        }
      ]
    },
    {
      "cell_type": "code",
      "source": [
        "Minha_string[-10:]"
      ],
      "metadata": {
        "colab": {
          "base_uri": "https://localhost:8080/",
          "height": 36
        },
        "id": "oH-1MnjpFZJT",
        "outputId": "7a6c5887-2600-42dd-ee32-e51dadc71fc7"
      },
      "execution_count": null,
      "outputs": [
        {
          "output_type": "execute_result",
          "data": {
            "text/plain": [
              "'hon é Top!'"
            ],
            "application/vnd.google.colaboratory.intrinsic+json": {
              "type": "string"
            }
          },
          "metadata": {},
          "execution_count": 129
        }
      ]
    },
    {
      "cell_type": "code",
      "source": [
        "Minha_string[::-1]\n",
        "#invertendo"
      ],
      "metadata": {
        "colab": {
          "base_uri": "https://localhost:8080/",
          "height": 36
        },
        "id": "JuzG5VenGfE4",
        "outputId": "0c0b2c8d-34b3-4045-ef6a-5a8a65dcd02b"
      },
      "execution_count": null,
      "outputs": [
        {
          "output_type": "execute_result",
          "data": {
            "text/plain": [
              "'!poT é nohtyP rednerpA'"
            ],
            "application/vnd.google.colaboratory.intrinsic+json": {
              "type": "string"
            }
          },
          "metadata": {},
          "execution_count": 145
        }
      ]
    },
    {
      "cell_type": "markdown",
      "source": [
        "# Manipulação de String"
      ],
      "metadata": {
        "id": "gvvgODf0J0dr"
      }
    },
    {
      "cell_type": "code",
      "source": [
        "String = 'Olá mundão!'\n",
        "print(String)"
      ],
      "metadata": {
        "colab": {
          "base_uri": "https://localhost:8080/"
        },
        "id": "lzgtl0SOJ41H",
        "outputId": "4f246486-1546-41d8-8167-ecf38e079b7a"
      },
      "execution_count": null,
      "outputs": [
        {
          "output_type": "stream",
          "name": "stdout",
          "text": [
            "Olá mundão!\n"
          ]
        }
      ]
    },
    {
      "cell_type": "code",
      "source": [
        "type(String)"
      ],
      "metadata": {
        "colab": {
          "base_uri": "https://localhost:8080/"
        },
        "id": "sjEz4kNdLQ0J",
        "outputId": "b4c6b70b-6a1f-406a-ee23-350cd21d78d2"
      },
      "execution_count": null,
      "outputs": [
        {
          "output_type": "execute_result",
          "data": {
            "text/plain": [
              "str"
            ]
          },
          "metadata": {},
          "execution_count": 148
        }
      ]
    },
    {
      "cell_type": "code",
      "source": [
        "len(String)"
      ],
      "metadata": {
        "colab": {
          "base_uri": "https://localhost:8080/"
        },
        "id": "NJm0bIJtLWV2",
        "outputId": "3fb88ad9-f6bd-4eb1-e0a0-afa0a5c1d86e"
      },
      "execution_count": null,
      "outputs": [
        {
          "output_type": "execute_result",
          "data": {
            "text/plain": [
              "11"
            ]
          },
          "metadata": {},
          "execution_count": 149
        }
      ]
    },
    {
      "cell_type": "code",
      "source": [
        "#concatenar\n",
        "String + 'Concatenação!'"
      ],
      "metadata": {
        "colab": {
          "base_uri": "https://localhost:8080/",
          "height": 36
        },
        "id": "3hhApoHpLYWG",
        "outputId": "ce7cb0d5-852e-4ec0-bb0a-ca70e966c9ea"
      },
      "execution_count": null,
      "outputs": [
        {
          "output_type": "execute_result",
          "data": {
            "text/plain": [
              "'Olá mundão!Concatenação!'"
            ],
            "application/vnd.google.colaboratory.intrinsic+json": {
              "type": "string"
            }
          },
          "metadata": {},
          "execution_count": 151
        }
      ]
    },
    {
      "cell_type": "code",
      "source": [
        "#replace = substituir\n",
        "String.replace('mundão', 'Mundo')"
      ],
      "metadata": {
        "colab": {
          "base_uri": "https://localhost:8080/",
          "height": 36
        },
        "id": "UWLdlYPiLeXZ",
        "outputId": "f87a8711-ed67-4c38-cf79-a18f5ecfaf22"
      },
      "execution_count": null,
      "outputs": [
        {
          "output_type": "execute_result",
          "data": {
            "text/plain": [
              "'Olá Mundo!'"
            ],
            "application/vnd.google.colaboratory.intrinsic+json": {
              "type": "string"
            }
          },
          "metadata": {},
          "execution_count": 152
        }
      ]
    },
    {
      "cell_type": "code",
      "source": [
        "CPF = 'CPF:123456789'\n",
        "int(CPF.replace('CPF:', ''))\n",
        "#dessa forma, já fica tangivel para manipulação"
      ],
      "metadata": {
        "colab": {
          "base_uri": "https://localhost:8080/"
        },
        "id": "x0m45W-qMBZM",
        "outputId": "1ca9096f-d5f7-4b71-e75a-4c76d267e6ae"
      },
      "execution_count": null,
      "outputs": [
        {
          "output_type": "execute_result",
          "data": {
            "text/plain": [
              "123456789"
            ]
          },
          "metadata": {},
          "execution_count": 155
        }
      ]
    },
    {
      "cell_type": "code",
      "source": [
        "#verifica o começo e dá uma resposta booleana. Acento tem influências e maiusculo e minusculo tbem\n",
        "String.startswith('Ola')"
      ],
      "metadata": {
        "colab": {
          "base_uri": "https://localhost:8080/"
        },
        "id": "LHgfWheqMLd_",
        "outputId": "ed9712ac-82ee-492d-835c-3c68bb3fb7d7"
      },
      "execution_count": null,
      "outputs": [
        {
          "output_type": "execute_result",
          "data": {
            "text/plain": [
              "False"
            ]
          },
          "metadata": {},
          "execution_count": 159
        }
      ]
    },
    {
      "cell_type": "code",
      "source": [
        "#verificar o fim\n",
        "String.endswith('!')"
      ],
      "metadata": {
        "colab": {
          "base_uri": "https://localhost:8080/"
        },
        "id": "dKkJpOKXM5qZ",
        "outputId": "547aa0aa-8f38-4bb1-d0b0-fe379437f63b"
      },
      "execution_count": null,
      "outputs": [
        {
          "output_type": "execute_result",
          "data": {
            "text/plain": [
              "True"
            ]
          },
          "metadata": {},
          "execution_count": 160
        }
      ]
    },
    {
      "cell_type": "code",
      "source": [
        "#contar palavras/letras count\n",
        "String.count('m')"
      ],
      "metadata": {
        "colab": {
          "base_uri": "https://localhost:8080/"
        },
        "id": "RC4xdqJ1NTk6",
        "outputId": "e61f97a5-c902-4d0a-d256-0c8e8efe710b"
      },
      "execution_count": null,
      "outputs": [
        {
          "output_type": "execute_result",
          "data": {
            "text/plain": [
              "1"
            ]
          },
          "metadata": {},
          "execution_count": 161
        }
      ]
    },
    {
      "cell_type": "code",
      "source": [
        "#transformação - capitalize (primeira letra fica em maiuscula), mas somente a primeira palavra\n",
        "nome = 'wand bar'\n",
        "nome.capitalize()"
      ],
      "metadata": {
        "colab": {
          "base_uri": "https://localhost:8080/",
          "height": 36
        },
        "id": "1Rp60N2QNrwa",
        "outputId": "ff1569a3-1917-4ec1-899e-93a628d5542e"
      },
      "execution_count": null,
      "outputs": [
        {
          "output_type": "execute_result",
          "data": {
            "text/plain": [
              "'Wand bar'"
            ],
            "application/vnd.google.colaboratory.intrinsic+json": {
              "type": "string"
            }
          },
          "metadata": {},
          "execution_count": 164
        }
      ]
    },
    {
      "cell_type": "code",
      "source": [
        "#verifica se variável x existe e se o mesmo é numero, se inserir consoantes, dará false\n",
        "String_CPF = '12344567'\n",
        "String_CPF.isdigit()"
      ],
      "metadata": {
        "colab": {
          "base_uri": "https://localhost:8080/"
        },
        "id": "eT6Le-VKORqf",
        "outputId": "d6541e21-9ebc-4dd4-d2db-9a98e0d77e27"
      },
      "execution_count": null,
      "outputs": [
        {
          "output_type": "execute_result",
          "data": {
            "text/plain": [
              "True"
            ]
          },
          "metadata": {},
          "execution_count": 167
        }
      ]
    },
    {
      "cell_type": "code",
      "source": [
        "#verificar se é númerico\n",
        "String.isalnum()"
      ],
      "metadata": {
        "colab": {
          "base_uri": "https://localhost:8080/"
        },
        "id": "DTG-__1bO7l4",
        "outputId": "923331e0-e584-4b36-f34a-45a465246fd2"
      },
      "execution_count": null,
      "outputs": [
        {
          "output_type": "execute_result",
          "data": {
            "text/plain": [
              "False"
            ]
          },
          "metadata": {},
          "execution_count": 168
        }
      ]
    },
    {
      "cell_type": "code",
      "source": [
        "#upper coloca toda a string em maiusucla\n",
        "nome = 'wand'\n",
        "nome.upper()"
      ],
      "metadata": {
        "colab": {
          "base_uri": "https://localhost:8080/",
          "height": 36
        },
        "id": "l5YVpXryPj_I",
        "outputId": "50f6780c-097a-4455-e5ce-67ea958262c1"
      },
      "execution_count": null,
      "outputs": [
        {
          "output_type": "execute_result",
          "data": {
            "text/plain": [
              "'WAND'"
            ],
            "application/vnd.google.colaboratory.intrinsic+json": {
              "type": "string"
            }
          },
          "metadata": {},
          "execution_count": 169
        }
      ]
    },
    {
      "cell_type": "code",
      "source": [
        "#lower, tudo minuscula\n",
        "nome = 'WAND'\n",
        "nome.lower()"
      ],
      "metadata": {
        "colab": {
          "base_uri": "https://localhost:8080/",
          "height": 36
        },
        "id": "7O86XUXFP3Vr",
        "outputId": "0a9dc2f3-1b64-4947-e391-db482508887a"
      },
      "execution_count": null,
      "outputs": [
        {
          "output_type": "execute_result",
          "data": {
            "text/plain": [
              "'wand'"
            ],
            "application/vnd.google.colaboratory.intrinsic+json": {
              "type": "string"
            }
          },
          "metadata": {},
          "execution_count": 170
        }
      ]
    },
    {
      "cell_type": "code",
      "source": [
        "#find, vai procarar uma palavra, letra ou número, retornado o elemento em que vai aparecer o que se procura\n",
        "Frase = 'Hoje está calor!'\n",
        "Frase.find('está')"
      ],
      "metadata": {
        "colab": {
          "base_uri": "https://localhost:8080/"
        },
        "id": "dmb0kMZNP_pr",
        "outputId": "82071be1-99c8-42d5-a9aa-6b2bdd160f47"
      },
      "execution_count": null,
      "outputs": [
        {
          "output_type": "execute_result",
          "data": {
            "text/plain": [
              "5"
            ]
          },
          "metadata": {},
          "execution_count": 172
        }
      ]
    },
    {
      "cell_type": "code",
      "source": [
        "#strip, corta os espaços antes e depois da string\n",
        "Endereco = '   Rua Agusta, 23, SP   '\n",
        "Endereco\n",
        "Endereco.strip()"
      ],
      "metadata": {
        "colab": {
          "base_uri": "https://localhost:8080/",
          "height": 36
        },
        "id": "fXlW9CFvQjux",
        "outputId": "0ff4361a-c446-46ae-e677-05a19df74ce6"
      },
      "execution_count": null,
      "outputs": [
        {
          "output_type": "execute_result",
          "data": {
            "text/plain": [
              "'Rua Agusta, 23, SP'"
            ],
            "application/vnd.google.colaboratory.intrinsic+json": {
              "type": "string"
            }
          },
          "metadata": {},
          "execution_count": 176
        }
      ]
    },
    {
      "cell_type": "code",
      "source": [
        "#split quebra a string, formando praticamente uma lista\n",
        "#se nenhum argumento for inserido, vai separar por palavra, se definir por virgula, será por virgula\n",
        "Palavra = 'Rua Augusta 150, Centro, SP'\n",
        "Palavra.split(',') #aqui, dentro dos parenteses, foi usada a vírgula.\n",
        "#pode ser usado como um delimitador"
      ],
      "metadata": {
        "colab": {
          "base_uri": "https://localhost:8080/"
        },
        "id": "I1IWiz0CRDOn",
        "outputId": "5a289bc7-f6f5-4dc1-c9d1-8b64bbb44b1c"
      },
      "execution_count": null,
      "outputs": [
        {
          "output_type": "execute_result",
          "data": {
            "text/plain": [
              "['Rua Augusta 150', ' Centro', ' SP']"
            ]
          },
          "metadata": {},
          "execution_count": 180
        }
      ]
    },
    {
      "cell_type": "code",
      "source": [
        "Palavra.split()\n",
        "#mesma coisa com a de cima, mas sem o delimitador"
      ],
      "metadata": {
        "colab": {
          "base_uri": "https://localhost:8080/"
        },
        "id": "mC4tOgndR6kV",
        "outputId": "f28f25cf-8689-436b-e0b0-654505270ddc"
      },
      "execution_count": null,
      "outputs": [
        {
          "output_type": "execute_result",
          "data": {
            "text/plain": [
              "['Rua', 'Augusta', '150,', 'Centro,', 'SP']"
            ]
          },
          "metadata": {},
          "execution_count": 182
        }
      ]
    },
    {
      "cell_type": "markdown",
      "source": [
        "# Comando Input"
      ],
      "metadata": {
        "id": "r1OqhJlVe4vh"
      }
    },
    {
      "cell_type": "code",
      "source": [
        "#simulações situações onde podemos inputar um valor.\n",
        "input('qualquer coisa')"
      ],
      "metadata": {
        "colab": {
          "base_uri": "https://localhost:8080/",
          "height": 54
        },
        "id": "97d72zwOe8im",
        "outputId": "75ec13e4-61e2-4d92-e263-76dfdead39bc"
      },
      "execution_count": null,
      "outputs": [
        {
          "name": "stdout",
          "output_type": "stream",
          "text": [
            "qualquer coisateste\n"
          ]
        },
        {
          "output_type": "execute_result",
          "data": {
            "text/plain": [
              "'teste'"
            ],
            "application/vnd.google.colaboratory.intrinsic+json": {
              "type": "string"
            }
          },
          "metadata": {},
          "execution_count": 183
        }
      ]
    },
    {
      "cell_type": "code",
      "source": [
        "#formulário\n",
        "nome = input('Digite o seu nome: ')\n",
        "idade = input('Digite a sua idade ')\n",
        "\n",
        "print('O seu nome é ', nome)\n",
        "print('A sua idade é de ', idade)"
      ],
      "metadata": {
        "colab": {
          "base_uri": "https://localhost:8080/"
        },
        "id": "gYT0fTfufgoV",
        "outputId": "241b59c2-77bd-49a5-9f8b-982d1c53e02c"
      },
      "execution_count": null,
      "outputs": [
        {
          "output_type": "stream",
          "name": "stdout",
          "text": [
            "Digite o seu nome: wand\n",
            "Digite a sua idade 32\n",
            "O seu nome é  wand\n",
            "A sua idade é de  32\n"
          ]
        }
      ]
    },
    {
      "cell_type": "code",
      "source": [
        ""
      ],
      "metadata": {
        "id": "7H-YBcfJfyiC"
      },
      "execution_count": null,
      "outputs": []
    },
    {
      "cell_type": "markdown",
      "source": [
        "# Operadores de Comparação"
      ],
      "metadata": {
        "id": "U741EGu-gNll"
      }
    },
    {
      "cell_type": "code",
      "source": [
        "#Combinar comperações\n",
        "#conteúdo referente aos sinais de ==, !=, >=, <=.\n",
        "#Sinal de igual são dois sinais\n",
        "#o sinal de diferente é um ponto de exclamção com um sinal de igual\n",
        "1==1"
      ],
      "metadata": {
        "colab": {
          "base_uri": "https://localhost:8080/"
        },
        "id": "WKJILfFngQcU",
        "outputId": "ceffd299-6bd8-4816-aaec-bf106f489167"
      },
      "execution_count": null,
      "outputs": [
        {
          "output_type": "execute_result",
          "data": {
            "text/plain": [
              "True"
            ]
          },
          "metadata": {},
          "execution_count": 190
        }
      ]
    },
    {
      "cell_type": "code",
      "source": [
        "1>=2\n"
      ],
      "metadata": {
        "colab": {
          "base_uri": "https://localhost:8080/"
        },
        "id": "ZdYrhRNqhu2z",
        "outputId": "a9e62254-1e26-43ea-b776-f0a95dc18d46"
      },
      "execution_count": null,
      "outputs": [
        {
          "output_type": "execute_result",
          "data": {
            "text/plain": [
              "False"
            ]
          },
          "metadata": {},
          "execution_count": 186
        }
      ]
    },
    {
      "cell_type": "code",
      "source": [
        "1 != 4\n"
      ],
      "metadata": {
        "colab": {
          "base_uri": "https://localhost:8080/"
        },
        "id": "hrXfl25chw2b",
        "outputId": "1d6fba8c-057a-431a-9206-5d439f3dcc75"
      },
      "execution_count": null,
      "outputs": [
        {
          "output_type": "execute_result",
          "data": {
            "text/plain": [
              "True"
            ]
          },
          "metadata": {},
          "execution_count": 187
        }
      ]
    },
    {
      "cell_type": "code",
      "source": [
        "1 != 1"
      ],
      "metadata": {
        "colab": {
          "base_uri": "https://localhost:8080/"
        },
        "id": "wlRDFVKUhywR",
        "outputId": "f2386b38-d9f0-451a-e42d-7a0dda7ce95e"
      },
      "execution_count": null,
      "outputs": [
        {
          "output_type": "execute_result",
          "data": {
            "text/plain": [
              "False"
            ]
          },
          "metadata": {},
          "execution_count": 188
        }
      ]
    },
    {
      "cell_type": "code",
      "source": [
        "1 <= 4"
      ],
      "metadata": {
        "colab": {
          "base_uri": "https://localhost:8080/"
        },
        "id": "Bwbk3JW_h0cj",
        "outputId": "e1ab80be-c8de-49c4-a1bc-6545eeb7dd4e"
      },
      "execution_count": null,
      "outputs": [
        {
          "output_type": "execute_result",
          "data": {
            "text/plain": [
              "True"
            ]
          },
          "metadata": {},
          "execution_count": 189
        }
      ]
    },
    {
      "cell_type": "markdown",
      "source": [
        "# Operadores Lógicos"
      ],
      "metadata": {
        "id": "B5l0DTZuiVbR"
      }
    },
    {
      "cell_type": "code",
      "source": [
        "#Combinar instruções com and, or e not.\n",
        "10 > 2 and 10 >5"
      ],
      "metadata": {
        "colab": {
          "base_uri": "https://localhost:8080/"
        },
        "id": "veRRHnlAiZRH",
        "outputId": "224b39d0-c894-4181-d1d8-1ce01a02f5d3"
      },
      "execution_count": null,
      "outputs": [
        {
          "output_type": "execute_result",
          "data": {
            "text/plain": [
              "True"
            ]
          },
          "metadata": {},
          "execution_count": 191
        }
      ]
    },
    {
      "cell_type": "code",
      "source": [
        "10 > 6 and 10 > 25"
      ],
      "metadata": {
        "colab": {
          "base_uri": "https://localhost:8080/"
        },
        "id": "GBjmq2pwjaAy",
        "outputId": "672c9d0d-7799-4c52-b7af-29d10ab1c572"
      },
      "execution_count": null,
      "outputs": [
        {
          "output_type": "execute_result",
          "data": {
            "text/plain": [
              "False"
            ]
          },
          "metadata": {},
          "execution_count": 192
        }
      ]
    },
    {
      "cell_type": "code",
      "source": [
        "10 == 2 or 10 < 20"
      ],
      "metadata": {
        "colab": {
          "base_uri": "https://localhost:8080/"
        },
        "id": "oYUWI5mpjdWy",
        "outputId": "ff5b7aa1-4448-4f62-e78e-2818c72c4131"
      },
      "execution_count": null,
      "outputs": [
        {
          "output_type": "execute_result",
          "data": {
            "text/plain": [
              "True"
            ]
          },
          "metadata": {},
          "execution_count": 193
        }
      ]
    },
    {
      "cell_type": "code",
      "source": [
        "2 != 22 or 2 == 22"
      ],
      "metadata": {
        "colab": {
          "base_uri": "https://localhost:8080/"
        },
        "id": "AL0uj9kzkLvJ",
        "outputId": "8ea20bc2-3d26-4598-b682-35dbb9090f63"
      },
      "execution_count": null,
      "outputs": [
        {
          "output_type": "execute_result",
          "data": {
            "text/plain": [
              "True"
            ]
          },
          "metadata": {},
          "execution_count": 195
        }
      ]
    },
    {
      "cell_type": "code",
      "source": [
        "lista = [1,2,3,4]"
      ],
      "metadata": {
        "id": "BTNZ4aywkRMj"
      },
      "execution_count": null,
      "outputs": []
    },
    {
      "cell_type": "code",
      "source": [
        "2 not in lista"
      ],
      "metadata": {
        "colab": {
          "base_uri": "https://localhost:8080/"
        },
        "id": "Z7v2LctYkt9f",
        "outputId": "df34bfca-a06d-46b7-8e1f-7064c80ab3b6"
      },
      "execution_count": null,
      "outputs": [
        {
          "output_type": "execute_result",
          "data": {
            "text/plain": [
              "False"
            ]
          },
          "metadata": {},
          "execution_count": 198
        }
      ]
    },
    {
      "cell_type": "code",
      "source": [
        "4 in lista"
      ],
      "metadata": {
        "colab": {
          "base_uri": "https://localhost:8080/"
        },
        "id": "Pnd7r7oVkvJQ",
        "outputId": "697aa206-1a74-4986-c7ad-600a89fe90bc"
      },
      "execution_count": null,
      "outputs": [
        {
          "output_type": "execute_result",
          "data": {
            "text/plain": [
              "True"
            ]
          },
          "metadata": {},
          "execution_count": 199
        }
      ]
    },
    {
      "cell_type": "markdown",
      "source": [
        "# Operadores de Identidade"
      ],
      "metadata": {
        "id": "V5rKESHVlKus"
      }
    },
    {
      "cell_type": "code",
      "source": [
        "# utilização do \"is\" e \"is not\"\n",
        "#em que compara seum objeto é igual ao outro, parecido com sinal de igual"
      ],
      "metadata": {
        "id": "obAn1kH5lRZR"
      },
      "execution_count": null,
      "outputs": []
    },
    {
      "cell_type": "code",
      "source": [
        "String_01 = 'Olá mundão'\n",
        "String_02 = 'Atenção'"
      ],
      "metadata": {
        "id": "G2PG_fK6lvsB"
      },
      "execution_count": null,
      "outputs": []
    },
    {
      "cell_type": "code",
      "source": [
        "type(String_01) == type(String_02)"
      ],
      "metadata": {
        "colab": {
          "base_uri": "https://localhost:8080/"
        },
        "id": "OQoNRuJtl0YT",
        "outputId": "f983570c-f3b7-457c-d982-26761d5d3501"
      },
      "execution_count": null,
      "outputs": [
        {
          "output_type": "execute_result",
          "data": {
            "text/plain": [
              "True"
            ]
          },
          "metadata": {},
          "execution_count": 205
        }
      ]
    },
    {
      "cell_type": "code",
      "source": [
        "type(String_01) is type(String_02)"
      ],
      "metadata": {
        "colab": {
          "base_uri": "https://localhost:8080/"
        },
        "id": "y0C6BJWXl57X",
        "outputId": "069f8cf4-5f0e-4a32-b423-c6258a5f1161"
      },
      "execution_count": null,
      "outputs": [
        {
          "output_type": "execute_result",
          "data": {
            "text/plain": [
              "True"
            ]
          },
          "metadata": {},
          "execution_count": 206
        }
      ]
    },
    {
      "cell_type": "code",
      "source": [
        "type(String_01) is not type(String_02)"
      ],
      "metadata": {
        "colab": {
          "base_uri": "https://localhost:8080/"
        },
        "id": "k0c7d8_nl-oE",
        "outputId": "ede00e4e-7f75-4922-d78f-87cfe699e8c4"
      },
      "execution_count": null,
      "outputs": [
        {
          "output_type": "execute_result",
          "data": {
            "text/plain": [
              "False"
            ]
          },
          "metadata": {},
          "execution_count": 207
        }
      ]
    },
    {
      "cell_type": "markdown",
      "source": [
        "# Operadores de Associação"
      ],
      "metadata": {
        "id": "4gFq8eznmZ6v"
      }
    },
    {
      "cell_type": "code",
      "source": [
        "#serve para testar se uma sequencia é apresentada em um objeto\n",
        "#\"in\" e \"not in\""
      ],
      "metadata": {
        "id": "dG0wRluUmoOC"
      },
      "execution_count": null,
      "outputs": []
    },
    {
      "cell_type": "code",
      "source": [
        "Lista_Acoes = ['Magalu', 'Via', 'Carrefour']"
      ],
      "metadata": {
        "id": "PTZwU1E3m5Fh"
      },
      "execution_count": null,
      "outputs": []
    },
    {
      "cell_type": "code",
      "source": [
        "'Magalu' in Lista_Acoes"
      ],
      "metadata": {
        "colab": {
          "base_uri": "https://localhost:8080/"
        },
        "id": "26UDLJBmnY9e",
        "outputId": "3a2fdfcc-5280-4d31-b521-440f5aabf198"
      },
      "execution_count": null,
      "outputs": [
        {
          "output_type": "execute_result",
          "data": {
            "text/plain": [
              "True"
            ]
          },
          "metadata": {},
          "execution_count": 212
        }
      ]
    },
    {
      "cell_type": "code",
      "source": [
        "'Magalu' not in Lista_Acoes"
      ],
      "metadata": {
        "colab": {
          "base_uri": "https://localhost:8080/"
        },
        "id": "Uw_L3ySAncj3",
        "outputId": "b49e10db-691e-4ccc-ec9b-045e565f181a"
      },
      "execution_count": null,
      "outputs": [
        {
          "output_type": "execute_result",
          "data": {
            "text/plain": [
              "False"
            ]
          },
          "metadata": {},
          "execution_count": 214
        }
      ]
    },
    {
      "cell_type": "markdown",
      "source": [
        "# Manipulando Listas"
      ],
      "metadata": {
        "id": "4_SBzikZoEe6"
      }
    },
    {
      "cell_type": "code",
      "source": [
        "#append - adicionar elementos dentro de uma lista, na ordem emque for digitado\n",
        "Lista_vazia = []\n",
        "Lista_vazia"
      ],
      "metadata": {
        "colab": {
          "base_uri": "https://localhost:8080/"
        },
        "id": "qj4fHFCKoHT_",
        "outputId": "95bfbe44-5159-47a4-be65-b6f30ee8b43b"
      },
      "execution_count": null,
      "outputs": [
        {
          "output_type": "execute_result",
          "data": {
            "text/plain": [
              "[]"
            ]
          },
          "metadata": {},
          "execution_count": 219
        }
      ]
    },
    {
      "cell_type": "code",
      "source": [
        "Lista_vazia.append(1)\n",
        "Lista_vazia.append(2)\n",
        "Lista_vazia.append(3)\n",
        "Lista_vazia.append('Valor')"
      ],
      "metadata": {
        "id": "pl4NO2NQo32V"
      },
      "execution_count": null,
      "outputs": []
    },
    {
      "cell_type": "code",
      "source": [
        "Lista_vazia"
      ],
      "metadata": {
        "colab": {
          "base_uri": "https://localhost:8080/"
        },
        "id": "wIhhFJebpAz0",
        "outputId": "b40030c2-5fec-4a5b-d74f-b21dbffe1843"
      },
      "execution_count": null,
      "outputs": [
        {
          "output_type": "execute_result",
          "data": {
            "text/plain": [
              "[1, 2, 3, 'Valor']"
            ]
          },
          "metadata": {},
          "execution_count": 221
        }
      ]
    },
    {
      "cell_type": "code",
      "source": [
        "len(Lista_vazia)"
      ],
      "metadata": {
        "colab": {
          "base_uri": "https://localhost:8080/"
        },
        "id": "5e8i-nslpCNb",
        "outputId": "0d209a7a-b0a8-4f41-a266-f2264d7782f0"
      },
      "execution_count": null,
      "outputs": [
        {
          "output_type": "execute_result",
          "data": {
            "text/plain": [
              "4"
            ]
          },
          "metadata": {},
          "execution_count": 222
        }
      ]
    },
    {
      "cell_type": "code",
      "source": [
        "#para acessar lista, usa-se colchete [ ]\n",
        "Lista_vazia[-1] #aqui, pode ser usado o sinal negativo para começar dos últimos elementos"
      ],
      "metadata": {
        "colab": {
          "base_uri": "https://localhost:8080/",
          "height": 36
        },
        "id": "f6f6jB6VpTrz",
        "outputId": "10f4dc17-63be-47a7-be69-a006b4c7146e"
      },
      "execution_count": null,
      "outputs": [
        {
          "output_type": "execute_result",
          "data": {
            "text/plain": [
              "'Valor'"
            ],
            "application/vnd.google.colaboratory.intrinsic+json": {
              "type": "string"
            }
          },
          "metadata": {},
          "execution_count": 225
        }
      ]
    },
    {
      "cell_type": "code",
      "source": [
        "#limpar uma lista, por meio da sintaxe clear\n",
        "print(Lista_vazia)\n",
        "Lista_vazia.clear()\n",
        "print(Lista_vazia)"
      ],
      "metadata": {
        "colab": {
          "base_uri": "https://localhost:8080/"
        },
        "id": "LywGH-mxpW4k",
        "outputId": "62926b3a-010e-4dcd-dd5a-d2b9072ab103"
      },
      "execution_count": null,
      "outputs": [
        {
          "output_type": "stream",
          "name": "stdout",
          "text": [
            "[1, 2, 3, 'Valor']\n",
            "[]\n"
          ]
        }
      ]
    },
    {
      "cell_type": "code",
      "source": [
        "#uma vez que foi zerado, a lista está vazia e se for reutilizar, tem que carregar os elementos no append"
      ],
      "metadata": {
        "id": "sVWnmE-9qBFc"
      },
      "execution_count": null,
      "outputs": []
    },
    {
      "cell_type": "code",
      "source": [
        "Lista_vazia"
      ],
      "metadata": {
        "colab": {
          "base_uri": "https://localhost:8080/"
        },
        "id": "pAEwJMgaqgH6",
        "outputId": "280b23d9-0e42-4a57-9dd6-1d572db619a5"
      },
      "execution_count": null,
      "outputs": [
        {
          "output_type": "execute_result",
          "data": {
            "text/plain": [
              "[1, 2, 3, 'Valor']"
            ]
          },
          "metadata": {},
          "execution_count": 230
        }
      ]
    },
    {
      "cell_type": "code",
      "source": [
        "#Insert, aqui, o usuário indica em qual parte do index será inserido o novo valor\n",
        "#a diferença com o append é que, insert define o local da inclusão, enqaunto no append, os novos valores\n",
        "#ficam no final da lista\n",
        "# para efetuar esse procedimento são necessários dois argumentos:\n",
        "#o primeiro é o index em que será inserido, e, o segundo, o valor/str que será incluso\n",
        "Lista_vazia.insert(2, 4)\n",
        "Lista_vazia"
      ],
      "metadata": {
        "colab": {
          "base_uri": "https://localhost:8080/"
        },
        "id": "cT3pDe_EqjAb",
        "outputId": "8f6a5856-fee0-4a24-9a53-e6df1dd116c6"
      },
      "execution_count": null,
      "outputs": [
        {
          "output_type": "execute_result",
          "data": {
            "text/plain": [
              "[11, 11, 4, 1, 2, 3, 'Valor']"
            ]
          },
          "metadata": {},
          "execution_count": 233
        }
      ]
    },
    {
      "cell_type": "code",
      "source": [
        "#concatenar lista ou empilhar lista,\n",
        "#usa-se extend\n",
        "lista_01 = [1,2, 3]\n",
        "lista_02 = [4, 5, 6]\n",
        "lista_01.extend(lista_02)"
      ],
      "metadata": {
        "id": "P00o7hiVrHfT"
      },
      "execution_count": null,
      "outputs": []
    },
    {
      "cell_type": "code",
      "source": [
        "lista_01"
      ],
      "metadata": {
        "colab": {
          "base_uri": "https://localhost:8080/"
        },
        "id": "SjXOMkFjsIY2",
        "outputId": "f27c7826-aeb4-4d5a-8676-21105a94bee0"
      },
      "execution_count": null,
      "outputs": [
        {
          "output_type": "execute_result",
          "data": {
            "text/plain": [
              "[1, 2, 3, 4, 5, 6]"
            ]
          },
          "metadata": {},
          "execution_count": 235
        }
      ]
    },
    {
      "cell_type": "code",
      "source": [
        "#remove, retira o elemento transcrito entre os parenteses e NÃO A POSIÇÃO DO INDEX\n",
        "#usar o remove, se conhecer qual elemento será jogado fora\n",
        "lista_01.remove(5)\n",
        "lista_01"
      ],
      "metadata": {
        "colab": {
          "base_uri": "https://localhost:8080/"
        },
        "id": "ADn3CaDzsJiO",
        "outputId": "cdf1785d-7ffa-4764-c5bb-f4963ddcd5b6"
      },
      "execution_count": null,
      "outputs": [
        {
          "output_type": "execute_result",
          "data": {
            "text/plain": [
              "[1, 2, 3, 4, 6]"
            ]
          },
          "metadata": {},
          "execution_count": 236
        }
      ]
    },
    {
      "cell_type": "code",
      "source": [
        "#para remover pela posição, ou pelo index, usa-se o pop\n",
        "#quando não se tem o elemento ou nome, retira-se pela posição\n",
        "lista_01.pop(0)\n",
        "lista_01"
      ],
      "metadata": {
        "colab": {
          "base_uri": "https://localhost:8080/"
        },
        "id": "UOvXN2--sfQ3",
        "outputId": "b69eb1bd-1aa4-4cd2-b218-72da9bc6f3ba"
      },
      "execution_count": null,
      "outputs": [
        {
          "output_type": "execute_result",
          "data": {
            "text/plain": [
              "[2, 3, 4, 6]"
            ]
          },
          "metadata": {},
          "execution_count": 237
        }
      ]
    },
    {
      "cell_type": "code",
      "source": [
        "#sort para organizar em ordem numerica/alfabetica\n",
        "#vai fazer a separação entre letras maiuscula e minuscula\n",
        "lista_abc = ['e', 'l', 'A', 'w', 'P']\n",
        "lista_abc.sort()\n",
        "lista_abc"
      ],
      "metadata": {
        "colab": {
          "base_uri": "https://localhost:8080/"
        },
        "id": "IWpSYYcRtIIT",
        "outputId": "0d511511-b453-4dde-c6ca-a0e21804c180"
      },
      "execution_count": null,
      "outputs": [
        {
          "output_type": "execute_result",
          "data": {
            "text/plain": [
              "['A', 'P', 'e', 'l', 'w']"
            ]
          },
          "metadata": {},
          "execution_count": 240
        }
      ]
    },
    {
      "cell_type": "code",
      "source": [
        "# usar reverse True, para deixar a lista ao contrário\n",
        "lista_abc.sort(reverse=True)\n",
        "lista_abc"
      ],
      "metadata": {
        "colab": {
          "base_uri": "https://localhost:8080/"
        },
        "id": "iMPiP1F7tnLO",
        "outputId": "c19a09f5-29ad-4b2b-9381-a91590000cc6"
      },
      "execution_count": null,
      "outputs": [
        {
          "output_type": "execute_result",
          "data": {
            "text/plain": [
              "['w', 'l', 'e', 'P', 'A']"
            ]
          },
          "metadata": {},
          "execution_count": 242
        }
      ]
    },
    {
      "cell_type": "code",
      "source": [
        "# o sinal de um igual tem o mesmo efeito par fazer uma CÓPIA\n",
        "lista_nova = lista_abc.copy()\n",
        "lista_nova"
      ],
      "metadata": {
        "colab": {
          "base_uri": "https://localhost:8080/"
        },
        "id": "6rtLhMFTt65F",
        "outputId": "ca7d2677-d354-472d-ba42-570c257cea15"
      },
      "execution_count": null,
      "outputs": [
        {
          "output_type": "execute_result",
          "data": {
            "text/plain": [
              "['w', 'l', 'e', 'P', 'A']"
            ]
          },
          "metadata": {},
          "execution_count": 243
        }
      ]
    },
    {
      "cell_type": "code",
      "source": [
        "# essa forma é menos segura, pois enquanto o primeiro faz uma cpóia do que foi repassado\n",
        "#esse daqui, pode ter seus valores alterados conforme a lista original mude\n",
        "lista_nova1 = lista_abc\n",
        "lista_nova1"
      ],
      "metadata": {
        "colab": {
          "base_uri": "https://localhost:8080/"
        },
        "id": "PEb7GD-euNrC",
        "outputId": "d6921327-117e-45eb-98f7-bcb504de9f74"
      },
      "execution_count": null,
      "outputs": [
        {
          "output_type": "execute_result",
          "data": {
            "text/plain": [
              "['w', 'l', 'e', 'P', 'A']"
            ]
          },
          "metadata": {},
          "execution_count": 245
        }
      ]
    },
    {
      "cell_type": "code",
      "source": [
        "#para descobrir qual o index de um elemento, usa-se o index\n",
        "lista_nova1.index('e')"
      ],
      "metadata": {
        "colab": {
          "base_uri": "https://localhost:8080/"
        },
        "id": "KCd3d_uzuifF",
        "outputId": "30362f96-2aec-47d2-c33d-7b42be68f263"
      },
      "execution_count": null,
      "outputs": [
        {
          "output_type": "execute_result",
          "data": {
            "text/plain": [
              "2"
            ]
          },
          "metadata": {},
          "execution_count": 246
        }
      ]
    },
    {
      "cell_type": "code",
      "source": [
        ""
      ],
      "metadata": {
        "id": "RlIHabkUu8vI"
      },
      "execution_count": null,
      "outputs": []
    },
    {
      "cell_type": "markdown",
      "source": [
        "# Pacote Externo - Datetime"
      ],
      "metadata": {
        "id": "Pt4GevXx2-oz"
      }
    },
    {
      "cell_type": "code",
      "source": [
        "#fornece uma fonte de classe para manipulação de data e hora\n",
        "type('01/01/2022')"
      ],
      "metadata": {
        "colab": {
          "base_uri": "https://localhost:8080/"
        },
        "id": "-hLfapUe3DGk",
        "outputId": "4b66d6af-a58c-4808-ddad-37b643ae7305"
      },
      "execution_count": 1,
      "outputs": [
        {
          "output_type": "execute_result",
          "data": {
            "text/plain": [
              "str"
            ]
          },
          "metadata": {},
          "execution_count": 1
        }
      ]
    },
    {
      "cell_type": "code",
      "source": [
        "type(01/01/2022)"
      ],
      "metadata": {
        "colab": {
          "base_uri": "https://localhost:8080/",
          "height": 135
        },
        "id": "2xzjtqu73bts",
        "outputId": "a2bcad68-cee6-49c3-9a3c-147c3eaecad0"
      },
      "execution_count": 2,
      "outputs": [
        {
          "output_type": "error",
          "ename": "SyntaxError",
          "evalue": "ignored",
          "traceback": [
            "\u001b[0;36m  File \u001b[0;32m\"<ipython-input-2-db3a79522648>\"\u001b[0;36m, line \u001b[0;32m1\u001b[0m\n\u001b[0;31m    type(01/01/2022)\u001b[0m\n\u001b[0m          ^\u001b[0m\n\u001b[0;31mSyntaxError\u001b[0m\u001b[0;31m:\u001b[0m invalid token\n"
          ]
        }
      ]
    },
    {
      "cell_type": "code",
      "source": [
        "import datetime"
      ],
      "metadata": {
        "id": "1BSOTnWw3h8c"
      },
      "execution_count": 16,
      "outputs": []
    },
    {
      "cell_type": "code",
      "source": [
        "Dia_hoje = datetime.datetime.today()\n",
        "print(Dia_hoje)"
      ],
      "metadata": {
        "colab": {
          "base_uri": "https://localhost:8080/"
        },
        "id": "m1z3IoM24Cwd",
        "outputId": "5a01e5d6-1f70-4418-caa4-36e2fd010851"
      },
      "execution_count": 5,
      "outputs": [
        {
          "output_type": "stream",
          "name": "stdout",
          "text": [
            "2022-08-03 13:24:14.073258\n"
          ]
        }
      ]
    },
    {
      "cell_type": "code",
      "source": [
        "type(Dia_hoje)"
      ],
      "metadata": {
        "colab": {
          "base_uri": "https://localhost:8080/"
        },
        "id": "0SVmTHXB4IKP",
        "outputId": "98b14d1a-1b0e-47ab-a847-95edb230979f"
      },
      "execution_count": 6,
      "outputs": [
        {
          "output_type": "execute_result",
          "data": {
            "text/plain": [
              "datetime.datetime"
            ]
          },
          "metadata": {},
          "execution_count": 6
        }
      ]
    },
    {
      "cell_type": "code",
      "source": [
        "print(datetime.datetime.today().date())\n",
        "#se nao tiver dentro do print, vai mostrar como resposta nao apenas a data, mas o nome datatime"
      ],
      "metadata": {
        "colab": {
          "base_uri": "https://localhost:8080/"
        },
        "id": "dMnP8Tvy4O67",
        "outputId": "efe4fd19-6c4c-4195-ccd8-b02a533109d1"
      },
      "execution_count": 9,
      "outputs": [
        {
          "output_type": "stream",
          "name": "stdout",
          "text": [
            "2022-08-03\n"
          ]
        }
      ]
    },
    {
      "cell_type": "code",
      "source": [
        "Data = datetime.datetime.today().date()\n",
        "#datetime completo, abaixo será decomposto por ano, mes e dia\n",
        "#NAO ESQUECER O DATE NO FINAL"
      ],
      "metadata": {
        "id": "Z_qcNCfN4jzw"
      },
      "execution_count": 46,
      "outputs": []
    },
    {
      "cell_type": "code",
      "source": [
        "Ano = Data.year\n",
        "Mes = Data.month\n",
        "Dia = Data.day\n",
        "\n",
        "print(Ano, Mes, Dia)\n",
        "#tendo a variável Data puxado o datetime today, aqui, esse variável é reutilizada separando as datas"
      ],
      "metadata": {
        "colab": {
          "base_uri": "https://localhost:8080/"
        },
        "id": "CoV4o84C5Kz-",
        "outputId": "9f4a4342-2d99-4982-fc95-06b46c9869af"
      },
      "execution_count": 27,
      "outputs": [
        {
          "output_type": "stream",
          "name": "stdout",
          "text": [
            "2022 8 3\n"
          ]
        }
      ]
    },
    {
      "cell_type": "code",
      "source": [
        "#criando uma data\n",
        "Data_antiga = datetime.date(2022, 1, 1) # ano, mes, dia\n",
        "Data_antiga\n"
      ],
      "metadata": {
        "colab": {
          "base_uri": "https://localhost:8080/"
        },
        "id": "rGFMpdQ96X67",
        "outputId": "def6cd5f-56ab-4fa9-d41d-62f37ee4f794"
      },
      "execution_count": 38,
      "outputs": [
        {
          "output_type": "execute_result",
          "data": {
            "text/plain": [
              "datetime.date(2022, 1, 1)"
            ]
          },
          "metadata": {},
          "execution_count": 38
        }
      ]
    },
    {
      "cell_type": "code",
      "source": [
        "print(Data_antiga)"
      ],
      "metadata": {
        "colab": {
          "base_uri": "https://localhost:8080/"
        },
        "id": "rJ7a_jt87R8t",
        "outputId": "71894903-3ee3-4711-e34c-933cf1c3dc70"
      },
      "execution_count": 32,
      "outputs": [
        {
          "output_type": "stream",
          "name": "stdout",
          "text": [
            "2022-01-01\n"
          ]
        }
      ]
    },
    {
      "cell_type": "code",
      "source": [
        "Data - Data_antiga"
      ],
      "metadata": {
        "colab": {
          "base_uri": "https://localhost:8080/"
        },
        "id": "De_K9qyJ7WX0",
        "outputId": "f1f4f084-29f8-4a6e-eea7-f89da5ade135"
      },
      "execution_count": 45,
      "outputs": [
        {
          "output_type": "execute_result",
          "data": {
            "text/plain": [
              "datetime.timedelta(days=214)"
            ]
          },
          "metadata": {},
          "execution_count": 45
        }
      ]
    },
    {
      "cell_type": "code",
      "source": [
        "#CONVERSAO DA DATA DO MODELO AMERICANO (ANO, MES, DIA), PARA O BRASILEIRO (DIA, MES, ANO)\n",
        "#para isso, basta usar o strftime sobre a variavel que tme a data\n",
        "Data.strftime('%d/%m/%y')\n",
        "#para tanto, basta inserir o porcentagem para indicar a alteração\n",
        "#a barra, pode ser trocada por qualquer coisa, inclusive espaço"
      ],
      "metadata": {
        "colab": {
          "base_uri": "https://localhost:8080/",
          "height": 36
        },
        "id": "E6hlrJbU7w5s",
        "outputId": "ddfe7f80-6c22-4f9f-c9a9-af45e3966384"
      },
      "execution_count": 49,
      "outputs": [
        {
          "output_type": "execute_result",
          "data": {
            "text/plain": [
              "'03/08/22'"
            ],
            "application/vnd.google.colaboratory.intrinsic+json": {
              "type": "string"
            }
          },
          "metadata": {},
          "execution_count": 49
        }
      ]
    },
    {
      "cell_type": "code",
      "source": [
        "#operações com data\n",
        "#tem que o datetime.timedelta()\n",
        "Data + 1"
      ],
      "metadata": {
        "colab": {
          "base_uri": "https://localhost:8080/",
          "height": 208
        },
        "id": "-vFxVHO98vpR",
        "outputId": "0095916b-8286-40d5-eb24-4c7859ce75e1"
      },
      "execution_count": 50,
      "outputs": [
        {
          "output_type": "error",
          "ename": "TypeError",
          "evalue": "ignored",
          "traceback": [
            "\u001b[0;31m---------------------------------------------------------------------------\u001b[0m",
            "\u001b[0;31mTypeError\u001b[0m                                 Traceback (most recent call last)",
            "\u001b[0;32m<ipython-input-50-3f79e529d987>\u001b[0m in \u001b[0;36m<module>\u001b[0;34m()\u001b[0m\n\u001b[1;32m      1\u001b[0m \u001b[0;31m#operações com data\u001b[0m\u001b[0;34m\u001b[0m\u001b[0;34m\u001b[0m\u001b[0;34m\u001b[0m\u001b[0m\n\u001b[1;32m      2\u001b[0m \u001b[0;31m#tem que o datetime.timedelta()\u001b[0m\u001b[0;34m\u001b[0m\u001b[0;34m\u001b[0m\u001b[0;34m\u001b[0m\u001b[0m\n\u001b[0;32m----> 3\u001b[0;31m \u001b[0mData\u001b[0m \u001b[0;34m+\u001b[0m \u001b[0;36m1\u001b[0m\u001b[0;34m\u001b[0m\u001b[0;34m\u001b[0m\u001b[0m\n\u001b[0m",
            "\u001b[0;31mTypeError\u001b[0m: unsupported operand type(s) for +: 'datetime.date' and 'int'"
          ]
        }
      ]
    },
    {
      "cell_type": "code",
      "source": [
        "Data + datetime.timedelta(days=1)"
      ],
      "metadata": {
        "colab": {
          "base_uri": "https://localhost:8080/"
        },
        "id": "fmoNdke2-uUi",
        "outputId": "3a6dbd9d-bb94-475b-be91-6a116a0bcdb3"
      },
      "execution_count": 52,
      "outputs": [
        {
          "output_type": "execute_result",
          "data": {
            "text/plain": [
              "datetime.date(2022, 8, 4)"
            ]
          },
          "metadata": {},
          "execution_count": 52
        }
      ]
    },
    {
      "cell_type": "code",
      "source": [
        "#nesse recorte, tentei a fazer soma em um dia, o primeiro deu erro, pq o programa não é capaz de rodar datetime com int\n",
        "#ja o segundo, foi adaptado do timedelta, para receber esse acrescimo de um dia."
      ],
      "metadata": {
        "id": "z4Jpdact-yqB"
      },
      "execution_count": 53,
      "outputs": []
    },
    {
      "cell_type": "code",
      "source": [
        "#muito importante em usar o type, para saber o tipo de data manipulada\n",
        "type(Data)"
      ],
      "metadata": {
        "colab": {
          "base_uri": "https://localhost:8080/"
        },
        "id": "qT69jH8Y_Gd6",
        "outputId": "b50b33af-519b-473a-9657-21f55110ff3c"
      },
      "execution_count": 54,
      "outputs": [
        {
          "output_type": "execute_result",
          "data": {
            "text/plain": [
              "datetime.date"
            ]
          },
          "metadata": {},
          "execution_count": 54
        }
      ]
    },
    {
      "cell_type": "code",
      "source": [
        "type(Data_antiga)"
      ],
      "metadata": {
        "colab": {
          "base_uri": "https://localhost:8080/"
        },
        "id": "wAePK_3W_W2O",
        "outputId": "dbc31d3a-2e08-4d7e-b407-872e885bea96"
      },
      "execution_count": 55,
      "outputs": [
        {
          "output_type": "execute_result",
          "data": {
            "text/plain": [
              "datetime.date"
            ]
          },
          "metadata": {},
          "execution_count": 55
        }
      ]
    },
    {
      "cell_type": "markdown",
      "source": [
        "# Pacote Externo - Time"
      ],
      "metadata": {
        "id": "Ew0FYQ1i_ksX"
      }
    },
    {
      "cell_type": "code",
      "source": [
        "#esse pacote fornece base de dados para manipular o tempo\n",
        "#exemplo: sleep()"
      ],
      "metadata": {
        "id": "nVbvLIQ__qR2"
      },
      "execution_count": 60,
      "outputs": []
    },
    {
      "cell_type": "code",
      "source": [
        "import time"
      ],
      "metadata": {
        "id": "PjRVtVYS_6MC"
      },
      "execution_count": 58,
      "outputs": []
    },
    {
      "cell_type": "code",
      "source": [
        "print('Comecei agora...')\n",
        "time.sleep(3)\n",
        "print('Terminei')"
      ],
      "metadata": {
        "colab": {
          "base_uri": "https://localhost:8080/"
        },
        "id": "FxeHftUGAKov",
        "outputId": "1f3cec87-0182-449a-fd39-0abe9d6a9482"
      },
      "execution_count": 59,
      "outputs": [
        {
          "output_type": "stream",
          "name": "stdout",
          "text": [
            "Comecei agora...\n",
            "Terminei\n"
          ]
        }
      ]
    },
    {
      "cell_type": "code",
      "source": [
        "Agora = time.localtime()\n",
        "print(Agora)\n",
        "type(Agora)\n",
        "#localtime, apresenta um conjunto de informações até parecida com o datetime. today().date()"
      ],
      "metadata": {
        "colab": {
          "base_uri": "https://localhost:8080/"
        },
        "id": "NdJ5hcJdASZg",
        "outputId": "da4e7546-2e6d-4fbb-81a7-0ebfc075aff8"
      },
      "execution_count": 65,
      "outputs": [
        {
          "output_type": "stream",
          "name": "stdout",
          "text": [
            "time.struct_time(tm_year=2022, tm_mon=8, tm_mday=3, tm_hour=14, tm_min=4, tm_sec=28, tm_wday=2, tm_yday=215, tm_isdst=0)\n"
          ]
        },
        {
          "output_type": "execute_result",
          "data": {
            "text/plain": [
              "time.struct_time"
            ]
          },
          "metadata": {},
          "execution_count": 65
        }
      ]
    },
    {
      "cell_type": "code",
      "source": [
        "#convertendo a hora e a data para o calendário br.\n",
        "time.strftime('%d/%m/%y, %H:%M:%S', Agora) #a parte do horario tem que ser em maiusculo"
      ],
      "metadata": {
        "colab": {
          "base_uri": "https://localhost:8080/",
          "height": 36
        },
        "id": "YKmgOE_kA7z4",
        "outputId": "489e259f-f146-4263-d842-9297d7585a72"
      },
      "execution_count": 70,
      "outputs": [
        {
          "output_type": "execute_result",
          "data": {
            "text/plain": [
              "'03/08/22, 14:04:28'"
            ],
            "application/vnd.google.colaboratory.intrinsic+json": {
              "type": "string"
            }
          },
          "metadata": {},
          "execution_count": 70
        }
      ]
    },
    {
      "cell_type": "code",
      "source": [
        "Time_Texto = '21 june, 2021'\n",
        "time.strptime(Time_Texto, '%d %B, %Y')\n",
        "#Diferença com o strftime, a variável vem antes da virgula, e nao depois.\n",
        "#além disso, insere o b para fazer referencia ao mes, ao inves de M"
      ],
      "metadata": {
        "colab": {
          "base_uri": "https://localhost:8080/"
        },
        "id": "E7yjWVY7CJaa",
        "outputId": "d4e30cd9-0a64-4343-ea10-5fd5624e5250"
      },
      "execution_count": 79,
      "outputs": [
        {
          "output_type": "execute_result",
          "data": {
            "text/plain": [
              "time.struct_time(tm_year=2021, tm_mon=6, tm_mday=21, tm_hour=0, tm_min=0, tm_sec=0, tm_wday=0, tm_yday=172, tm_isdst=-1)"
            ]
          },
          "metadata": {},
          "execution_count": 79
        }
      ]
    },
    {
      "cell_type": "markdown",
      "source": [
        "# Pacote Externo - Math"
      ],
      "metadata": {
        "id": "cV4FDh_EINpH"
      }
    },
    {
      "cell_type": "code",
      "source": [
        "#importa um conjunto de funções matemáticas"
      ],
      "metadata": {
        "id": "xEULa2YIIRZf"
      },
      "execution_count": 80,
      "outputs": []
    },
    {
      "cell_type": "code",
      "source": [
        "tupla = (2, 10, 12, 6, 40)"
      ],
      "metadata": {
        "id": "QdHcDpBZJAlZ"
      },
      "execution_count": 81,
      "outputs": []
    },
    {
      "cell_type": "code",
      "source": [
        "min(tupla)"
      ],
      "metadata": {
        "colab": {
          "base_uri": "https://localhost:8080/"
        },
        "id": "91uXRlbyJw0j",
        "outputId": "ee672030-32ba-462a-d28d-429116c4f378"
      },
      "execution_count": 82,
      "outputs": [
        {
          "output_type": "execute_result",
          "data": {
            "text/plain": [
              "2"
            ]
          },
          "metadata": {},
          "execution_count": 82
        }
      ]
    },
    {
      "cell_type": "code",
      "source": [
        "max(tupla)"
      ],
      "metadata": {
        "colab": {
          "base_uri": "https://localhost:8080/"
        },
        "id": "FfMdKvMxJyOL",
        "outputId": "f151fdf8-b41f-4290-be62-8562d7b3e707"
      },
      "execution_count": 83,
      "outputs": [
        {
          "output_type": "execute_result",
          "data": {
            "text/plain": [
              "40"
            ]
          },
          "metadata": {},
          "execution_count": 83
        }
      ]
    },
    {
      "cell_type": "code",
      "source": [
        "-7.25"
      ],
      "metadata": {
        "colab": {
          "base_uri": "https://localhost:8080/"
        },
        "id": "eXEAc44vJ0F1",
        "outputId": "82ca51f4-4392-4a0b-e3a4-759871dece92"
      },
      "execution_count": 86,
      "outputs": [
        {
          "output_type": "execute_result",
          "data": {
            "text/plain": [
              "-7.25"
            ]
          },
          "metadata": {},
          "execution_count": 86
        }
      ]
    },
    {
      "cell_type": "code",
      "source": [
        "abs(-7.75) \n",
        "#converte um numer negativo em positivo"
      ],
      "metadata": {
        "colab": {
          "base_uri": "https://localhost:8080/"
        },
        "id": "QqEAofhQJ2db",
        "outputId": "d2a69422-29ff-440e-a5f4-505d09fedc59"
      },
      "execution_count": 87,
      "outputs": [
        {
          "output_type": "execute_result",
          "data": {
            "text/plain": [
              "7.75"
            ]
          },
          "metadata": {},
          "execution_count": 87
        }
      ]
    },
    {
      "cell_type": "code",
      "source": [
        "pow(3, 4)\n",
        "#potencia, usa o pow, com dois argumentos, sendo o primeiro elemento a base e o segundo o expoente"
      ],
      "metadata": {
        "colab": {
          "base_uri": "https://localhost:8080/"
        },
        "id": "DNBqp5GkKKg-",
        "outputId": "6afaf58c-1185-4c1d-aaa8-d6454d77b710"
      },
      "execution_count": 89,
      "outputs": [
        {
          "output_type": "execute_result",
          "data": {
            "text/plain": [
              "81"
            ]
          },
          "metadata": {},
          "execution_count": 89
        }
      ]
    },
    {
      "cell_type": "code",
      "source": [
        "#todos esses cálculos de cima, pertencente a esse capitulo, não precisam do math, daqui pra baixo precisa"
      ],
      "metadata": {
        "id": "CzAnoIcwKMdQ"
      },
      "execution_count": 90,
      "outputs": []
    },
    {
      "cell_type": "code",
      "source": [
        "import math"
      ],
      "metadata": {
        "id": "gPuSPxi0KxEL"
      },
      "execution_count": 91,
      "outputs": []
    },
    {
      "cell_type": "code",
      "source": [
        "math.sqrt(81)"
      ],
      "metadata": {
        "colab": {
          "base_uri": "https://localhost:8080/"
        },
        "id": "5B29YT--K0qL",
        "outputId": "6a96d44b-91bc-4ebc-df20-a45734388e67"
      },
      "execution_count": 92,
      "outputs": [
        {
          "output_type": "execute_result",
          "data": {
            "text/plain": [
              "9.0"
            ]
          },
          "metadata": {},
          "execution_count": 92
        }
      ]
    },
    {
      "cell_type": "code",
      "source": [
        "#Arredondar para cima, ceil\n",
        "math.ceil(1.4)"
      ],
      "metadata": {
        "colab": {
          "base_uri": "https://localhost:8080/"
        },
        "id": "5i3Wz1WFK8KO",
        "outputId": "e76ba870-217d-48ff-c424-1febc32d4f94"
      },
      "execution_count": 93,
      "outputs": [
        {
          "output_type": "execute_result",
          "data": {
            "text/plain": [
              "2"
            ]
          },
          "metadata": {},
          "execution_count": 93
        }
      ]
    },
    {
      "cell_type": "code",
      "source": [
        "#arredondar para baixo, floor\n",
        "math.floor(1.4)"
      ],
      "metadata": {
        "colab": {
          "base_uri": "https://localhost:8080/"
        },
        "id": "wq5Q_dTwLxgu",
        "outputId": "e86c196b-8df2-4722-c19c-d9051a72aa73"
      },
      "execution_count": 94,
      "outputs": [
        {
          "output_type": "execute_result",
          "data": {
            "text/plain": [
              "1"
            ]
          },
          "metadata": {},
          "execution_count": 94
        }
      ]
    },
    {
      "cell_type": "code",
      "source": [
        "math.pi"
      ],
      "metadata": {
        "colab": {
          "base_uri": "https://localhost:8080/"
        },
        "id": "CTvaHbnNL2GN",
        "outputId": "5d127bca-7d90-40d4-bacd-e9c8e3d747f7"
      },
      "execution_count": 95,
      "outputs": [
        {
          "output_type": "execute_result",
          "data": {
            "text/plain": [
              "3.141592653589793"
            ]
          },
          "metadata": {},
          "execution_count": 95
        }
      ]
    },
    {
      "cell_type": "markdown",
      "source": [
        "# Pacote Externo - Random"
      ],
      "metadata": {
        "id": "7m48pbYqMKOb"
      }
    },
    {
      "cell_type": "code",
      "source": [
        "#gerar aleatoriedades\n",
        "import random"
      ],
      "metadata": {
        "id": "3pnfCe-PMPoz"
      },
      "execution_count": 97,
      "outputs": []
    },
    {
      "cell_type": "code",
      "source": [
        "Lista = [1,2,3,4,5,6,7,8]"
      ],
      "metadata": {
        "id": "qVbjOnH7MXRO"
      },
      "execution_count": 98,
      "outputs": []
    },
    {
      "cell_type": "code",
      "source": [
        "random.choice(Lista)"
      ],
      "metadata": {
        "colab": {
          "base_uri": "https://localhost:8080/"
        },
        "id": "l0j4GOHVMzEl",
        "outputId": "7d41b670-f1f3-4b8a-cd4c-f8d721f587d2"
      },
      "execution_count": 99,
      "outputs": [
        {
          "output_type": "execute_result",
          "data": {
            "text/plain": [
              "8"
            ]
          },
          "metadata": {},
          "execution_count": 99
        }
      ]
    },
    {
      "cell_type": "code",
      "source": [
        "Palavra = 'Wands'\n",
        "random.choice(Palavra)"
      ],
      "metadata": {
        "colab": {
          "base_uri": "https://localhost:8080/",
          "height": 36
        },
        "id": "MGLIQ5XLM1TX",
        "outputId": "9b42c40a-2d83-4619-a039-ae4ca0fede40"
      },
      "execution_count": 101,
      "outputs": [
        {
          "output_type": "execute_result",
          "data": {
            "text/plain": [
              "'n'"
            ],
            "application/vnd.google.colaboratory.intrinsic+json": {
              "type": "string"
            }
          },
          "metadata": {},
          "execution_count": 101
        }
      ]
    },
    {
      "cell_type": "code",
      "source": [
        "#valor aleatorio entre 0 e 1\n",
        "random.random()"
      ],
      "metadata": {
        "colab": {
          "base_uri": "https://localhost:8080/"
        },
        "id": "FdUXqnvtM8qY",
        "outputId": "4043a740-b39c-405e-ff94-1ff0f835a190"
      },
      "execution_count": 102,
      "outputs": [
        {
          "output_type": "execute_result",
          "data": {
            "text/plain": [
              "0.3818772949871254"
            ]
          },
          "metadata": {},
          "execution_count": 102
        }
      ]
    },
    {
      "cell_type": "code",
      "source": [
        "#randint, coloca dentro dos parenteses, dois argumentos, que são o intervalo do número a ser sorteado\n",
        "random.randint(0, 1000)"
      ],
      "metadata": {
        "colab": {
          "base_uri": "https://localhost:8080/"
        },
        "id": "M_NJk5uuNFAI",
        "outputId": "01abe332-443a-4854-f376-93faa84f7fbf"
      },
      "execution_count": 103,
      "outputs": [
        {
          "output_type": "execute_result",
          "data": {
            "text/plain": [
              "620"
            ]
          },
          "metadata": {},
          "execution_count": 103
        }
      ]
    },
    {
      "cell_type": "code",
      "source": [
        ""
      ],
      "metadata": {
        "id": "YWSqmHoPNYXv"
      },
      "execution_count": null,
      "outputs": []
    },
    {
      "cell_type": "markdown",
      "source": [
        "# Pacote Externo - Statistics"
      ],
      "metadata": {
        "id": "dQhJZ5xQNwKx"
      }
    },
    {
      "cell_type": "code",
      "source": [
        "#funcões para cálculos matemáticos e interações de listas"
      ],
      "metadata": {
        "id": "15eoJihANz6N"
      },
      "execution_count": 104,
      "outputs": []
    },
    {
      "cell_type": "code",
      "source": [
        "import statistics"
      ],
      "metadata": {
        "id": "V-__yAwnN96Q"
      },
      "execution_count": 105,
      "outputs": []
    },
    {
      "cell_type": "code",
      "source": [
        "Lista = [4, 8, 12, 17, 22, 25, 25]"
      ],
      "metadata": {
        "id": "_BrlLsdsOwby"
      },
      "execution_count": 111,
      "outputs": []
    },
    {
      "cell_type": "code",
      "source": [
        "sum(Lista) / len(Lista)"
      ],
      "metadata": {
        "colab": {
          "base_uri": "https://localhost:8080/"
        },
        "id": "Ut1WKLgXO3il",
        "outputId": "4463e0cf-cef6-4d92-dbe8-0870131044d4"
      },
      "execution_count": 112,
      "outputs": [
        {
          "output_type": "execute_result",
          "data": {
            "text/plain": [
              "16.142857142857142"
            ]
          },
          "metadata": {},
          "execution_count": 112
        }
      ]
    },
    {
      "cell_type": "code",
      "source": [
        "statistics.mean(Lista)"
      ],
      "metadata": {
        "colab": {
          "base_uri": "https://localhost:8080/"
        },
        "id": "0EEvZ3F_O7U-",
        "outputId": "6791fefc-e575-4716-e682-d1b32792ed8d"
      },
      "execution_count": 113,
      "outputs": [
        {
          "output_type": "execute_result",
          "data": {
            "text/plain": [
              "16.142857142857142"
            ]
          },
          "metadata": {},
          "execution_count": 113
        }
      ]
    },
    {
      "cell_type": "code",
      "source": [
        "statistics.median(Lista)"
      ],
      "metadata": {
        "colab": {
          "base_uri": "https://localhost:8080/"
        },
        "id": "pssOzHkcPBoR",
        "outputId": "80ae178e-3c69-4306-ae9f-10c63f17316b"
      },
      "execution_count": 114,
      "outputs": [
        {
          "output_type": "execute_result",
          "data": {
            "text/plain": [
              "17"
            ]
          },
          "metadata": {},
          "execution_count": 114
        }
      ]
    },
    {
      "cell_type": "code",
      "source": [
        "statistics.mode(Lista)"
      ],
      "metadata": {
        "colab": {
          "base_uri": "https://localhost:8080/"
        },
        "id": "aN2Nvv1ePHUv",
        "outputId": "1da9fd3a-972a-438b-fea6-9a9d36fbf407"
      },
      "execution_count": 115,
      "outputs": [
        {
          "output_type": "execute_result",
          "data": {
            "text/plain": [
              "25"
            ]
          },
          "metadata": {},
          "execution_count": 115
        }
      ]
    },
    {
      "cell_type": "markdown",
      "source": [
        "# Condição IF, Elif e Else"
      ],
      "metadata": {
        "id": "Vo3lJ0s_Pvjg"
      }
    },
    {
      "cell_type": "code",
      "source": [
        "# if, declarações a serem executadas caso o if se confirme"
      ],
      "metadata": {
        "id": "0ix5s02CPx3C"
      },
      "execution_count": 116,
      "outputs": []
    },
    {
      "cell_type": "code",
      "source": [
        "Idade = 17\n",
        "\n",
        "if Idade >= 18:\n",
        "  print('Você é maior de idade')"
      ],
      "metadata": {
        "id": "cQFgleCXQHPV"
      },
      "execution_count": 118,
      "outputs": []
    },
    {
      "cell_type": "code",
      "source": [
        "Idade = 14\n",
        "\n",
        "if Idade >= 18:\n",
        "  print('Voce é maior de idade')\n",
        "else:\n",
        "  print('Voce é menor de idade')\n"
      ],
      "metadata": {
        "colab": {
          "base_uri": "https://localhost:8080/"
        },
        "id": "ZD9H2fBDR1vn",
        "outputId": "9421b26c-630e-4e6a-8c4b-41ea045731b8"
      },
      "execution_count": 120,
      "outputs": [
        {
          "output_type": "stream",
          "name": "stdout",
          "text": [
            "Voce é menor de idade\n"
          ]
        }
      ]
    },
    {
      "cell_type": "code",
      "source": [
        "Idade = 15\n",
        "\n",
        "if Idade >= 18:\n",
        "  print('Voce é maior de idade')\n",
        "elif Idade >=15 and Idade <= 17:\n",
        "  print('Voce pode ter autorização dos responsáveis')\n",
        "else:\n",
        "  print('Voce é menor de idade')"
      ],
      "metadata": {
        "colab": {
          "base_uri": "https://localhost:8080/"
        },
        "id": "IfloPAAOSDcL",
        "outputId": "fc12c400-070d-437f-ca05-673e0ddd4178"
      },
      "execution_count": 122,
      "outputs": [
        {
          "output_type": "stream",
          "name": "stdout",
          "text": [
            "Voce pode ter autorização dos responsáveis\n"
          ]
        }
      ]
    },
    {
      "cell_type": "markdown",
      "source": [
        "# Estrutura de Loop - For"
      ],
      "metadata": {
        "id": "mAiLAxkWTwes"
      }
    },
    {
      "cell_type": "code",
      "source": [
        "#aplicado em uma lista, vai percorrer elemento por elemento\n",
        "for teste in range(11):\n",
        "  print(teste * 3)"
      ],
      "metadata": {
        "colab": {
          "base_uri": "https://localhost:8080/"
        },
        "id": "HBljXJXuT02U",
        "outputId": "07f4e353-3e72-4a9d-e1c9-8c3aceba3caa"
      },
      "execution_count": 144,
      "outputs": [
        {
          "output_type": "stream",
          "name": "stdout",
          "text": [
            "0\n",
            "3\n",
            "6\n",
            "9\n",
            "12\n",
            "15\n",
            "18\n",
            "21\n",
            "24\n",
            "27\n",
            "30\n"
          ]
        }
      ]
    },
    {
      "cell_type": "code",
      "source": [
        "for novoteste in range(1, 100, 15):\n",
        "  print(novoteste)\n"
      ],
      "metadata": {
        "colab": {
          "base_uri": "https://localhost:8080/"
        },
        "id": "Fj7gRqz3VQLF",
        "outputId": "6f9b3221-5ab1-4b1f-d4a7-3424196dd318"
      },
      "execution_count": 133,
      "outputs": [
        {
          "output_type": "stream",
          "name": "stdout",
          "text": [
            "1\n",
            "16\n",
            "31\n",
            "46\n",
            "61\n",
            "76\n",
            "91\n"
          ]
        }
      ]
    },
    {
      "cell_type": "code",
      "source": [
        "Lista_Paises = ['Brasil', 'Argentina', 'Uruguai', 'Paraguai', 'Colombia','Chile', 'Equador'] "
      ],
      "metadata": {
        "id": "WroXoppBWkm3"
      },
      "execution_count": 139,
      "outputs": []
    },
    {
      "cell_type": "code",
      "source": [
        "#PRIMEIRA forma de acessar os elementos da lista com for\n",
        "for latinos in Lista_Paises:\n",
        "  print(latinos.upper()[0:3]) #inserindo upper e abreviando os nomes dos paises"
      ],
      "metadata": {
        "colab": {
          "base_uri": "https://localhost:8080/"
        },
        "id": "bMteZ-8TYRYd",
        "outputId": "919b0002-5554-4e3a-ef0e-b9d3e3fb3b89"
      },
      "execution_count": 155,
      "outputs": [
        {
          "output_type": "stream",
          "name": "stdout",
          "text": [
            "BRA\n",
            "ARG\n",
            "URU\n",
            "PAR\n",
            "COL\n",
            "CHI\n",
            "EQU\n"
          ]
        }
      ]
    },
    {
      "cell_type": "code",
      "source": [
        "for Pais in Lista_Paises:\n",
        "  if Pais == 'Brasil' or Pais == 'Uruguai' or Pais == 'Argentina' or Pais == 'Paraguai':\n",
        "    print(f'{Pais} - Membro Fundador do Mercosul')\n",
        "  else:\n",
        "    print(f'{Pais} - Convidado')\n"
      ],
      "metadata": {
        "colab": {
          "base_uri": "https://localhost:8080/"
        },
        "id": "RkCH_XWvYZDf",
        "outputId": "b9967135-ef9f-48e2-cc13-edec9171172e"
      },
      "execution_count": 143,
      "outputs": [
        {
          "output_type": "stream",
          "name": "stdout",
          "text": [
            "Brasil - Membro Fundador do Mercosul\n",
            "Argentina - Membro Fundador do Mercosul\n",
            "Uruguai - Membro Fundador do Mercosul\n",
            "Paraguai - Membro Fundador do Mercosul\n",
            "Colombia - Convidado\n",
            "Chile - Convidado\n",
            "Equador - Convidado\n"
          ]
        }
      ]
    },
    {
      "cell_type": "code",
      "source": [
        "for campeao in Lista_Paises:\n",
        "  if campeao == 'Uruguai':\n",
        "    print(campeao, 'é bicampeao mundial de futebol')\n",
        "    for algumacoisa in range(10):\n",
        "      print(algumacoisa)\n"
      ],
      "metadata": {
        "colab": {
          "base_uri": "https://localhost:8080/"
        },
        "id": "H4IHwFZ0ZRr9",
        "outputId": "d8cdba6c-09f4-40d0-d74d-fcc20e077f81"
      },
      "execution_count": 148,
      "outputs": [
        {
          "output_type": "stream",
          "name": "stdout",
          "text": [
            "Uruguai é bicampeao mundial de futebol\n",
            "0\n",
            "1\n",
            "2\n",
            "3\n",
            "4\n",
            "5\n",
            "6\n",
            "7\n",
            "8\n",
            "9\n"
          ]
        }
      ]
    },
    {
      "cell_type": "code",
      "source": [
        "#SEGUNDA forma de acessaar os elementos dentro de uma lista com for\n",
        "for loop in range(len(Lista_Paises)):\n",
        "  print(Lista_Paises[loop])"
      ],
      "metadata": {
        "colab": {
          "base_uri": "https://localhost:8080/"
        },
        "id": "poS7sTSkabsg",
        "outputId": "7f8d9ea4-fb9c-4c84-d204-dad0b9fc0ef8"
      },
      "execution_count": 154,
      "outputs": [
        {
          "output_type": "stream",
          "name": "stdout",
          "text": [
            "Brasil\n",
            "Argentina\n",
            "Uruguai\n",
            "Paraguai\n",
            "Colombia\n",
            "Chile\n",
            "Equador\n"
          ]
        }
      ]
    },
    {
      "cell_type": "code",
      "source": [
        "#ENUMERATE\n",
        "#vai colocar um indice para uma determinada lista, para isso, o for recebendo mais um elemento\n",
        "for indice, Pais in enumerate(Lista_Paises):\n",
        "  print(indice, Pais)"
      ],
      "metadata": {
        "colab": {
          "base_uri": "https://localhost:8080/"
        },
        "id": "MjvzNCCobrLH",
        "outputId": "2ffb5e92-9c79-4ead-f93d-5cc6fb66cd16"
      },
      "execution_count": 156,
      "outputs": [
        {
          "output_type": "stream",
          "name": "stdout",
          "text": [
            "0 Brasil\n",
            "1 Argentina\n",
            "2 Uruguai\n",
            "3 Paraguai\n",
            "4 Colombia\n",
            "5 Chile\n",
            "6 Equador\n"
          ]
        }
      ]
    },
    {
      "cell_type": "code",
      "source": [
        "#mesma coisa que a de cima mas criando uma variável para o indice\n",
        "x=0\n",
        "for Pais in Lista_Paises:\n",
        "  print(x, Pais)\n",
        "  x += 1"
      ],
      "metadata": {
        "colab": {
          "base_uri": "https://localhost:8080/"
        },
        "id": "R5WgFvVF4KOj",
        "outputId": "b4550b9e-aa61-488b-ba1a-5e70534e3ecc"
      },
      "execution_count": 157,
      "outputs": [
        {
          "output_type": "stream",
          "name": "stdout",
          "text": [
            "0 Brasil\n",
            "1 Argentina\n",
            "2 Uruguai\n",
            "3 Paraguai\n",
            "4 Colombia\n",
            "5 Chile\n",
            "6 Equador\n"
          ]
        }
      ]
    },
    {
      "cell_type": "code",
      "source": [
        "#for usado dentro de uma lista\n",
        "#para tanto, o \"Numero\" ja especifica como será reaproveitado a sua variável, podendo ser inserido operadores matemáticos\n",
        "Lista = [numero*2 for numero in range(0,10,2)]\n",
        "Lista"
      ],
      "metadata": {
        "colab": {
          "base_uri": "https://localhost:8080/"
        },
        "id": "jM5HLEUW4mXM",
        "outputId": "27b3104f-1ef5-45b7-9eee-3f6c7e0358df"
      },
      "execution_count": 162,
      "outputs": [
        {
          "output_type": "execute_result",
          "data": {
            "text/plain": [
              "[0, 4, 8, 12, 16]"
            ]
          },
          "metadata": {},
          "execution_count": 162
        }
      ]
    },
    {
      "cell_type": "code",
      "source": [
        "#para alimentar uma lista com o for, basta usar o append\n",
        "Lista= []\n",
        "for Loop in range(0, 10, 2):\n",
        "  Lista.append(Loop*2)\n",
        "Lista"
      ],
      "metadata": {
        "colab": {
          "base_uri": "https://localhost:8080/"
        },
        "id": "0KYOIBSX7t89",
        "outputId": "9038034d-b172-43cf-9453-b6619e5c292e"
      },
      "execution_count": 166,
      "outputs": [
        {
          "output_type": "execute_result",
          "data": {
            "text/plain": [
              "[0, 4, 8, 12, 16]"
            ]
          },
          "metadata": {},
          "execution_count": 166
        }
      ]
    },
    {
      "cell_type": "code",
      "source": [
        ""
      ],
      "metadata": {
        "id": "zJXituyM8s9F"
      },
      "execution_count": null,
      "outputs": []
    },
    {
      "cell_type": "markdown",
      "source": [
        "# Estrutura de Loop - While"
      ],
      "metadata": {
        "id": "OVkPJoev9Mwe"
      }
    },
    {
      "cell_type": "code",
      "source": [
        "#igual o for, mas while precisa de um determinante, dizendo quando o cálculo será finalizado"
      ],
      "metadata": {
        "id": "Z_3PUT9d9Qas"
      },
      "execution_count": 167,
      "outputs": []
    },
    {
      "cell_type": "code",
      "source": [
        "Parar = 0\n",
        "\n",
        "while Parar <= 10:\n",
        "  print(Parar)\n",
        "  Parar += 1"
      ],
      "metadata": {
        "colab": {
          "base_uri": "https://localhost:8080/"
        },
        "id": "lP6m1Lt-9WXD",
        "outputId": "ad987781-45e8-4fd9-f1a8-be565f69c098"
      },
      "execution_count": 168,
      "outputs": [
        {
          "output_type": "stream",
          "name": "stdout",
          "text": [
            "0\n",
            "1\n",
            "2\n",
            "3\n",
            "4\n",
            "5\n",
            "6\n",
            "7\n",
            "8\n",
            "9\n",
            "10\n"
          ]
        }
      ]
    },
    {
      "cell_type": "code",
      "source": [
        "Loop = 0\n",
        "\n",
        "while Loop <= 10:\n",
        "  print(Loop)\n",
        "  if Loop == 5:\n",
        "    for c in range(10):\n",
        "      print(c)\n",
        "  Loop += 1"
      ],
      "metadata": {
        "colab": {
          "base_uri": "https://localhost:8080/"
        },
        "id": "oP2OsqUU-PgD",
        "outputId": "7f234191-17c7-4445-f004-fa9c6f559075"
      },
      "execution_count": 169,
      "outputs": [
        {
          "output_type": "stream",
          "name": "stdout",
          "text": [
            "0\n",
            "1\n",
            "2\n",
            "3\n",
            "4\n",
            "5\n",
            "0\n",
            "1\n",
            "2\n",
            "3\n",
            "4\n",
            "5\n",
            "6\n",
            "7\n",
            "8\n",
            "9\n",
            "6\n",
            "7\n",
            "8\n",
            "9\n",
            "10\n"
          ]
        }
      ]
    },
    {
      "cell_type": "code",
      "source": [
        "Looping = 1\n",
        "\n",
        "while Looping <= 10:\n",
        "  print(Looping)\n",
        "  if Looping == 5:\n",
        "    for c in range(10): #dá para usar o enumerate aqui\n",
        "      print(c, random.random())\n",
        "  Looping +=1"
      ],
      "metadata": {
        "colab": {
          "base_uri": "https://localhost:8080/"
        },
        "id": "6LNJC97L_mLI",
        "outputId": "a6a3b7e1-fc87-4d90-b7c0-cf9941a946f4"
      },
      "execution_count": 172,
      "outputs": [
        {
          "output_type": "stream",
          "name": "stdout",
          "text": [
            "1\n",
            "2\n",
            "3\n",
            "4\n",
            "5\n",
            "0 0.0316074891992999\n",
            "1 0.703524816362774\n",
            "2 0.22551073891105455\n",
            "3 0.7707063356972215\n",
            "4 0.09830265900053725\n",
            "5 0.30769933879011946\n",
            "6 0.2233743090766519\n",
            "7 0.4487216115677649\n",
            "8 0.5634916666699551\n",
            "9 0.8083003920262182\n",
            "6\n",
            "7\n",
            "8\n",
            "9\n",
            "10\n"
          ]
        }
      ]
    },
    {
      "cell_type": "code",
      "source": [
        "\n",
        "while True:\n",
        "  eu = random.randint(0,10)\n",
        "  outros = random.randint(0, 10)\n",
        "\n",
        "  print('Tirei', eu)\n",
        "  print('Os demais', outros)\n",
        "\n",
        "  if eu > outros:\n",
        "    print('Ganhei!')\n",
        "    break\n",
        "  print('\\n')"
      ],
      "metadata": {
        "colab": {
          "base_uri": "https://localhost:8080/"
        },
        "id": "NOhKnXw6_-tl",
        "outputId": "6d29fcbd-1ccc-4257-f739-74d84c66bf31"
      },
      "execution_count": 175,
      "outputs": [
        {
          "output_type": "stream",
          "name": "stdout",
          "text": [
            "Tirei 0\n",
            "Os demais 8\n",
            "\n",
            "\n",
            "Tirei 9\n",
            "Os demais 3\n",
            "Ganhei!\n"
          ]
        }
      ]
    },
    {
      "cell_type": "markdown",
      "source": [
        "# Estrutura de Quebra - Break e Continue"
      ],
      "metadata": {
        "id": "TsTLZUfsCr8s"
      }
    },
    {
      "cell_type": "code",
      "source": [
        "Lista = ['Banana', 'Maca', 'Uva', 'Abacaxi']"
      ],
      "metadata": {
        "id": "9SJmnj2FCvtE"
      },
      "execution_count": 176,
      "outputs": []
    },
    {
      "cell_type": "code",
      "source": [
        "for frutas in Lista:\n",
        "  print(frutas)\n",
        "  if frutas == 'Uva':\n",
        "    break"
      ],
      "metadata": {
        "colab": {
          "base_uri": "https://localhost:8080/"
        },
        "id": "wyWCnuTNDh0W",
        "outputId": "a8256090-4825-4522-c979-a8958a1056ad"
      },
      "execution_count": 178,
      "outputs": [
        {
          "output_type": "stream",
          "name": "stdout",
          "text": [
            "Banana\n",
            "Maca\n",
            "Uva\n"
          ]
        }
      ]
    },
    {
      "cell_type": "code",
      "source": [
        "for loop in range(0, 11):\n",
        "  print(loop)\n",
        "  if loop == 5:\n",
        "    #continue. Aqui se o continue vem antes do print, esse último seria ignorado \n",
        "    print('cheguei na metade')\n",
        "    continue #nao precisa nem inserir esse continue, pois o loop principal, não será quebrado"
      ],
      "metadata": {
        "colab": {
          "base_uri": "https://localhost:8080/"
        },
        "id": "nlxL4hmkDl6X",
        "outputId": "56e83cc9-1c21-43d5-aed7-d6d4a925dc97"
      },
      "execution_count": 183,
      "outputs": [
        {
          "output_type": "stream",
          "name": "stdout",
          "text": [
            "0\n",
            "1\n",
            "2\n",
            "3\n",
            "4\n",
            "5\n",
            "cheguei na metade\n",
            "6\n",
            "7\n",
            "8\n",
            "9\n",
            "10\n"
          ]
        }
      ]
    },
    {
      "cell_type": "code",
      "source": [
        "#igual ao de cima, mas com o continue antes do print\n",
        "#a ordem do primeiro print tbem mudei, deixei para o final e, assim, o n. 5 foi ignorado\n",
        "for loop in range(0, 11):\n",
        "  \n",
        "  if loop == 5:\n",
        "    continue\n",
        "    print('cheguei aqui mas vou ser ignorado')# essa parte do ignorado só ocorre se o print do principal estiver lançado no final\n",
        "  print(loop) # esse aqui e o print do principal"
      ],
      "metadata": {
        "colab": {
          "base_uri": "https://localhost:8080/"
        },
        "id": "1P3wqDS3DwXZ",
        "outputId": "d96bed62-626e-431a-e923-757287813632"
      },
      "execution_count": 189,
      "outputs": [
        {
          "output_type": "stream",
          "name": "stdout",
          "text": [
            "0\n",
            "1\n",
            "2\n",
            "3\n",
            "4\n",
            "6\n",
            "7\n",
            "8\n",
            "9\n",
            "10\n"
          ]
        }
      ]
    },
    {
      "cell_type": "markdown",
      "source": [
        "# Estrutura de Funções"
      ],
      "metadata": {
        "id": "ZAOjMxyOGWRS"
      }
    },
    {
      "cell_type": "code",
      "source": [
        "#função é um bloco de código que somente será executado quando chamado.\n",
        "#sempre começa com def\n"
      ],
      "metadata": {
        "id": "FK6xIXHCGaOm"
      },
      "execution_count": 190,
      "outputs": []
    },
    {
      "cell_type": "code",
      "source": [
        "def Boas_vindas():\n",
        "  print('===========Python===========')"
      ],
      "metadata": {
        "id": "AlolYAPJHGsR"
      },
      "execution_count": 194,
      "outputs": []
    },
    {
      "cell_type": "code",
      "source": [
        "print(Boas_vindas())\n",
        "#com print, fica esse nenhum"
      ],
      "metadata": {
        "colab": {
          "base_uri": "https://localhost:8080/"
        },
        "id": "INlmDPUtHLo6",
        "outputId": "2f8d7a83-0cd4-4112-e457-2417e60eba2e"
      },
      "execution_count": 197,
      "outputs": [
        {
          "output_type": "stream",
          "name": "stdout",
          "text": [
            "===========Python===========\n",
            "None\n"
          ]
        }
      ]
    },
    {
      "cell_type": "code",
      "source": [
        "Boas_vindas()\n",
        "#sem print e com parenteses, fica limpo"
      ],
      "metadata": {
        "colab": {
          "base_uri": "https://localhost:8080/"
        },
        "id": "sBgx4JlIHOMZ",
        "outputId": "d713f549-b534-4c55-912f-697f7dfbb914"
      },
      "execution_count": 199,
      "outputs": [
        {
          "output_type": "stream",
          "name": "stdout",
          "text": [
            "===========Python===========\n"
          ]
        }
      ]
    },
    {
      "cell_type": "code",
      "source": [
        "def Somar(Valor_1, Valor_2):\n",
        "  soma = Valor_1 + Valor_2\n",
        "  print(soma)\n",
        "  #return soma\n",
        "  #essas duas formas acima: print e return, pode ser usadas sem problemas, no entanto, no return, pode ser inserido em uma saida print"
      ],
      "metadata": {
        "id": "5pamI014HdDY"
      },
      "execution_count": 207,
      "outputs": []
    },
    {
      "cell_type": "code",
      "source": [
        "Somar(2, 5)"
      ],
      "metadata": {
        "colab": {
          "base_uri": "https://localhost:8080/"
        },
        "id": "rmVfWaz7IW6_",
        "outputId": "95799bb7-9399-4ccb-fbee-a290ac51cd8f"
      },
      "execution_count": 208,
      "outputs": [
        {
          "output_type": "stream",
          "name": "stdout",
          "text": [
            "7\n"
          ]
        }
      ]
    },
    {
      "cell_type": "code",
      "source": [
        "print(Somar(5,5))"
      ],
      "metadata": {
        "colab": {
          "base_uri": "https://localhost:8080/"
        },
        "id": "Z2ajiAyrIYGo",
        "outputId": "8f0aea49-4a89-40c3-cd3b-d21aba544940"
      },
      "execution_count": 209,
      "outputs": [
        {
          "output_type": "stream",
          "name": "stdout",
          "text": [
            "10\n",
            "None\n"
          ]
        }
      ]
    },
    {
      "cell_type": "code",
      "source": [
        "for loop in range(0, 5):\n",
        "  x = random.random()\n",
        "  y = random.random()\n",
        "  Somar(x, y)\n",
        "  print('\\n')"
      ],
      "metadata": {
        "colab": {
          "base_uri": "https://localhost:8080/"
        },
        "id": "OIPwGK6TIgE7",
        "outputId": "6f2e917e-0074-4d89-cf4c-5341876387b7"
      },
      "execution_count": 210,
      "outputs": [
        {
          "output_type": "stream",
          "name": "stdout",
          "text": [
            "0.5919727597014878\n",
            "\n",
            "\n",
            "1.21570318596959\n",
            "\n",
            "\n",
            "1.3862595955748644\n",
            "\n",
            "\n",
            "1.5118032233695207\n",
            "\n",
            "\n",
            "1.4369082217096008\n",
            "\n",
            "\n"
          ]
        }
      ]
    },
    {
      "cell_type": "code",
      "source": [
        "#fazendo teste com input, ficou claro pela necessidade de indicar que tipo de valor está sendo digitado, no caso, int\n",
        "x1 = int(input('Digite o primeiro número: '))\n",
        "x2 = int(input('Digite o segundo número: '))\n",
        "Somar(x1, x2)"
      ],
      "metadata": {
        "colab": {
          "base_uri": "https://localhost:8080/"
        },
        "id": "kl4rEI2FJfeY",
        "outputId": "b7c371a3-216f-44ff-f841-883b7ca6a97e"
      },
      "execution_count": 221,
      "outputs": [
        {
          "output_type": "stream",
          "name": "stdout",
          "text": [
            "Digite o primeiro número: 10\n",
            "Digite o segundo número: 2\n",
            "12\n"
          ]
        }
      ]
    },
    {
      "cell_type": "code",
      "source": [
        "#caso não seja inserido o tipo de valor digitado, o python nao executara o cálculo de Somar e apenas fará uma concatenação1\n",
        "x1 = input('Digite o primeiro número: ')\n",
        "x2 = input('Digite o segundo número: ')\n",
        "Somar(x1, x2)"
      ],
      "metadata": {
        "colab": {
          "base_uri": "https://localhost:8080/"
        },
        "id": "B53eNkkBKG4a",
        "outputId": "2b836e4a-31bd-4b72-96e0-e0c0b174ef2a"
      },
      "execution_count": 225,
      "outputs": [
        {
          "output_type": "stream",
          "name": "stdout",
          "text": [
            "Digite o primeiro número: 2\n",
            "Digite o segundo número: 4\n",
            "24\n"
          ]
        }
      ]
    },
    {
      "cell_type": "code",
      "source": [
        ""
      ],
      "metadata": {
        "id": "VPR7aMA3LiKo"
      },
      "execution_count": null,
      "outputs": []
    },
    {
      "cell_type": "markdown",
      "source": [
        "# Estrutura Lambda"
      ],
      "metadata": {
        "id": "gCOn5IJgMxOe"
      }
    },
    {
      "cell_type": "code",
      "source": [
        "#lambda é uma pequena função anônima.Isso quer dizer que não recebe o nome que vem depois do def, no modelo tradicional acima\n",
        "#pode receber uma quantidade enorme de argumentos mas pode ter apenas uma expressão"
      ],
      "metadata": {
        "id": "GMSBfDqCMzxc"
      },
      "execution_count": 226,
      "outputs": []
    },
    {
      "cell_type": "code",
      "source": [
        "Funcao_soma = lambda valor: valor + 10"
      ],
      "metadata": {
        "id": "diRtwPuDNOvh"
      },
      "execution_count": 227,
      "outputs": []
    },
    {
      "cell_type": "code",
      "source": [
        "Funcao_soma(1)"
      ],
      "metadata": {
        "colab": {
          "base_uri": "https://localhost:8080/"
        },
        "id": "zcVspWULN5Ye",
        "outputId": "11ae93e9-5c55-4df1-fead-f33256ed6eb9"
      },
      "execution_count": 228,
      "outputs": [
        {
          "output_type": "execute_result",
          "data": {
            "text/plain": [
              "11"
            ]
          },
          "metadata": {},
          "execution_count": 228
        }
      ]
    },
    {
      "cell_type": "code",
      "source": [
        "Função_Soma2 = lambda valor_1, valor_2: valor_1 + valor_2"
      ],
      "metadata": {
        "id": "W1YKkNIMN7oT"
      },
      "execution_count": 232,
      "outputs": []
    },
    {
      "cell_type": "code",
      "source": [
        "Função_Soma2(5, 8)"
      ],
      "metadata": {
        "colab": {
          "base_uri": "https://localhost:8080/"
        },
        "id": "lfsp2QEHOc4U",
        "outputId": "7d792c3b-d688-4a7f-82c3-c31a42a7af8f"
      },
      "execution_count": 233,
      "outputs": [
        {
          "output_type": "execute_result",
          "data": {
            "text/plain": [
              "13"
            ]
          },
          "metadata": {},
          "execution_count": 233
        }
      ]
    },
    {
      "cell_type": "code",
      "source": [
        "#antes dos :, são os argumentos, podendo ser vários, depois é a expressão matemática"
      ],
      "metadata": {
        "id": "dS5_dO4yOhVe"
      },
      "execution_count": 231,
      "outputs": []
    },
    {
      "cell_type": "code",
      "source": [
        "Exemplo = lambda valor: 'Verdadeiro' if valor % 2 == 0 else 'Falso'\n",
        "Exemplo(6)"
      ],
      "metadata": {
        "colab": {
          "base_uri": "https://localhost:8080/",
          "height": 36
        },
        "id": "1E6nkDlcOr_q",
        "outputId": "c25d7376-bfe3-4564-bb60-c170cf1ae06c"
      },
      "execution_count": 235,
      "outputs": [
        {
          "output_type": "execute_result",
          "data": {
            "text/plain": [
              "'Verdadeiro'"
            ],
            "application/vnd.google.colaboratory.intrinsic+json": {
              "type": "string"
            }
          },
          "metadata": {},
          "execution_count": 235
        }
      ]
    },
    {
      "cell_type": "code",
      "source": [
        "Testenome = lambda textostring: 'Verdadeiro' if textostring  == 'Ola' else 'False'\n",
        "Testenome('Ola')"
      ],
      "metadata": {
        "colab": {
          "base_uri": "https://localhost:8080/",
          "height": 36
        },
        "id": "85aEsHUvPyWQ",
        "outputId": "54f797aa-a58f-4a0d-e771-792a6add17a3"
      },
      "execution_count": 256,
      "outputs": [
        {
          "output_type": "execute_result",
          "data": {
            "text/plain": [
              "'Verdadeiro'"
            ],
            "application/vnd.google.colaboratory.intrinsic+json": {
              "type": "string"
            }
          },
          "metadata": {},
          "execution_count": 256
        }
      ]
    },
    {
      "cell_type": "code",
      "source": [
        ""
      ],
      "metadata": {
        "id": "_nHKn75eQmHJ"
      },
      "execution_count": null,
      "outputs": []
    },
    {
      "cell_type": "markdown",
      "source": [
        "# Estrutura de Try"
      ],
      "metadata": {
        "id": "I36XhIQlV0r6"
      }
    },
    {
      "cell_type": "code",
      "source": [
        "#permite inserir códigos para lidar com eventuais erros"
      ],
      "metadata": {
        "id": "bO_vFyXaV3Rw"
      },
      "execution_count": 257,
      "outputs": []
    },
    {
      "cell_type": "code",
      "source": [
        "try:\n",
        "  20/10\n",
        "  print('Deu certo a linha de código')\n",
        "except:\n",
        "  print('Deu erro, pô')\n",
        "finally:\n",
        "  print('O programa rodará, indepedente do except ou das demais opções')"
      ],
      "metadata": {
        "colab": {
          "base_uri": "https://localhost:8080/"
        },
        "id": "uQFBKOuTWX4Q",
        "outputId": "5a26d668-5a1b-43c5-8e2b-b953c5b3c746"
      },
      "execution_count": 262,
      "outputs": [
        {
          "output_type": "stream",
          "name": "stdout",
          "text": [
            "Deu certo a linha de código\n",
            "O programa rodará, indepedente do except ou das demais opções\n"
          ]
        }
      ]
    },
    {
      "cell_type": "code",
      "source": [
        ""
      ],
      "metadata": {
        "id": "XCiPd3mOWZ_b"
      },
      "execution_count": null,
      "outputs": []
    },
    {
      "cell_type": "markdown",
      "source": [
        "# Estrutura de Classes / Objetos"
      ],
      "metadata": {
        "id": "7koz3WIbXXh2"
      }
    },
    {
      "cell_type": "code",
      "source": [
        "class Pessoa:\n",
        "\n",
        "  #metodo construtor\n",
        "  def __init__(self, Nome, Idade): #o self é obrigatorio.\n",
        "    self.Nome = Nome #atribuindo os valores recebidos como parametros para dentro do atributo da classe\n",
        "    self.Idade = Idade #igual ao de cima, atribuindo os valores recebidos como parametros para dentro do atributo da classe\n",
        "#o def serve para criar métodos\n",
        "#o construtor é um método reservado chamado __init__\n",
        "#o corpo do método é o self.nome e self.idade\n",
        "#e daqui pra baixo, defini-se os métodos a serem usados\n",
        "\n",
        "  #funções\n",
        "  def Boas_vindas(self):\n",
        "    print('Bem vindo', self.Nome)\n",
        "\n",
        "  def Recusado(self):\n",
        "    print('Voce foi recusado por ser menor de idade')\n",
        "\n",
        "  def Maior_idade(self):\n",
        "    if self.Idade >= 18:\n",
        "      print('Você é maior de idade, acesso permitido')\n",
        "      self.Boas_vindas()\n",
        "    else:\n",
        "      print('Você é menor de idade')\n",
        "      self.Recusado()"
      ],
      "metadata": {
        "id": "PoQJKkhEXeDy"
      },
      "execution_count": 281,
      "outputs": []
    },
    {
      "cell_type": "code",
      "source": [
        "#classe sempre vem dentro de uma variavel\n",
        "testando = Pessoa('Wnd', 12)"
      ],
      "metadata": {
        "id": "m-dQm2PybU5j"
      },
      "execution_count": 282,
      "outputs": []
    },
    {
      "cell_type": "code",
      "source": [
        "testando.Maior_idade() #necessário colocar os parenteses"
      ],
      "metadata": {
        "colab": {
          "base_uri": "https://localhost:8080/"
        },
        "id": "gGvsJfVibeL9",
        "outputId": "f774bdc1-0878-4439-a6e2-d435877805ab"
      },
      "execution_count": 283,
      "outputs": [
        {
          "output_type": "stream",
          "name": "stdout",
          "text": [
            "Você é menor de idade\n",
            "Voce foi recusado por ser menor de idade\n"
          ]
        }
      ]
    },
    {
      "cell_type": "code",
      "source": [
        "#TESTE E SIMULAÇÕES"
      ],
      "metadata": {
        "id": "Ku3kH0tPbw4h"
      },
      "execution_count": 273,
      "outputs": []
    },
    {
      "cell_type": "code",
      "source": [
        "class Calculo:\n",
        "\n",
        "  #metodo construtor\n",
        "  def __init__(self, primeiro_num, segundo_num):\n",
        "    self.primeiro_num = primeiro_num\n",
        "    self.segundo_num = segundo_num\n",
        "\n",
        "  def soma(self):\n",
        "    a = self.primeiro_num + self.segundo_num\n",
        "    print('O resultado da soma foi de', a) #nao esquecer de imprimir o resultado, caso contrário, será apresentado o nada\n",
        "\n",
        "  def boas_vindas(self):\n",
        "    print('Boas vindas, usuário')\n",
        "  \n",
        "  def resultado(self):\n",
        "    self.soma()\n",
        "    self.boas_vindas()"
      ],
      "metadata": {
        "id": "DPEez4EOh59u"
      },
      "execution_count": 382,
      "outputs": []
    },
    {
      "cell_type": "code",
      "source": [
        "testepqn = Calculo(4, 6)"
      ],
      "metadata": {
        "id": "HjDoWSdSreSr"
      },
      "execution_count": 383,
      "outputs": []
    },
    {
      "cell_type": "code",
      "source": [
        "testepqn.resultado()"
      ],
      "metadata": {
        "colab": {
          "base_uri": "https://localhost:8080/"
        },
        "id": "aGpOevJxrljr",
        "outputId": "2fd32df3-7b00-481d-ac08-d2c0360202f0"
      },
      "execution_count": 384,
      "outputs": [
        {
          "output_type": "stream",
          "name": "stdout",
          "text": [
            "O resultado da soma foi de 10\n",
            "Boas vindas, usuário\n"
          ]
        }
      ]
    },
    {
      "cell_type": "code",
      "source": [
        ""
      ],
      "metadata": {
        "id": "Bw7MGr6orofc"
      },
      "execution_count": 364,
      "outputs": []
    },
    {
      "cell_type": "markdown",
      "source": [
        "# Módulos e Pacotes"
      ],
      "metadata": {
        "id": "d6CASU100W9f"
      }
    },
    {
      "cell_type": "code",
      "source": [
        "#biblioteca de códigos.\n",
        "#geralmente, usa-se 'pip install'\n",
        "#quando é time, random, datetime, não precisa instalar pois já são nativos\n",
        "#pandas, matplotlib, numpy, entre outros, precisam baixar a biblioteca"
      ],
      "metadata": {
        "id": "avO3BWpyydrp"
      },
      "execution_count": 388,
      "outputs": []
    },
    {
      "cell_type": "code",
      "source": [
        "pip install pandas"
      ],
      "metadata": {
        "colab": {
          "base_uri": "https://localhost:8080/"
        },
        "id": "LB0ZMITwygvY",
        "outputId": "4755ca55-5c47-4db7-e8d1-955aee6c8fc5"
      },
      "execution_count": 386,
      "outputs": [
        {
          "output_type": "stream",
          "name": "stdout",
          "text": [
            "Looking in indexes: https://pypi.org/simple, https://us-python.pkg.dev/colab-wheels/public/simple/\n",
            "Requirement already satisfied: pandas in /usr/local/lib/python3.7/dist-packages (1.3.5)\n",
            "Requirement already satisfied: pytz>=2017.3 in /usr/local/lib/python3.7/dist-packages (from pandas) (2022.1)\n",
            "Requirement already satisfied: python-dateutil>=2.7.3 in /usr/local/lib/python3.7/dist-packages (from pandas) (2.8.2)\n",
            "Requirement already satisfied: numpy>=1.17.3 in /usr/local/lib/python3.7/dist-packages (from pandas) (1.21.6)\n",
            "Requirement already satisfied: six>=1.5 in /usr/local/lib/python3.7/dist-packages (from python-dateutil>=2.7.3->pandas) (1.15.0)\n"
          ]
        }
      ]
    },
    {
      "cell_type": "markdown",
      "source": [
        "# Print Formatado"
      ],
      "metadata": {
        "id": "lnEu4Fzl1gQm"
      }
    },
    {
      "cell_type": "code",
      "source": [
        "#apresenta a utilização do f e chave dentro as aspas onde o print recebe o texto"
      ],
      "metadata": {
        "id": "2YexuUJi1iYN"
      },
      "execution_count": 389,
      "outputs": []
    },
    {
      "cell_type": "code",
      "source": [
        "print('A soma de 2 + 2 é de', 2+2)"
      ],
      "metadata": {
        "colab": {
          "base_uri": "https://localhost:8080/"
        },
        "id": "NSIczKW816-_",
        "outputId": "0c74e714-3198-4248-a949-65c6559fba2e"
      },
      "execution_count": 390,
      "outputs": [
        {
          "output_type": "stream",
          "name": "stdout",
          "text": [
            "A soma de 2 + 2 é de 4\n"
          ]
        }
      ]
    },
    {
      "cell_type": "code",
      "source": [
        "print(f'A soma de 2 + 2 é de {2+2}')"
      ],
      "metadata": {
        "colab": {
          "base_uri": "https://localhost:8080/"
        },
        "id": "JILG_pY11_zc",
        "outputId": "6689afd8-dcf6-40e9-834f-5a860ac4643e"
      },
      "execution_count": 391,
      "outputs": [
        {
          "output_type": "stream",
          "name": "stdout",
          "text": [
            "A soma de 2 + 2 é de 4\n"
          ]
        }
      ]
    },
    {
      "cell_type": "code",
      "source": [
        ""
      ],
      "metadata": {
        "id": "zLymT8Iy2Dnh"
      },
      "execution_count": null,
      "outputs": []
    }
  ]
}