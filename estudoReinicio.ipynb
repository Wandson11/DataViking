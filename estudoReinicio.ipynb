{
  "nbformat": 4,
  "nbformat_minor": 0,
  "metadata": {
    "colab": {
      "name": "estudoReinicio.ipynb",
      "provenance": [],
      "toc_visible": true
    },
    "kernelspec": {
      "name": "python3",
      "display_name": "Python 3"
    },
    "language_info": {
      "name": "python"
    }
  },
  "cells": [
    {
      "cell_type": "code",
      "execution_count": 1,
      "metadata": {
        "colab": {
          "base_uri": "https://localhost:8080/"
        },
        "id": "p2CoeI-PRniH",
        "outputId": "31c14998-9223-4a4d-9446-7d717342b29a"
      },
      "outputs": [
        {
          "output_type": "execute_result",
          "data": {
            "text/plain": [
              "4"
            ]
          },
          "metadata": {},
          "execution_count": 1
        }
      ],
      "source": [
        "1+3\n"
      ]
    },
    {
      "cell_type": "code",
      "source": [
        "#subtracao\n",
        "4-2"
      ],
      "metadata": {
        "colab": {
          "base_uri": "https://localhost:8080/"
        },
        "id": "ZyUPS6LaRshM",
        "outputId": "ba25aae1-ddd5-4144-8c81-8b770c059a93"
      },
      "execution_count": 2,
      "outputs": [
        {
          "output_type": "execute_result",
          "data": {
            "text/plain": [
              "2"
            ]
          },
          "metadata": {},
          "execution_count": 2
        }
      ]
    },
    {
      "cell_type": "code",
      "source": [
        "#multiplicação\n",
        "2 * 5"
      ],
      "metadata": {
        "colab": {
          "base_uri": "https://localhost:8080/"
        },
        "id": "QasM-zi7Rw5d",
        "outputId": "2f708d7c-34fa-41c0-843c-cd42c3a69bf8"
      },
      "execution_count": 3,
      "outputs": [
        {
          "output_type": "execute_result",
          "data": {
            "text/plain": [
              "10"
            ]
          },
          "metadata": {},
          "execution_count": 3
        }
      ]
    },
    {
      "cell_type": "code",
      "source": [
        "#divisão\n",
        "2 / 4"
      ],
      "metadata": {
        "colab": {
          "base_uri": "https://localhost:8080/"
        },
        "id": "sFMTyJG1R0nX",
        "outputId": "3266f67a-cdc0-48e2-80a8-34dbd6b41d67"
      },
      "execution_count": 5,
      "outputs": [
        {
          "output_type": "execute_result",
          "data": {
            "text/plain": [
              "0.5"
            ]
          },
          "metadata": {},
          "execution_count": 5
        }
      ]
    },
    {
      "cell_type": "code",
      "source": [
        "#exponenciação\n",
        "2 ** 4"
      ],
      "metadata": {
        "colab": {
          "base_uri": "https://localhost:8080/"
        },
        "id": "XtRAyuC3R3sh",
        "outputId": "a2b19433-8fa7-4528-8e1e-26bc0509b235"
      },
      "execution_count": 6,
      "outputs": [
        {
          "output_type": "execute_result",
          "data": {
            "text/plain": [
              "16"
            ]
          },
          "metadata": {},
          "execution_count": 6
        }
      ]
    },
    {
      "cell_type": "code",
      "source": [
        "#resto da divisão\n",
        "2 % 4"
      ],
      "metadata": {
        "colab": {
          "base_uri": "https://localhost:8080/"
        },
        "id": "v4PFHNyNR_kk",
        "outputId": "ccd77285-c817-4bae-8bd2-9f05fd938472"
      },
      "execution_count": 7,
      "outputs": [
        {
          "output_type": "execute_result",
          "data": {
            "text/plain": [
              "2"
            ]
          },
          "metadata": {},
          "execution_count": 7
        }
      ]
    },
    {
      "cell_type": "code",
      "source": [
        "#divisão de chao\n",
        "2 // 4"
      ],
      "metadata": {
        "colab": {
          "base_uri": "https://localhost:8080/"
        },
        "id": "CcUynGZTSHrN",
        "outputId": "8e6250eb-d427-4682-ed39-14e90dbd0120"
      },
      "execution_count": 8,
      "outputs": [
        {
          "output_type": "execute_result",
          "data": {
            "text/plain": [
              "0"
            ]
          },
          "metadata": {},
          "execution_count": 8
        }
      ]
    },
    {
      "cell_type": "code",
      "source": [
        "# usar \\n para pular uma linha\n",
        "print('teste\\nnao precisa de espaço')"
      ],
      "metadata": {
        "colab": {
          "base_uri": "https://localhost:8080/"
        },
        "id": "rsSu9i95SNkm",
        "outputId": "8f599fba-5a65-420d-a177-a0d48a536b58"
      },
      "execution_count": 10,
      "outputs": [
        {
          "output_type": "stream",
          "name": "stdout",
          "text": [
            "teste\n",
            "nao precisa de espaço\n"
          ]
        }
      ]
    },
    {
      "cell_type": "markdown",
      "source": [
        "Variáveis"
      ],
      "metadata": {
        "id": "fwVc-ETRje6P"
      }
    },
    {
      "cell_type": "code",
      "source": [
        "#não admite variavel com espaço, se for preciso separar, usar underline"
      ],
      "metadata": {
        "id": "mOcgK92-jhoz"
      },
      "execution_count": 11,
      "outputs": []
    },
    {
      "cell_type": "code",
      "source": [
        "#variaveis de mesmo nome se sobreescrevem."
      ],
      "metadata": {
        "id": "6ntqmyRGtRBX"
      },
      "execution_count": 12,
      "outputs": []
    },
    {
      "cell_type": "markdown",
      "source": [
        "# variável texto"
      ],
      "metadata": {
        "id": "WBM7OcaOte8V"
      }
    },
    {
      "cell_type": "code",
      "source": [
        "var_texto_1 = 'um texto qualquer'"
      ],
      "metadata": {
        "id": "QUMrE8-DtVbO"
      },
      "execution_count": 14,
      "outputs": []
    },
    {
      "cell_type": "code",
      "source": [
        "var_texto_2 = str('novo texto')"
      ],
      "metadata": {
        "id": "FuV_grcCtm1K"
      },
      "execution_count": 15,
      "outputs": []
    },
    {
      "cell_type": "code",
      "source": [
        "print(f'{var_texto_1} \\n {var_texto_2}')"
      ],
      "metadata": {
        "colab": {
          "base_uri": "https://localhost:8080/"
        },
        "id": "UApDRhO7tqe8",
        "outputId": "04b26b28-7391-4e6d-fd72-0baab8ee814d"
      },
      "execution_count": 21,
      "outputs": [
        {
          "output_type": "stream",
          "name": "stdout",
          "text": [
            "um texto qualquer \n",
            " novo texto\n"
          ]
        }
      ]
    },
    {
      "cell_type": "markdown",
      "source": [
        "# Variáveis númericas"
      ],
      "metadata": {
        "id": "22tRj--CuZiB"
      }
    },
    {
      "cell_type": "code",
      "source": [
        "# são dois tipos, inteiras e flutuantes."
      ],
      "metadata": {
        "id": "NQXPnKKZub6c"
      },
      "execution_count": 22,
      "outputs": []
    },
    {
      "cell_type": "code",
      "source": [
        "#inteira.\n",
        "var_int_01 = 100\n",
        "var_int_02 = int(120)\n",
        "print(var_int_01, var_int_02)"
      ],
      "metadata": {
        "colab": {
          "base_uri": "https://localhost:8080/"
        },
        "id": "fXw_fwNRuikO",
        "outputId": "5091549a-d241-49b4-9ca4-dabf406a9581"
      },
      "execution_count": 24,
      "outputs": [
        {
          "output_type": "stream",
          "name": "stdout",
          "text": [
            "100 120\n"
          ]
        }
      ]
    },
    {
      "cell_type": "code",
      "source": [
        "#flutuante\n",
        "var_flut_01 = 100.12\n",
        "var_flut_02 = float(123.60)\n",
        "print(var_flut_01, var_flut_02)"
      ],
      "metadata": {
        "colab": {
          "base_uri": "https://localhost:8080/"
        },
        "id": "5hlDk_YJuqTy",
        "outputId": "e729fc7f-bf9e-4d36-e530-bb117175904e"
      },
      "execution_count": 25,
      "outputs": [
        {
          "output_type": "stream",
          "name": "stdout",
          "text": [
            "100.12 123.6\n"
          ]
        }
      ]
    },
    {
      "cell_type": "markdown",
      "source": [
        "# Variáveis Booleanas"
      ],
      "metadata": {
        "id": "N805WM3avkBW"
      }
    },
    {
      "cell_type": "code",
      "source": [
        "# booleanas são condicionais, sendo utilizadas o True ou False, com a primeira letra em maiuscula"
      ],
      "metadata": {
        "id": "JljpxbYFvmvb"
      },
      "execution_count": 26,
      "outputs": []
    },
    {
      "cell_type": "code",
      "source": [
        "var_booleana_01 = True\n",
        "var_booleana_02 = False\n",
        "print(var_booleana_01, var_booleana_02)"
      ],
      "metadata": {
        "colab": {
          "base_uri": "https://localhost:8080/"
        },
        "id": "74tcwpu9vuz3",
        "outputId": "6baddd94-b3d6-46e9-80b7-51c84bddaa00"
      },
      "execution_count": 27,
      "outputs": [
        {
          "output_type": "stream",
          "name": "stdout",
          "text": [
            "True False\n"
          ]
        }
      ]
    },
    {
      "cell_type": "code",
      "source": [
        "#sempre bom deixar o nome da variável autoexplicativa para não dar confusão."
      ],
      "metadata": {
        "id": "0T_jnaCCv2oY"
      },
      "execution_count": 29,
      "outputs": []
    },
    {
      "cell_type": "code",
      "source": [
        ""
      ],
      "metadata": {
        "id": "rXo-j2MjwVaa"
      },
      "execution_count": null,
      "outputs": []
    },
    {
      "cell_type": "markdown",
      "source": [
        "# Tipos de dados:\n",
        "1. Lista [ ]\n",
        "2. Tupla ( )\n",
        "3. Dicionário { }"
      ],
      "metadata": {
        "id": "Zi-4ccdDw7rN"
      }
    },
    {
      "cell_type": "code",
      "source": [
        "#LISTA\n",
        "lista_exemplo_01 = [1,2,3,4,5,6,7,8,9]\n",
        "lista_exemplo_01"
      ],
      "metadata": {
        "colab": {
          "base_uri": "https://localhost:8080/"
        },
        "id": "XxKNfJQlxHlh",
        "outputId": "ebcc1621-1270-480e-bd28-227c800661e2"
      },
      "execution_count": 39,
      "outputs": [
        {
          "output_type": "execute_result",
          "data": {
            "text/plain": [
              "[1, 2, 3, 4, 5, 6, 7, 8, 9]"
            ]
          },
          "metadata": {},
          "execution_count": 39
        }
      ]
    },
    {
      "cell_type": "code",
      "source": [
        "#acessando um item da lista por meio do index (começa pelo zero e nao com 1)\n",
        "lista_exemplo_01[4]"
      ],
      "metadata": {
        "colab": {
          "base_uri": "https://localhost:8080/"
        },
        "id": "bbVoy6hnxPOt",
        "outputId": "b19560ad-5188-4d12-e11d-600634412530"
      },
      "execution_count": 32,
      "outputs": [
        {
          "output_type": "execute_result",
          "data": {
            "text/plain": [
              "5"
            ]
          },
          "metadata": {},
          "execution_count": 32
        }
      ]
    },
    {
      "cell_type": "code",
      "source": [
        "lista_exemplo_02 = ['queijo', 'cerveja','arroz']\n",
        "lista_exemplo_02"
      ],
      "metadata": {
        "colab": {
          "base_uri": "https://localhost:8080/"
        },
        "id": "57CJLfEZxTBa",
        "outputId": "c0041a21-8611-4b64-cf22-ecb8526d7f7b"
      },
      "execution_count": 33,
      "outputs": [
        {
          "output_type": "execute_result",
          "data": {
            "text/plain": [
              "['queijo', 'cerveja', 'arroz']"
            ]
          },
          "metadata": {},
          "execution_count": 33
        }
      ]
    },
    {
      "cell_type": "code",
      "source": [
        "lista_exemplo_02[2]"
      ],
      "metadata": {
        "colab": {
          "base_uri": "https://localhost:8080/",
          "height": 36
        },
        "id": "awBSNhx4xn0T",
        "outputId": "72471972-1c15-44a3-a017-855c0139a250"
      },
      "execution_count": 34,
      "outputs": [
        {
          "output_type": "execute_result",
          "data": {
            "text/plain": [
              "'arroz'"
            ],
            "application/vnd.google.colaboratory.intrinsic+json": {
              "type": "string"
            }
          },
          "metadata": {},
          "execution_count": 34
        }
      ]
    },
    {
      "cell_type": "code",
      "source": [
        "lista_exemplo_03 = ['nome', 1, 'teste', [1,2,3]]\n",
        "lista_exemplo_03"
      ],
      "metadata": {
        "colab": {
          "base_uri": "https://localhost:8080/"
        },
        "id": "X5WJPZ9txqyh",
        "outputId": "9c582cc5-df6f-437a-bff1-82d42675a2f0"
      },
      "execution_count": 35,
      "outputs": [
        {
          "output_type": "execute_result",
          "data": {
            "text/plain": [
              "['nome', 1, 'teste', [1, 2, 3]]"
            ]
          },
          "metadata": {},
          "execution_count": 35
        }
      ]
    },
    {
      "cell_type": "code",
      "source": [
        "lista_exemplo_03[3][1]"
      ],
      "metadata": {
        "colab": {
          "base_uri": "https://localhost:8080/"
        },
        "id": "wATJAq88x_mT",
        "outputId": "7687a655-ae59-4c69-a91c-48933cbb14cb"
      },
      "execution_count": 38,
      "outputs": [
        {
          "output_type": "execute_result",
          "data": {
            "text/plain": [
              "2"
            ]
          },
          "metadata": {},
          "execution_count": 38
        }
      ]
    },
    {
      "cell_type": "code",
      "source": [
        "#TUPLA - IMUTÁVEIS"
      ],
      "metadata": {
        "id": "Db2Ce6KyyDII"
      },
      "execution_count": 40,
      "outputs": []
    },
    {
      "cell_type": "code",
      "source": [
        "tupla_exemplo_01 = (1,2,3,4,5)\n",
        "tupla_exemplo_02 = ('texto', 1, 2.5, False)\n",
        "tupla_exemplo_01, tupla_exemplo_02"
      ],
      "metadata": {
        "colab": {
          "base_uri": "https://localhost:8080/"
        },
        "id": "6R8wBCAAyXiu",
        "outputId": "f8fa94a9-4bdb-4522-a198-7d74f2fe373a"
      },
      "execution_count": 41,
      "outputs": [
        {
          "output_type": "execute_result",
          "data": {
            "text/plain": [
              "((1, 2, 3, 4, 5), ('texto', 1, 2.5, False))"
            ]
          },
          "metadata": {},
          "execution_count": 41
        }
      ]
    },
    {
      "cell_type": "code",
      "source": [
        "#DICIONÁRIO\n",
        "#precisa pasasar a key: e o valor, tudo dentro de chaves, e key e valores, dentro de aspas separadas por dois pontos\n",
        "#se for número não precisa de aspas, pode ser direto\n",
        "dicionário_exemplo_01 = {'Chave': 'Valor'}"
      ],
      "metadata": {
        "id": "dVlddolMzEJJ"
      },
      "execution_count": 46,
      "outputs": []
    },
    {
      "cell_type": "code",
      "source": [
        ""
      ],
      "metadata": {
        "id": "v8jOMQgkzca_"
      },
      "execution_count": null,
      "outputs": []
    },
    {
      "cell_type": "markdown",
      "source": [
        "# Nomeando Variáveis"
      ],
      "metadata": {
        "id": "koTC1RFa06Ci"
      }
    },
    {
      "cell_type": "code",
      "source": [
        "#nomeando\n",
        "laranja, uva, abacaxi = 1, 2, 3\n",
        "print(laranja, uva, abacaxi)"
      ],
      "metadata": {
        "colab": {
          "base_uri": "https://localhost:8080/"
        },
        "id": "nJh8Qizc09tp",
        "outputId": "737c8be3-bcf9-4c62-d8a6-29fefcde6eb7"
      },
      "execution_count": 47,
      "outputs": [
        {
          "output_type": "stream",
          "name": "stdout",
          "text": [
            "1 2 3\n"
          ]
        }
      ]
    },
    {
      "cell_type": "code",
      "source": [
        "#nomeando\n",
        "maca = banana = kiwi = 10\n",
        "print(maca , banana , kiwi)"
      ],
      "metadata": {
        "colab": {
          "base_uri": "https://localhost:8080/"
        },
        "id": "lF6cP1j81Gj2",
        "outputId": "62a83109-6c7c-433c-faa5-a4b56b6571df"
      },
      "execution_count": 48,
      "outputs": [
        {
          "output_type": "stream",
          "name": "stdout",
          "text": [
            "10 10 10\n"
          ]
        }
      ]
    },
    {
      "cell_type": "code",
      "source": [
        "#nomeando com lista\n",
        "lista_carros = ['Volks', 'Audi', 'Fiat']\n",
        "marca_01, marca_02, marca_03 = lista_carros\n",
        "print(marca_01, marca_02, marca_03)"
      ],
      "metadata": {
        "colab": {
          "base_uri": "https://localhost:8080/"
        },
        "id": "dHFFuH5W1RVw",
        "outputId": "fffaf4f9-2f7c-4452-f457-a369107de0c4"
      },
      "execution_count": 50,
      "outputs": [
        {
          "output_type": "stream",
          "name": "stdout",
          "text": [
            "Volks Audi Fiat\n"
          ]
        }
      ]
    },
    {
      "cell_type": "code",
      "source": [
        "#nomeando com variáveis\n",
        "nome = 'Wand'\n",
        "sobrenome ='Bar'\n",
        "\n",
        "nome_completo = nome + ' ' + sobrenome\n",
        "print(nome_completo)"
      ],
      "metadata": {
        "colab": {
          "base_uri": "https://localhost:8080/"
        },
        "id": "fxjCi_uM103_",
        "outputId": "3bf19ad4-a265-439b-b385-1157ab26e220"
      },
      "execution_count": 52,
      "outputs": [
        {
          "output_type": "stream",
          "name": "stdout",
          "text": [
            "Wand Bar\n"
          ]
        }
      ]
    },
    {
      "cell_type": "code",
      "source": [
        "#experimento\n",
        "nome = 'wand '\n",
        "idade= str(32)\n",
        "\n",
        "nome +idade"
      ],
      "metadata": {
        "colab": {
          "base_uri": "https://localhost:8080/",
          "height": 36
        },
        "id": "JnciSqHU2r6N",
        "outputId": "1ea02dd6-990f-47f0-827d-2141884b4a72"
      },
      "execution_count": 55,
      "outputs": [
        {
          "output_type": "execute_result",
          "data": {
            "text/plain": [
              "'wand 32'"
            ],
            "application/vnd.google.colaboratory.intrinsic+json": {
              "type": "string"
            }
          },
          "metadata": {},
          "execution_count": 55
        }
      ]
    },
    {
      "cell_type": "code",
      "source": [
        "investimento = 1000\n",
        "juros = '0.2'\n",
        "investimento * juros\n",
        "#aqui, como o juros ficou como str, o programa entendeu que era pra redroduzir a str mil vezes"
      ],
      "metadata": {
        "colab": {
          "base_uri": "https://localhost:8080/",
          "height": 200
        },
        "id": "s7WIcla93La_",
        "outputId": "bc4b970b-797d-43c5-966a-1cd1dff3b149"
      },
      "execution_count": 56,
      "outputs": [
        {
          "output_type": "execute_result",
          "data": {
            "text/plain": [
              "'0.20.20.20.20.20.20.20.20.20.20.20.20.20.20.20.20.20.20.20.20.20.20.20.20.20.20.20.20.20.20.20.20.20.20.20.20.20.20.20.20.20.20.20.20.20.20.20.20.20.20.20.20.20.20.20.20.20.20.20.20.20.20.20.20.20.20.20.20.20.20.20.20.20.20.20.20.20.20.20.20.20.20.20.20.20.20.20.20.20.20.20.20.20.20.20.20.20.20.20.20.20.20.20.20.20.20.20.20.20.20.20.20.20.20.20.20.20.20.20.20.20.20.20.20.20.20.20.20.20.20.20.20.20.20.20.20.20.20.20.20.20.20.20.20.20.20.20.20.20.20.20.20.20.20.20.20.20.20.20.20.20.20.20.20.20.20.20.20.20.20.20.20.20.20.20.20.20.20.20.20.20.20.20.20.20.20.20.20.20.20.20.20.20.20.20.20.20.20.20.20.20.20.20.20.20.20.20.20.20.20.20.20.20.20.20.20.20.20.20.20.20.20.20.20.20.20.20.20.20.20.20.20.20.20.20.20.20.20.20.20.20.20.20.20.20.20.20.20.20.20.20.20.20.20.20.20.20.20.20.20.20.20.20.20.20.20.20.20.20.20.20.20.20.20.20.20.20.20.20.20.20.20.20.20.20.20.20.20.20.20.20.20.20.20.20.20.20.20.20.20.20.20.20.20.20.20.20.20.20.20.20.20.20.20.20.20.20.20.20.20.20.20.20.20.20.20.20.20.20.20.20.20.20.20.20.20.20.20.20.20.20.20.20.20.20.20.20.20.20.20.20.20.20.20.20.20.20.20.20.20.20.20.20.20.20.20.20.20.20.20.20.20.20.20.20.20.20.20.20.20.20.20.20.20.20.20.20.20.20.20.20.20.20.20.20.20.20.20.20.20.20.20.20.20.20.20.20.20.20.20.20.20.20.20.20.20.20.20.20.20.20.20.20.20.20.20.20.20.20.20.20.20.20.20.20.20.20.20.20.20.20.20.20.20.20.20.20.20.20.20.20.20.20.20.20.20.20.20.20.20.20.20.20.20.20.20.20.20.20.20.20.20.20.20.20.20.20.20.20.20.20.20.20.20.20.20.20.20.20.20.20.20.20.20.20.20.20.20.20.20.20.20.20.20.20.20.20.20.20.20.20.20.20.20.20.20.20.20.20.20.20.20.20.20.20.20.20.20.20.20.20.20.20.20.20.20.20.20.20.20.20.20.20.20.20.20.20.20.20.20.20.20.20.20.20.20.20.20.20.20.20.20.20.20.20.20.20.20.20.20.20.20.20.20.20.20.20.20.20.20.20.20.20.20.20.20.20.20.20.20.20.20.20.20.20.20.20.20.20.20.20.20.20.20.20.20.20.20.20.20.20.20.20.20.20.20.20.20.20.20.20.20.20.20.20.20.20.20.20.20.20.20.20.20.20.20.20.20.20.20.20.20.20.20.20.20.20.20.20.20.20.20.20.20.20.20.20.20.20.20.20.20.20.20.20.20.20.20.20.20.20.20.20.20.20.20.20.20.20.20.20.20.20.20.20.20.20.20.20.20.20.20.20.20.20.20.20.20.20.20.20.20.20.20.20.20.20.20.20.20.20.20.20.20.20.20.20.20.20.20.20.20.20.20.20.20.20.20.20.20.20.20.20.20.20.20.20.20.20.20.20.20.20.20.20.20.20.20.20.20.20.20.20.20.20.20.20.20.20.20.20.20.20.20.20.20.20.20.20.20.20.20.20.20.20.20.20.20.20.20.20.20.20.20.20.20.20.20.20.20.20.20.20.20.20.20.20.20.20.20.20.20.20.20.20.20.20.20.20.20.20.20.20.20.20.20.20.20.20.20.20.20.20.20.20.20.20.20.20.20.20.20.20.20.20.20.20.20.20.20.20.20.20.20.20.20.20.20.20.20.20.20.20.20.20.20.20.20.20.20.20.20.20.20.20.20.20.20.20.20.20.20.20.20.20.20.20.20.20.20.20.20.20.20.20.20.20.20.20.20.20.20.20.20.20.20.20.20.20.20.20.20.20.20.20.20.20.20.20.20.20.20.20.20.20.20.20.20.20.20.20.20.20.20.20.20.20.20.20.20.20.20.20.20.20.20.20.20.20.20.20.20.20.20.20.20.20.20.20.20.20.20.20.20.20.20.20.20.20.20.20.20.20.20.20.20.20.20.20.20.20.20.20.20.20.20.20.20.20.20.20.20.20.20.20.20.20.20.20.20.20.20.20.20.20.20.20.20.20.2'"
            ],
            "application/vnd.google.colaboratory.intrinsic+json": {
              "type": "string"
            }
          },
          "metadata": {},
          "execution_count": 56
        }
      ]
    },
    {
      "cell_type": "code",
      "source": [
        "invest = 1000\n",
        "jr = float(0.2)\n",
        "print(invest * jr)\n",
        "valor_total = (invest * jr) + invest\n",
        "print(valor_total)"
      ],
      "metadata": {
        "colab": {
          "base_uri": "https://localhost:8080/"
        },
        "id": "SCEKXwJK3uMI",
        "outputId": "40784795-4994-450f-d581-b5d63e93bf23"
      },
      "execution_count": 58,
      "outputs": [
        {
          "output_type": "stream",
          "name": "stdout",
          "text": [
            "200.0\n",
            "1200.0\n"
          ]
        }
      ]
    },
    {
      "cell_type": "code",
      "source": [
        ""
      ],
      "metadata": {
        "id": "WOrEx8ZE3-Ba"
      },
      "execution_count": null,
      "outputs": []
    },
    {
      "cell_type": "markdown",
      "source": [
        "# Tipos de Informação"
      ],
      "metadata": {
        "id": "JDP3bIY55D3X"
      }
    },
    {
      "cell_type": "code",
      "source": [
        "string = str('Olá, mundo')\n",
        "inteiro = int(22)\n",
        "flutuante = float(22.22)\n",
        "Complex = complex(1j)\n",
        "lista = list(('maca', 'banana', 'melancia'))\n",
        "tupla = tuple(('morango', 'pera'))\n",
        "Range = range(6)\n",
        "Dicionario = dict(nome='wand', age=32)\n",
        "Set = set(('A', 'B','C'))\n",
        "Fronzet = frozenset(('A', 'B','C'))\n",
        "Booleano = bool(5)\n",
        "Bytes = bytes(5)\n",
        "ByteArray = bytearray(5)\n",
        "Memoryview = memoryview(bytes(5))\n",
        "\n",
        "#importando uma formula para apurar a data de hj\n",
        "from datetime import datetime\n",
        "Data = datetime.today().date()"
      ],
      "metadata": {
        "id": "23Wspu0Q5G3P"
      },
      "execution_count": 69,
      "outputs": []
    },
    {
      "cell_type": "code",
      "source": [
        "type(string)"
      ],
      "metadata": {
        "colab": {
          "base_uri": "https://localhost:8080/"
        },
        "id": "ekGDSoUh8cvD",
        "outputId": "cee5ad6e-84a1-41f3-e3b5-c1893217eb00"
      },
      "execution_count": 70,
      "outputs": [
        {
          "output_type": "execute_result",
          "data": {
            "text/plain": [
              "str"
            ]
          },
          "metadata": {},
          "execution_count": 70
        }
      ]
    },
    {
      "cell_type": "code",
      "source": [
        "print(type(inteiro))"
      ],
      "metadata": {
        "colab": {
          "base_uri": "https://localhost:8080/"
        },
        "id": "G5Jtgan__1-7",
        "outputId": "667d17ba-268b-4c6a-ec37-a156d7715a83"
      },
      "execution_count": 71,
      "outputs": [
        {
          "output_type": "stream",
          "name": "stdout",
          "text": [
            "<class 'int'>\n"
          ]
        }
      ]
    },
    {
      "cell_type": "code",
      "source": [
        "print(type(Bytes))"
      ],
      "metadata": {
        "colab": {
          "base_uri": "https://localhost:8080/"
        },
        "id": "2vcfeJZaAY18",
        "outputId": "ad9e0435-c8ad-4521-9421-43f93e20c040"
      },
      "execution_count": 73,
      "outputs": [
        {
          "output_type": "stream",
          "name": "stdout",
          "text": [
            "<class 'bytes'>\n"
          ]
        }
      ]
    },
    {
      "cell_type": "markdown",
      "source": [
        "# Comando Round"
      ],
      "metadata": {
        "id": "G2UagSH6Aa8I"
      }
    },
    {
      "cell_type": "code",
      "source": [
        "#nunca esqueci de substituir a virgula pelo ponto\n",
        "numeropi = 3.14159265358979323846\n",
        "print(numeropi)"
      ],
      "metadata": {
        "colab": {
          "base_uri": "https://localhost:8080/"
        },
        "id": "lCKnGO_1AeWs",
        "outputId": "711a91b3-aa22-4b69-f94e-9051eb7f0055"
      },
      "execution_count": 85,
      "outputs": [
        {
          "output_type": "stream",
          "name": "stdout",
          "text": [
            "3.141592653589793\n"
          ]
        }
      ]
    },
    {
      "cell_type": "code",
      "source": [
        "print(round(numeropi, 4))"
      ],
      "metadata": {
        "colab": {
          "base_uri": "https://localhost:8080/"
        },
        "id": "hJmwnKL8BGuP",
        "outputId": "bc4dd782-c408-4d04-d374-fb562bbfc783"
      },
      "execution_count": 87,
      "outputs": [
        {
          "output_type": "stream",
          "name": "stdout",
          "text": [
            "3.1416\n"
          ]
        }
      ]
    },
    {
      "cell_type": "code",
      "source": [
        "#no round,ele vai arredondar para o valor mais próximo.\n"
      ],
      "metadata": {
        "id": "wqQx_pNtBJ_D"
      },
      "execution_count": 88,
      "outputs": []
    },
    {
      "cell_type": "markdown",
      "source": [
        "# Comando Len"
      ],
      "metadata": {
        "id": "aOKDoLvECWL7"
      }
    },
    {
      "cell_type": "code",
      "source": [
        "lista = [1,2,3,4,5,6,7,8,9,10]\n",
        "dicionario = {'Nome': 'Wand', 'Idade': 32}\n",
        "tupla = (1,2,3)\n",
        "String = 'Olá mundão'"
      ],
      "metadata": {
        "id": "Brxwh-r_CYTU"
      },
      "execution_count": 95,
      "outputs": []
    },
    {
      "cell_type": "code",
      "source": [
        "len(lista)"
      ],
      "metadata": {
        "colab": {
          "base_uri": "https://localhost:8080/"
        },
        "id": "XCuJ5uq-DTIB",
        "outputId": "4d52c4c3-efc1-4166-8ac8-3c128c9c4678"
      },
      "execution_count": 90,
      "outputs": [
        {
          "output_type": "execute_result",
          "data": {
            "text/plain": [
              "10"
            ]
          },
          "metadata": {},
          "execution_count": 90
        }
      ]
    },
    {
      "cell_type": "code",
      "source": [
        "len(dicionario)\n",
        "#um dicionário e formado pela key e valor, assim, cada resposta e um elemento a mais na soma"
      ],
      "metadata": {
        "colab": {
          "base_uri": "https://localhost:8080/"
        },
        "id": "yx-TuKM9DUmn",
        "outputId": "280ab7f1-85d9-4612-cf58-9a18e7ef949d"
      },
      "execution_count": 92,
      "outputs": [
        {
          "output_type": "execute_result",
          "data": {
            "text/plain": [
              "2"
            ]
          },
          "metadata": {},
          "execution_count": 92
        }
      ]
    },
    {
      "cell_type": "code",
      "source": [
        "len(tupla)"
      ],
      "metadata": {
        "colab": {
          "base_uri": "https://localhost:8080/"
        },
        "id": "qIh1zUpyDW0s",
        "outputId": "e2e8020b-5a98-485f-bd48-310e7e66f063"
      },
      "execution_count": 93,
      "outputs": [
        {
          "output_type": "execute_result",
          "data": {
            "text/plain": [
              "3"
            ]
          },
          "metadata": {},
          "execution_count": 93
        }
      ]
    },
    {
      "cell_type": "code",
      "source": [
        "len(String)"
      ],
      "metadata": {
        "colab": {
          "base_uri": "https://localhost:8080/"
        },
        "id": "tbJhA1JPDmRD",
        "outputId": "c151868e-a1af-4bbd-af15-766b6111154e"
      },
      "execution_count": 96,
      "outputs": [
        {
          "output_type": "execute_result",
          "data": {
            "text/plain": [
              "10"
            ]
          },
          "metadata": {},
          "execution_count": 96
        }
      ]
    },
    {
      "cell_type": "markdown",
      "source": [
        "# Fatiamento de String"
      ],
      "metadata": {
        "id": "Xg1RlbB9DtpF"
      }
    },
    {
      "cell_type": "code",
      "source": [
        "Minha_string = 'Aprender Python é Top!'\n",
        "\n",
        "print(type(Minha_string))\n",
        "print(len(Minha_string))"
      ],
      "metadata": {
        "colab": {
          "base_uri": "https://localhost:8080/"
        },
        "id": "pOAcKC1-DwxQ",
        "outputId": "5e6594db-602c-495f-d5a8-0a99c9dcd30b"
      },
      "execution_count": 101,
      "outputs": [
        {
          "output_type": "stream",
          "name": "stdout",
          "text": [
            "<class 'str'>\n",
            "22\n"
          ]
        }
      ]
    },
    {
      "cell_type": "code",
      "source": [
        "Minha_string[0]"
      ],
      "metadata": {
        "colab": {
          "base_uri": "https://localhost:8080/",
          "height": 36
        },
        "id": "qTguDghbFBFu",
        "outputId": "716b8533-420a-4f0f-df05-8bb5b4d2ca58"
      },
      "execution_count": 102,
      "outputs": [
        {
          "output_type": "execute_result",
          "data": {
            "text/plain": [
              "'A'"
            ],
            "application/vnd.google.colaboratory.intrinsic+json": {
              "type": "string"
            }
          },
          "metadata": {},
          "execution_count": 102
        }
      ]
    },
    {
      "cell_type": "code",
      "source": [
        "Minha_string[1]"
      ],
      "metadata": {
        "colab": {
          "base_uri": "https://localhost:8080/",
          "height": 36
        },
        "id": "RfmBLqZYFSRR",
        "outputId": "11fdb3fe-328d-4ea0-fd42-9231c9d49c7f"
      },
      "execution_count": 103,
      "outputs": [
        {
          "output_type": "execute_result",
          "data": {
            "text/plain": [
              "'p'"
            ],
            "application/vnd.google.colaboratory.intrinsic+json": {
              "type": "string"
            }
          },
          "metadata": {},
          "execution_count": 103
        }
      ]
    },
    {
      "cell_type": "code",
      "source": [
        "Minha_string[-1:]"
      ],
      "metadata": {
        "colab": {
          "base_uri": "https://localhost:8080/",
          "height": 36
        },
        "id": "ZsoGB3HKFUSb",
        "outputId": "d322f0ec-35fa-44c1-db1f-0fce8f9a7860"
      },
      "execution_count": 128,
      "outputs": [
        {
          "output_type": "execute_result",
          "data": {
            "text/plain": [
              "'!'"
            ],
            "application/vnd.google.colaboratory.intrinsic+json": {
              "type": "string"
            }
          },
          "metadata": {},
          "execution_count": 128
        }
      ]
    },
    {
      "cell_type": "code",
      "source": [
        "Minha_string[-10:]"
      ],
      "metadata": {
        "colab": {
          "base_uri": "https://localhost:8080/",
          "height": 36
        },
        "id": "oH-1MnjpFZJT",
        "outputId": "7a6c5887-2600-42dd-ee32-e51dadc71fc7"
      },
      "execution_count": 129,
      "outputs": [
        {
          "output_type": "execute_result",
          "data": {
            "text/plain": [
              "'hon é Top!'"
            ],
            "application/vnd.google.colaboratory.intrinsic+json": {
              "type": "string"
            }
          },
          "metadata": {},
          "execution_count": 129
        }
      ]
    },
    {
      "cell_type": "code",
      "source": [
        "Minha_string[::-1]\n",
        "#invertendo"
      ],
      "metadata": {
        "colab": {
          "base_uri": "https://localhost:8080/",
          "height": 36
        },
        "id": "JuzG5VenGfE4",
        "outputId": "0c0b2c8d-34b3-4045-ef6a-5a8a65dcd02b"
      },
      "execution_count": 145,
      "outputs": [
        {
          "output_type": "execute_result",
          "data": {
            "text/plain": [
              "'!poT é nohtyP rednerpA'"
            ],
            "application/vnd.google.colaboratory.intrinsic+json": {
              "type": "string"
            }
          },
          "metadata": {},
          "execution_count": 145
        }
      ]
    },
    {
      "cell_type": "markdown",
      "source": [
        "# Manipulação de String"
      ],
      "metadata": {
        "id": "gvvgODf0J0dr"
      }
    },
    {
      "cell_type": "code",
      "source": [
        "String = 'Olá mundão!'\n",
        "print(String)"
      ],
      "metadata": {
        "colab": {
          "base_uri": "https://localhost:8080/"
        },
        "id": "lzgtl0SOJ41H",
        "outputId": "4f246486-1546-41d8-8167-ecf38e079b7a"
      },
      "execution_count": 147,
      "outputs": [
        {
          "output_type": "stream",
          "name": "stdout",
          "text": [
            "Olá mundão!\n"
          ]
        }
      ]
    },
    {
      "cell_type": "code",
      "source": [
        "type(String)"
      ],
      "metadata": {
        "colab": {
          "base_uri": "https://localhost:8080/"
        },
        "id": "sjEz4kNdLQ0J",
        "outputId": "b4c6b70b-6a1f-406a-ee23-350cd21d78d2"
      },
      "execution_count": 148,
      "outputs": [
        {
          "output_type": "execute_result",
          "data": {
            "text/plain": [
              "str"
            ]
          },
          "metadata": {},
          "execution_count": 148
        }
      ]
    },
    {
      "cell_type": "code",
      "source": [
        "len(String)"
      ],
      "metadata": {
        "colab": {
          "base_uri": "https://localhost:8080/"
        },
        "id": "NJm0bIJtLWV2",
        "outputId": "3fb88ad9-f6bd-4eb1-e0a0-afa0a5c1d86e"
      },
      "execution_count": 149,
      "outputs": [
        {
          "output_type": "execute_result",
          "data": {
            "text/plain": [
              "11"
            ]
          },
          "metadata": {},
          "execution_count": 149
        }
      ]
    },
    {
      "cell_type": "code",
      "source": [
        "#concatenar\n",
        "String + 'Concatenação!'"
      ],
      "metadata": {
        "colab": {
          "base_uri": "https://localhost:8080/",
          "height": 36
        },
        "id": "3hhApoHpLYWG",
        "outputId": "ce7cb0d5-852e-4ec0-bb0a-ca70e966c9ea"
      },
      "execution_count": 151,
      "outputs": [
        {
          "output_type": "execute_result",
          "data": {
            "text/plain": [
              "'Olá mundão!Concatenação!'"
            ],
            "application/vnd.google.colaboratory.intrinsic+json": {
              "type": "string"
            }
          },
          "metadata": {},
          "execution_count": 151
        }
      ]
    },
    {
      "cell_type": "code",
      "source": [
        "#replace = substituir\n",
        "String.replace('mundão', 'Mundo')"
      ],
      "metadata": {
        "colab": {
          "base_uri": "https://localhost:8080/",
          "height": 36
        },
        "id": "UWLdlYPiLeXZ",
        "outputId": "f87a8711-ed67-4c38-cf79-a18f5ecfaf22"
      },
      "execution_count": 152,
      "outputs": [
        {
          "output_type": "execute_result",
          "data": {
            "text/plain": [
              "'Olá Mundo!'"
            ],
            "application/vnd.google.colaboratory.intrinsic+json": {
              "type": "string"
            }
          },
          "metadata": {},
          "execution_count": 152
        }
      ]
    },
    {
      "cell_type": "code",
      "source": [
        "CPF = 'CPF:123456789'\n",
        "int(CPF.replace('CPF:', ''))\n",
        "#dessa forma, já fica tangivel para manipulação"
      ],
      "metadata": {
        "colab": {
          "base_uri": "https://localhost:8080/"
        },
        "id": "x0m45W-qMBZM",
        "outputId": "1ca9096f-d5f7-4b71-e75a-4c76d267e6ae"
      },
      "execution_count": 155,
      "outputs": [
        {
          "output_type": "execute_result",
          "data": {
            "text/plain": [
              "123456789"
            ]
          },
          "metadata": {},
          "execution_count": 155
        }
      ]
    },
    {
      "cell_type": "code",
      "source": [
        "#verifica o começo e dá uma resposta booleana. Acento tem influências e maiusculo e minusculo tbem\n",
        "String.startswith('Ola')"
      ],
      "metadata": {
        "colab": {
          "base_uri": "https://localhost:8080/"
        },
        "id": "LHgfWheqMLd_",
        "outputId": "ed9712ac-82ee-492d-835c-3c68bb3fb7d7"
      },
      "execution_count": 159,
      "outputs": [
        {
          "output_type": "execute_result",
          "data": {
            "text/plain": [
              "False"
            ]
          },
          "metadata": {},
          "execution_count": 159
        }
      ]
    },
    {
      "cell_type": "code",
      "source": [
        "#verificar o fim\n",
        "String.endswith('!')"
      ],
      "metadata": {
        "colab": {
          "base_uri": "https://localhost:8080/"
        },
        "id": "dKkJpOKXM5qZ",
        "outputId": "547aa0aa-8f38-4bb1-d0b0-fe379437f63b"
      },
      "execution_count": 160,
      "outputs": [
        {
          "output_type": "execute_result",
          "data": {
            "text/plain": [
              "True"
            ]
          },
          "metadata": {},
          "execution_count": 160
        }
      ]
    },
    {
      "cell_type": "code",
      "source": [
        "#contar palavras/letras count\n",
        "String.count('m')"
      ],
      "metadata": {
        "colab": {
          "base_uri": "https://localhost:8080/"
        },
        "id": "RC4xdqJ1NTk6",
        "outputId": "e61f97a5-c902-4d0a-d256-0c8e8efe710b"
      },
      "execution_count": 161,
      "outputs": [
        {
          "output_type": "execute_result",
          "data": {
            "text/plain": [
              "1"
            ]
          },
          "metadata": {},
          "execution_count": 161
        }
      ]
    },
    {
      "cell_type": "code",
      "source": [
        "#transformação - capitalize (primeira letra fica em maiuscula), mas somente a primeira palavra\n",
        "nome = 'wand bar'\n",
        "nome.capitalize()"
      ],
      "metadata": {
        "colab": {
          "base_uri": "https://localhost:8080/",
          "height": 36
        },
        "id": "1Rp60N2QNrwa",
        "outputId": "ff1569a3-1917-4ec1-899e-93a628d5542e"
      },
      "execution_count": 164,
      "outputs": [
        {
          "output_type": "execute_result",
          "data": {
            "text/plain": [
              "'Wand bar'"
            ],
            "application/vnd.google.colaboratory.intrinsic+json": {
              "type": "string"
            }
          },
          "metadata": {},
          "execution_count": 164
        }
      ]
    },
    {
      "cell_type": "code",
      "source": [
        "#verifica se variável x existe e se o mesmo é numero, se inserir consoantes, dará false\n",
        "String_CPF = '12344567'\n",
        "String_CPF.isdigit()"
      ],
      "metadata": {
        "colab": {
          "base_uri": "https://localhost:8080/"
        },
        "id": "eT6Le-VKORqf",
        "outputId": "d6541e21-9ebc-4dd4-d2db-9a98e0d77e27"
      },
      "execution_count": 167,
      "outputs": [
        {
          "output_type": "execute_result",
          "data": {
            "text/plain": [
              "True"
            ]
          },
          "metadata": {},
          "execution_count": 167
        }
      ]
    },
    {
      "cell_type": "code",
      "source": [
        "#verificar se é númerico\n",
        "String.isalnum()"
      ],
      "metadata": {
        "colab": {
          "base_uri": "https://localhost:8080/"
        },
        "id": "DTG-__1bO7l4",
        "outputId": "923331e0-e584-4b36-f34a-45a465246fd2"
      },
      "execution_count": 168,
      "outputs": [
        {
          "output_type": "execute_result",
          "data": {
            "text/plain": [
              "False"
            ]
          },
          "metadata": {},
          "execution_count": 168
        }
      ]
    },
    {
      "cell_type": "code",
      "source": [
        "#upper coloca toda a string em maiusucla\n",
        "nome = 'wand'\n",
        "nome.upper()"
      ],
      "metadata": {
        "colab": {
          "base_uri": "https://localhost:8080/",
          "height": 36
        },
        "id": "l5YVpXryPj_I",
        "outputId": "50f6780c-097a-4455-e5ce-67ea958262c1"
      },
      "execution_count": 169,
      "outputs": [
        {
          "output_type": "execute_result",
          "data": {
            "text/plain": [
              "'WAND'"
            ],
            "application/vnd.google.colaboratory.intrinsic+json": {
              "type": "string"
            }
          },
          "metadata": {},
          "execution_count": 169
        }
      ]
    },
    {
      "cell_type": "code",
      "source": [
        "#lower, tudo minuscula\n",
        "nome = 'WAND'\n",
        "nome.lower()"
      ],
      "metadata": {
        "colab": {
          "base_uri": "https://localhost:8080/",
          "height": 36
        },
        "id": "7O86XUXFP3Vr",
        "outputId": "0a9dc2f3-1b64-4947-e391-db482508887a"
      },
      "execution_count": 170,
      "outputs": [
        {
          "output_type": "execute_result",
          "data": {
            "text/plain": [
              "'wand'"
            ],
            "application/vnd.google.colaboratory.intrinsic+json": {
              "type": "string"
            }
          },
          "metadata": {},
          "execution_count": 170
        }
      ]
    },
    {
      "cell_type": "code",
      "source": [
        "#find, vai procarar uma palavra, letra ou número, retornado o elemento em que vai aparecer o que se procura\n",
        "Frase = 'Hoje está calor!'\n",
        "Frase.find('está')"
      ],
      "metadata": {
        "colab": {
          "base_uri": "https://localhost:8080/"
        },
        "id": "dmb0kMZNP_pr",
        "outputId": "82071be1-99c8-42d5-a9aa-6b2bdd160f47"
      },
      "execution_count": 172,
      "outputs": [
        {
          "output_type": "execute_result",
          "data": {
            "text/plain": [
              "5"
            ]
          },
          "metadata": {},
          "execution_count": 172
        }
      ]
    },
    {
      "cell_type": "code",
      "source": [
        "#strip, corta os espaços antes e depois da string\n",
        "Endereco = '   Rua Agusta, 23, SP   '\n",
        "Endereco\n",
        "Endereco.strip()"
      ],
      "metadata": {
        "colab": {
          "base_uri": "https://localhost:8080/",
          "height": 36
        },
        "id": "fXlW9CFvQjux",
        "outputId": "0ff4361a-c446-46ae-e677-05a19df74ce6"
      },
      "execution_count": 176,
      "outputs": [
        {
          "output_type": "execute_result",
          "data": {
            "text/plain": [
              "'Rua Agusta, 23, SP'"
            ],
            "application/vnd.google.colaboratory.intrinsic+json": {
              "type": "string"
            }
          },
          "metadata": {},
          "execution_count": 176
        }
      ]
    },
    {
      "cell_type": "code",
      "source": [
        "#split quebra a string, formando praticamente uma lista\n",
        "#se nenhum argumento for inserido, vai separar por palavra, se definir por virgula, será por virgula\n",
        "Palavra = 'Rua Augusta 150, Centro, SP'\n",
        "Palavra.split(',') #aqui, dentro dos parenteses, foi usada a vírgula.\n",
        "#pode ser usado como um delimitador"
      ],
      "metadata": {
        "colab": {
          "base_uri": "https://localhost:8080/"
        },
        "id": "I1IWiz0CRDOn",
        "outputId": "5a289bc7-f6f5-4dc1-c9d1-8b64bbb44b1c"
      },
      "execution_count": 180,
      "outputs": [
        {
          "output_type": "execute_result",
          "data": {
            "text/plain": [
              "['Rua Augusta 150', ' Centro', ' SP']"
            ]
          },
          "metadata": {},
          "execution_count": 180
        }
      ]
    },
    {
      "cell_type": "code",
      "source": [
        "Palavra.split()\n",
        "#mesma coisa com a de cima, mas sem o delimitador"
      ],
      "metadata": {
        "colab": {
          "base_uri": "https://localhost:8080/"
        },
        "id": "mC4tOgndR6kV",
        "outputId": "f28f25cf-8689-436b-e0b0-654505270ddc"
      },
      "execution_count": 182,
      "outputs": [
        {
          "output_type": "execute_result",
          "data": {
            "text/plain": [
              "['Rua', 'Augusta', '150,', 'Centro,', 'SP']"
            ]
          },
          "metadata": {},
          "execution_count": 182
        }
      ]
    },
    {
      "cell_type": "markdown",
      "source": [
        "# Comando Input"
      ],
      "metadata": {
        "id": "r1OqhJlVe4vh"
      }
    },
    {
      "cell_type": "code",
      "source": [
        "#simulações situações onde podemos inputar um valor.\n",
        "input('qualquer coisa')"
      ],
      "metadata": {
        "colab": {
          "base_uri": "https://localhost:8080/",
          "height": 54
        },
        "id": "97d72zwOe8im",
        "outputId": "75ec13e4-61e2-4d92-e263-76dfdead39bc"
      },
      "execution_count": 183,
      "outputs": [
        {
          "name": "stdout",
          "output_type": "stream",
          "text": [
            "qualquer coisateste\n"
          ]
        },
        {
          "output_type": "execute_result",
          "data": {
            "text/plain": [
              "'teste'"
            ],
            "application/vnd.google.colaboratory.intrinsic+json": {
              "type": "string"
            }
          },
          "metadata": {},
          "execution_count": 183
        }
      ]
    },
    {
      "cell_type": "code",
      "source": [
        "#formulário\n",
        "nome = input('Digite o seu nome: ')\n",
        "idade = input('Digite a sua idade ')\n",
        "\n",
        "print('O seu nome é ', nome)\n",
        "print('A sua idade é de ', idade)"
      ],
      "metadata": {
        "colab": {
          "base_uri": "https://localhost:8080/"
        },
        "id": "gYT0fTfufgoV",
        "outputId": "241b59c2-77bd-49a5-9f8b-982d1c53e02c"
      },
      "execution_count": 184,
      "outputs": [
        {
          "output_type": "stream",
          "name": "stdout",
          "text": [
            "Digite o seu nome: wand\n",
            "Digite a sua idade 32\n",
            "O seu nome é  wand\n",
            "A sua idade é de  32\n"
          ]
        }
      ]
    },
    {
      "cell_type": "code",
      "source": [
        ""
      ],
      "metadata": {
        "id": "7H-YBcfJfyiC"
      },
      "execution_count": null,
      "outputs": []
    },
    {
      "cell_type": "markdown",
      "source": [
        "# Operadores de Comparação"
      ],
      "metadata": {
        "id": "U741EGu-gNll"
      }
    },
    {
      "cell_type": "code",
      "source": [
        "#Combinar comperações\n",
        "#conteúdo referente aos sinais de ==, !=, >=, <=.\n",
        "#Sinal de igual são dois sinais\n",
        "#o sinal de diferente é um ponto de exclamção com um sinal de igual\n",
        "1==1"
      ],
      "metadata": {
        "colab": {
          "base_uri": "https://localhost:8080/"
        },
        "id": "WKJILfFngQcU",
        "outputId": "ceffd299-6bd8-4816-aaec-bf106f489167"
      },
      "execution_count": 190,
      "outputs": [
        {
          "output_type": "execute_result",
          "data": {
            "text/plain": [
              "True"
            ]
          },
          "metadata": {},
          "execution_count": 190
        }
      ]
    },
    {
      "cell_type": "code",
      "source": [
        "1>=2\n"
      ],
      "metadata": {
        "colab": {
          "base_uri": "https://localhost:8080/"
        },
        "id": "ZdYrhRNqhu2z",
        "outputId": "a9e62254-1e26-43ea-b776-f0a95dc18d46"
      },
      "execution_count": 186,
      "outputs": [
        {
          "output_type": "execute_result",
          "data": {
            "text/plain": [
              "False"
            ]
          },
          "metadata": {},
          "execution_count": 186
        }
      ]
    },
    {
      "cell_type": "code",
      "source": [
        "1 != 4\n"
      ],
      "metadata": {
        "colab": {
          "base_uri": "https://localhost:8080/"
        },
        "id": "hrXfl25chw2b",
        "outputId": "1d6fba8c-057a-431a-9206-5d439f3dcc75"
      },
      "execution_count": 187,
      "outputs": [
        {
          "output_type": "execute_result",
          "data": {
            "text/plain": [
              "True"
            ]
          },
          "metadata": {},
          "execution_count": 187
        }
      ]
    },
    {
      "cell_type": "code",
      "source": [
        "1 != 1"
      ],
      "metadata": {
        "colab": {
          "base_uri": "https://localhost:8080/"
        },
        "id": "wlRDFVKUhywR",
        "outputId": "f2386b38-d9f0-451a-e42d-7a0dda7ce95e"
      },
      "execution_count": 188,
      "outputs": [
        {
          "output_type": "execute_result",
          "data": {
            "text/plain": [
              "False"
            ]
          },
          "metadata": {},
          "execution_count": 188
        }
      ]
    },
    {
      "cell_type": "code",
      "source": [
        "1 <= 4"
      ],
      "metadata": {
        "colab": {
          "base_uri": "https://localhost:8080/"
        },
        "id": "Bwbk3JW_h0cj",
        "outputId": "e1ab80be-c8de-49c4-a1bc-6545eeb7dd4e"
      },
      "execution_count": 189,
      "outputs": [
        {
          "output_type": "execute_result",
          "data": {
            "text/plain": [
              "True"
            ]
          },
          "metadata": {},
          "execution_count": 189
        }
      ]
    },
    {
      "cell_type": "markdown",
      "source": [
        "# Operadores Lógicos"
      ],
      "metadata": {
        "id": "B5l0DTZuiVbR"
      }
    },
    {
      "cell_type": "code",
      "source": [
        "#Combinar instruções com and, or e not.\n",
        "10 > 2 and 10 >5"
      ],
      "metadata": {
        "colab": {
          "base_uri": "https://localhost:8080/"
        },
        "id": "veRRHnlAiZRH",
        "outputId": "224b39d0-c894-4181-d1d8-1ce01a02f5d3"
      },
      "execution_count": 191,
      "outputs": [
        {
          "output_type": "execute_result",
          "data": {
            "text/plain": [
              "True"
            ]
          },
          "metadata": {},
          "execution_count": 191
        }
      ]
    },
    {
      "cell_type": "code",
      "source": [
        "10 > 6 and 10 > 25"
      ],
      "metadata": {
        "colab": {
          "base_uri": "https://localhost:8080/"
        },
        "id": "GBjmq2pwjaAy",
        "outputId": "672c9d0d-7799-4c52-b7af-29d10ab1c572"
      },
      "execution_count": 192,
      "outputs": [
        {
          "output_type": "execute_result",
          "data": {
            "text/plain": [
              "False"
            ]
          },
          "metadata": {},
          "execution_count": 192
        }
      ]
    },
    {
      "cell_type": "code",
      "source": [
        "10 == 2 or 10 < 20"
      ],
      "metadata": {
        "colab": {
          "base_uri": "https://localhost:8080/"
        },
        "id": "oYUWI5mpjdWy",
        "outputId": "ff5b7aa1-4448-4f62-e78e-2818c72c4131"
      },
      "execution_count": 193,
      "outputs": [
        {
          "output_type": "execute_result",
          "data": {
            "text/plain": [
              "True"
            ]
          },
          "metadata": {},
          "execution_count": 193
        }
      ]
    },
    {
      "cell_type": "code",
      "source": [
        "2 != 22 or 2 == 22"
      ],
      "metadata": {
        "colab": {
          "base_uri": "https://localhost:8080/"
        },
        "id": "AL0uj9kzkLvJ",
        "outputId": "8ea20bc2-3d26-4598-b682-35dbb9090f63"
      },
      "execution_count": 195,
      "outputs": [
        {
          "output_type": "execute_result",
          "data": {
            "text/plain": [
              "True"
            ]
          },
          "metadata": {},
          "execution_count": 195
        }
      ]
    },
    {
      "cell_type": "code",
      "source": [
        "lista = [1,2,3,4]"
      ],
      "metadata": {
        "id": "BTNZ4aywkRMj"
      },
      "execution_count": 196,
      "outputs": []
    },
    {
      "cell_type": "code",
      "source": [
        "2 not in lista"
      ],
      "metadata": {
        "colab": {
          "base_uri": "https://localhost:8080/"
        },
        "id": "Z7v2LctYkt9f",
        "outputId": "df34bfca-a06d-46b7-8e1f-7064c80ab3b6"
      },
      "execution_count": 198,
      "outputs": [
        {
          "output_type": "execute_result",
          "data": {
            "text/plain": [
              "False"
            ]
          },
          "metadata": {},
          "execution_count": 198
        }
      ]
    },
    {
      "cell_type": "code",
      "source": [
        "4 in lista"
      ],
      "metadata": {
        "colab": {
          "base_uri": "https://localhost:8080/"
        },
        "id": "Pnd7r7oVkvJQ",
        "outputId": "697aa206-1a74-4986-c7ad-600a89fe90bc"
      },
      "execution_count": 199,
      "outputs": [
        {
          "output_type": "execute_result",
          "data": {
            "text/plain": [
              "True"
            ]
          },
          "metadata": {},
          "execution_count": 199
        }
      ]
    },
    {
      "cell_type": "markdown",
      "source": [
        "# Operadores de Identidade"
      ],
      "metadata": {
        "id": "V5rKESHVlKus"
      }
    },
    {
      "cell_type": "code",
      "source": [
        "# utilização do \"is\" e \"is not\"\n",
        "#em que compara seum objeto é igual ao outro, parecido com sinal de igual"
      ],
      "metadata": {
        "id": "obAn1kH5lRZR"
      },
      "execution_count": 208,
      "outputs": []
    },
    {
      "cell_type": "code",
      "source": [
        "String_01 = 'Olá mundão'\n",
        "String_02 = 'Atenção'"
      ],
      "metadata": {
        "id": "G2PG_fK6lvsB"
      },
      "execution_count": 204,
      "outputs": []
    },
    {
      "cell_type": "code",
      "source": [
        "type(String_01) == type(String_02)"
      ],
      "metadata": {
        "colab": {
          "base_uri": "https://localhost:8080/"
        },
        "id": "OQoNRuJtl0YT",
        "outputId": "f983570c-f3b7-457c-d982-26761d5d3501"
      },
      "execution_count": 205,
      "outputs": [
        {
          "output_type": "execute_result",
          "data": {
            "text/plain": [
              "True"
            ]
          },
          "metadata": {},
          "execution_count": 205
        }
      ]
    },
    {
      "cell_type": "code",
      "source": [
        "type(String_01) is type(String_02)"
      ],
      "metadata": {
        "colab": {
          "base_uri": "https://localhost:8080/"
        },
        "id": "y0C6BJWXl57X",
        "outputId": "069f8cf4-5f0e-4a32-b423-c6258a5f1161"
      },
      "execution_count": 206,
      "outputs": [
        {
          "output_type": "execute_result",
          "data": {
            "text/plain": [
              "True"
            ]
          },
          "metadata": {},
          "execution_count": 206
        }
      ]
    },
    {
      "cell_type": "code",
      "source": [
        "type(String_01) is not type(String_02)"
      ],
      "metadata": {
        "colab": {
          "base_uri": "https://localhost:8080/"
        },
        "id": "k0c7d8_nl-oE",
        "outputId": "ede00e4e-7f75-4922-d78f-87cfe699e8c4"
      },
      "execution_count": 207,
      "outputs": [
        {
          "output_type": "execute_result",
          "data": {
            "text/plain": [
              "False"
            ]
          },
          "metadata": {},
          "execution_count": 207
        }
      ]
    },
    {
      "cell_type": "markdown",
      "source": [
        "# Operadores de Associação"
      ],
      "metadata": {
        "id": "4gFq8eznmZ6v"
      }
    },
    {
      "cell_type": "code",
      "source": [
        "#serve para testar se uma sequencia é apresentada em um objeto\n",
        "#\"in\" e \"not in\""
      ],
      "metadata": {
        "id": "dG0wRluUmoOC"
      },
      "execution_count": 210,
      "outputs": []
    },
    {
      "cell_type": "code",
      "source": [
        "Lista_Acoes = ['Magalu', 'Via', 'Carrefour']"
      ],
      "metadata": {
        "id": "PTZwU1E3m5Fh"
      },
      "execution_count": 211,
      "outputs": []
    },
    {
      "cell_type": "code",
      "source": [
        "'Magalu' in Lista_Acoes"
      ],
      "metadata": {
        "colab": {
          "base_uri": "https://localhost:8080/"
        },
        "id": "26UDLJBmnY9e",
        "outputId": "3a2fdfcc-5280-4d31-b521-440f5aabf198"
      },
      "execution_count": 212,
      "outputs": [
        {
          "output_type": "execute_result",
          "data": {
            "text/plain": [
              "True"
            ]
          },
          "metadata": {},
          "execution_count": 212
        }
      ]
    },
    {
      "cell_type": "code",
      "source": [
        "'Magalu' not in Lista_Acoes"
      ],
      "metadata": {
        "colab": {
          "base_uri": "https://localhost:8080/"
        },
        "id": "Uw_L3ySAncj3",
        "outputId": "b49e10db-691e-4ccc-ec9b-045e565f181a"
      },
      "execution_count": 214,
      "outputs": [
        {
          "output_type": "execute_result",
          "data": {
            "text/plain": [
              "False"
            ]
          },
          "metadata": {},
          "execution_count": 214
        }
      ]
    },
    {
      "cell_type": "markdown",
      "source": [
        "# Manipulando Listas"
      ],
      "metadata": {
        "id": "4_SBzikZoEe6"
      }
    },
    {
      "cell_type": "code",
      "source": [
        "#append - adicionar elementos dentro de uma lista, na ordem emque for digitado\n",
        "Lista_vazia = []\n",
        "Lista_vazia"
      ],
      "metadata": {
        "colab": {
          "base_uri": "https://localhost:8080/"
        },
        "id": "qj4fHFCKoHT_",
        "outputId": "95bfbe44-5159-47a4-be65-b6f30ee8b43b"
      },
      "execution_count": 219,
      "outputs": [
        {
          "output_type": "execute_result",
          "data": {
            "text/plain": [
              "[]"
            ]
          },
          "metadata": {},
          "execution_count": 219
        }
      ]
    },
    {
      "cell_type": "code",
      "source": [
        "Lista_vazia.append(1)\n",
        "Lista_vazia.append(2)\n",
        "Lista_vazia.append(3)\n",
        "Lista_vazia.append('Valor')"
      ],
      "metadata": {
        "id": "pl4NO2NQo32V"
      },
      "execution_count": 229,
      "outputs": []
    },
    {
      "cell_type": "code",
      "source": [
        "Lista_vazia"
      ],
      "metadata": {
        "colab": {
          "base_uri": "https://localhost:8080/"
        },
        "id": "wIhhFJebpAz0",
        "outputId": "b40030c2-5fec-4a5b-d74f-b21dbffe1843"
      },
      "execution_count": 221,
      "outputs": [
        {
          "output_type": "execute_result",
          "data": {
            "text/plain": [
              "[1, 2, 3, 'Valor']"
            ]
          },
          "metadata": {},
          "execution_count": 221
        }
      ]
    },
    {
      "cell_type": "code",
      "source": [
        "len(Lista_vazia)"
      ],
      "metadata": {
        "colab": {
          "base_uri": "https://localhost:8080/"
        },
        "id": "5e8i-nslpCNb",
        "outputId": "0d209a7a-b0a8-4f41-a266-f2264d7782f0"
      },
      "execution_count": 222,
      "outputs": [
        {
          "output_type": "execute_result",
          "data": {
            "text/plain": [
              "4"
            ]
          },
          "metadata": {},
          "execution_count": 222
        }
      ]
    },
    {
      "cell_type": "code",
      "source": [
        "#para acessar lista, usa-se colchete [ ]\n",
        "Lista_vazia[-1] #aqui, pode ser usado o sinal negativo para começar dos últimos elementos"
      ],
      "metadata": {
        "colab": {
          "base_uri": "https://localhost:8080/",
          "height": 36
        },
        "id": "f6f6jB6VpTrz",
        "outputId": "10f4dc17-63be-47a7-be69-a006b4c7146e"
      },
      "execution_count": 225,
      "outputs": [
        {
          "output_type": "execute_result",
          "data": {
            "text/plain": [
              "'Valor'"
            ],
            "application/vnd.google.colaboratory.intrinsic+json": {
              "type": "string"
            }
          },
          "metadata": {},
          "execution_count": 225
        }
      ]
    },
    {
      "cell_type": "code",
      "source": [
        "#limpar uma lista, por meio da sintaxe clear\n",
        "print(Lista_vazia)\n",
        "Lista_vazia.clear()\n",
        "print(Lista_vazia)"
      ],
      "metadata": {
        "colab": {
          "base_uri": "https://localhost:8080/"
        },
        "id": "LywGH-mxpW4k",
        "outputId": "62926b3a-010e-4dcd-dd5a-d2b9072ab103"
      },
      "execution_count": 227,
      "outputs": [
        {
          "output_type": "stream",
          "name": "stdout",
          "text": [
            "[1, 2, 3, 'Valor']\n",
            "[]\n"
          ]
        }
      ]
    },
    {
      "cell_type": "code",
      "source": [
        "#uma vez que foi zerado, a lista está vazia e se for reutilizar, tem que carregar os elementos no append"
      ],
      "metadata": {
        "id": "sVWnmE-9qBFc"
      },
      "execution_count": 228,
      "outputs": []
    },
    {
      "cell_type": "code",
      "source": [
        "Lista_vazia"
      ],
      "metadata": {
        "colab": {
          "base_uri": "https://localhost:8080/"
        },
        "id": "pAEwJMgaqgH6",
        "outputId": "280b23d9-0e42-4a57-9dd6-1d572db619a5"
      },
      "execution_count": 230,
      "outputs": [
        {
          "output_type": "execute_result",
          "data": {
            "text/plain": [
              "[1, 2, 3, 'Valor']"
            ]
          },
          "metadata": {},
          "execution_count": 230
        }
      ]
    },
    {
      "cell_type": "code",
      "source": [
        "#Insert, aqui, o usuário indica em qual parte do index será inserido o novo valor\n",
        "#a diferença com o append é que, insert define o local da inclusão, enqaunto no append, os novos valores\n",
        "#ficam no final da lista\n",
        "# para efetuar esse procedimento são necessários dois argumentos:\n",
        "#o primeiro é o index em que será inserido, e, o segundo, o valor/str que será incluso\n",
        "Lista_vazia.insert(2, 4)\n",
        "Lista_vazia"
      ],
      "metadata": {
        "colab": {
          "base_uri": "https://localhost:8080/"
        },
        "id": "cT3pDe_EqjAb",
        "outputId": "8f6a5856-fee0-4a24-9a53-e6df1dd116c6"
      },
      "execution_count": 233,
      "outputs": [
        {
          "output_type": "execute_result",
          "data": {
            "text/plain": [
              "[11, 11, 4, 1, 2, 3, 'Valor']"
            ]
          },
          "metadata": {},
          "execution_count": 233
        }
      ]
    },
    {
      "cell_type": "code",
      "source": [
        "#concatenar lista ou empilhar lista,\n",
        "#usa-se extend\n",
        "lista_01 = [1,2, 3]\n",
        "lista_02 = [4, 5, 6]\n",
        "lista_01.extend(lista_02)"
      ],
      "metadata": {
        "id": "P00o7hiVrHfT"
      },
      "execution_count": 234,
      "outputs": []
    },
    {
      "cell_type": "code",
      "source": [
        "lista_01"
      ],
      "metadata": {
        "colab": {
          "base_uri": "https://localhost:8080/"
        },
        "id": "SjXOMkFjsIY2",
        "outputId": "f27c7826-aeb4-4d5a-8676-21105a94bee0"
      },
      "execution_count": 235,
      "outputs": [
        {
          "output_type": "execute_result",
          "data": {
            "text/plain": [
              "[1, 2, 3, 4, 5, 6]"
            ]
          },
          "metadata": {},
          "execution_count": 235
        }
      ]
    },
    {
      "cell_type": "code",
      "source": [
        "#remove, retira o elemento transcrito entre os parenteses e NÃO A POSIÇÃO DO INDEX\n",
        "#usar o remove, se conhecer qual elemento será jogado fora\n",
        "lista_01.remove(5)\n",
        "lista_01"
      ],
      "metadata": {
        "colab": {
          "base_uri": "https://localhost:8080/"
        },
        "id": "ADn3CaDzsJiO",
        "outputId": "cdf1785d-7ffa-4764-c5bb-f4963ddcd5b6"
      },
      "execution_count": 236,
      "outputs": [
        {
          "output_type": "execute_result",
          "data": {
            "text/plain": [
              "[1, 2, 3, 4, 6]"
            ]
          },
          "metadata": {},
          "execution_count": 236
        }
      ]
    },
    {
      "cell_type": "code",
      "source": [
        "#para remover pela posição, ou pelo index, usa-se o pop\n",
        "#quando não se tem o elemento ou nome, retira-se pela posição\n",
        "lista_01.pop(0)\n",
        "lista_01"
      ],
      "metadata": {
        "colab": {
          "base_uri": "https://localhost:8080/"
        },
        "id": "UOvXN2--sfQ3",
        "outputId": "b69eb1bd-1aa4-4cd2-b218-72da9bc6f3ba"
      },
      "execution_count": 237,
      "outputs": [
        {
          "output_type": "execute_result",
          "data": {
            "text/plain": [
              "[2, 3, 4, 6]"
            ]
          },
          "metadata": {},
          "execution_count": 237
        }
      ]
    },
    {
      "cell_type": "code",
      "source": [
        "#sort para organizar em ordem numerica/alfabetica\n",
        "#vai fazer a separação entre letras maiuscula e minuscula\n",
        "lista_abc = ['e', 'l', 'A', 'w', 'P']\n",
        "lista_abc.sort()\n",
        "lista_abc"
      ],
      "metadata": {
        "colab": {
          "base_uri": "https://localhost:8080/"
        },
        "id": "IWpSYYcRtIIT",
        "outputId": "0d511511-b453-4dde-c6ca-a0e21804c180"
      },
      "execution_count": 240,
      "outputs": [
        {
          "output_type": "execute_result",
          "data": {
            "text/plain": [
              "['A', 'P', 'e', 'l', 'w']"
            ]
          },
          "metadata": {},
          "execution_count": 240
        }
      ]
    },
    {
      "cell_type": "code",
      "source": [
        "# usar reverse True, para deixar a lista ao contrário\n",
        "lista_abc.sort(reverse=True)\n",
        "lista_abc"
      ],
      "metadata": {
        "colab": {
          "base_uri": "https://localhost:8080/"
        },
        "id": "iMPiP1F7tnLO",
        "outputId": "c19a09f5-29ad-4b2b-9381-a91590000cc6"
      },
      "execution_count": 242,
      "outputs": [
        {
          "output_type": "execute_result",
          "data": {
            "text/plain": [
              "['w', 'l', 'e', 'P', 'A']"
            ]
          },
          "metadata": {},
          "execution_count": 242
        }
      ]
    },
    {
      "cell_type": "code",
      "source": [
        "# o sinal de um igual tem o mesmo efeito par fazer uma CÓPIA\n",
        "lista_nova = lista_abc.copy()\n",
        "lista_nova"
      ],
      "metadata": {
        "colab": {
          "base_uri": "https://localhost:8080/"
        },
        "id": "6rtLhMFTt65F",
        "outputId": "ca7d2677-d354-472d-ba42-570c257cea15"
      },
      "execution_count": 243,
      "outputs": [
        {
          "output_type": "execute_result",
          "data": {
            "text/plain": [
              "['w', 'l', 'e', 'P', 'A']"
            ]
          },
          "metadata": {},
          "execution_count": 243
        }
      ]
    },
    {
      "cell_type": "code",
      "source": [
        "# essa forma é menos segura, pois enquanto o primeiro faz uma cpóia do que foi repassado\n",
        "#esse daqui, pode ter seus valores alterados conforme a lista original mude\n",
        "lista_nova1 = lista_abc\n",
        "lista_nova1"
      ],
      "metadata": {
        "colab": {
          "base_uri": "https://localhost:8080/"
        },
        "id": "PEb7GD-euNrC",
        "outputId": "d6921327-117e-45eb-98f7-bcb504de9f74"
      },
      "execution_count": 245,
      "outputs": [
        {
          "output_type": "execute_result",
          "data": {
            "text/plain": [
              "['w', 'l', 'e', 'P', 'A']"
            ]
          },
          "metadata": {},
          "execution_count": 245
        }
      ]
    },
    {
      "cell_type": "code",
      "source": [
        "#para descobrir qual o index de um elemento, usa-se o index\n",
        "lista_nova1.index('e')"
      ],
      "metadata": {
        "colab": {
          "base_uri": "https://localhost:8080/"
        },
        "id": "KCd3d_uzuifF",
        "outputId": "30362f96-2aec-47d2-c33d-7b42be68f263"
      },
      "execution_count": 246,
      "outputs": [
        {
          "output_type": "execute_result",
          "data": {
            "text/plain": [
              "2"
            ]
          },
          "metadata": {},
          "execution_count": 246
        }
      ]
    },
    {
      "cell_type": "code",
      "source": [
        ""
      ],
      "metadata": {
        "id": "RlIHabkUu8vI"
      },
      "execution_count": null,
      "outputs": []
    }
  ]
}